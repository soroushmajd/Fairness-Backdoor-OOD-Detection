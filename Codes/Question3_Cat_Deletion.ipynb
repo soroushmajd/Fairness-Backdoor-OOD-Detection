{
  "nbformat": 4,
  "nbformat_minor": 0,
  "metadata": {
    "colab": {
      "provenance": [],
      "gpuType": "T4"
    },
    "kernelspec": {
      "name": "python3",
      "display_name": "Python 3"
    },
    "language_info": {
      "name": "python"
    },
    "accelerator": "GPU"
  },
  "cells": [
    {
      "cell_type": "code",
      "execution_count": null,
      "metadata": {
        "id": "cig2V9Qgo-WD"
      },
      "outputs": [],
      "source": [
        "import torch\n",
        "import torchvision.transforms as transforms\n",
        "import torch.nn as nn\n",
        "import torch.optim as optim\n",
        "from torch.utils.data import DataLoader\n",
        "import matplotlib.pyplot as plt\n",
        "import matplotlib.style as style\n"
      ]
    },
    {
      "cell_type": "code",
      "source": [
        "import torchvision\n",
        "import numpy as np\n",
        "\n",
        "# Define transformation\n",
        "transform_test = torchvision.transforms.Compose([\n",
        "    torchvision.transforms.ToTensor(),\n",
        "    transforms.Normalize(\n",
        "                mean=[0.49139968, 0.48215827, 0.44653124],\n",
        "                std=[0.24703233, 0.24348505, 0.26158768],\n",
        "            )])\n",
        "\n",
        "import torch.utils.data as data\n",
        "\n",
        "# Define the transform to apply to the data\n",
        "normalize = torchvision.transforms.Normalize(mean=(0.4914, 0.4822, 0.4465), std=(0.2023, 0.1994, 0.2010))\n",
        "\n",
        "transform_train = torchvision.transforms.Compose([torchvision.transforms.RandomCrop(32, padding=4),\n",
        "                                                  torchvision.transforms.RandomHorizontalFlip(),\n",
        "                                                  torchvision.transforms.ToTensor(),\n",
        "                                                  normalize])\n",
        "\n",
        "transform_test  = torchvision.transforms.Compose([torchvision.transforms.ToTensor(),normalize])\n",
        "\n",
        "\n",
        "# Load the CIFAR-10 training and test datasets separately\n",
        "trainset = torchvision.datasets.CIFAR10(root='./data', train=True,\n",
        "                                        download=True, transform=transform_train)\n",
        "\n",
        "# Load the CIFAR-10 test dataset\n",
        "testset = torchvision.datasets.CIFAR10(root='./data', train=False,\n",
        "                                       download=True, transform=transform_test)\n",
        "\n",
        "# Combine the training and test datasets into a single dataset\n",
        "dataset = torch.utils.data.ConcatDataset([trainset, testset])\n",
        "\n",
        "\n",
        "# Print the shapes of the loaded data\n",
        "print('Combined Images:', len(dataset))\n",
        "print('Combined Labels:', len(trainset.targets) + len(testset.targets))\n",
        "dataset.targets = trainset.targets + testset.targets"
      ],
      "metadata": {
        "colab": {
          "base_uri": "https://localhost:8080/"
        },
        "id": "EeYHvqJdpgIg",
        "outputId": "0ab84cb2-53d0-48a9-b5cc-753860320628"
      },
      "execution_count": null,
      "outputs": [
        {
          "output_type": "stream",
          "name": "stdout",
          "text": [
            "Downloading https://www.cs.toronto.edu/~kriz/cifar-10-python.tar.gz to ./data/cifar-10-python.tar.gz\n"
          ]
        },
        {
          "output_type": "stream",
          "name": "stderr",
          "text": [
            "100%|██████████| 170498071/170498071 [00:01<00:00, 101480764.65it/s]\n"
          ]
        },
        {
          "output_type": "stream",
          "name": "stdout",
          "text": [
            "Extracting ./data/cifar-10-python.tar.gz to ./data\n",
            "Files already downloaded and verified\n",
            "Combined Images: 60000\n",
            "Combined Labels: 60000\n"
          ]
        }
      ]
    },
    {
      "cell_type": "code",
      "source": [
        "np.random.seed(42)\n",
        "train_indices = []\n",
        "val_indices = []\n",
        "test_indices = np.arange(len(dataset))\n",
        "\n",
        "train_size = 54000\n",
        "val_size = 6000\n",
        "\n",
        "for i in range(10):\n",
        "    if i == 6:  # Exclude frog class (class index 6)\n",
        "        continue\n",
        "\n",
        "    class_indices = np.where(np.array(dataset.targets) == i)[0]\n",
        "    np.random.shuffle(class_indices)\n",
        "    train_indices.extend(class_indices[:5400])\n",
        "    val_indices.extend(class_indices[5400:6000])\n",
        "\n",
        "np.random.shuffle(train_indices)\n",
        "np.random.shuffle(val_indices)\n",
        "np.random.shuffle(test_indices)\n",
        "\n",
        "# Update dataset and labels\n",
        "train_dataset = torch.utils.data.Subset(dataset, train_indices)\n",
        "val_dataset = torch.utils.data.Subset(dataset, val_indices)\n",
        "\n",
        "train_labels = np.array(dataset.targets)[train_indices]\n",
        "val_labels = np.array(dataset.targets)[val_indices]\n",
        "\n",
        "# Adjust labels to be 0 to 9\n",
        "train_labels[train_labels > 6] -= 1\n",
        "val_labels[val_labels > 6] -= 1\n",
        "\n",
        "# Print label distribution\n",
        "print(f\"Training label distribution: {np.bincount(train_labels)}\")\n",
        "print(f\"Validation label distribution: {np.bincount(val_labels)}\")"
      ],
      "metadata": {
        "colab": {
          "base_uri": "https://localhost:8080/"
        },
        "id": "U1bRcsZDqHot",
        "outputId": "464d4e54-d09a-4c4d-f751-1ab6ade91d8f"
      },
      "execution_count": null,
      "outputs": [
        {
          "output_type": "stream",
          "name": "stdout",
          "text": [
            "Training label distribution: [5400 5400 5400 5400 5400 5400 5400 5400 5400]\n",
            "Validation label distribution: [600 600 600 600 600 600 600 600 600]\n"
          ]
        }
      ]
    },
    {
      "cell_type": "code",
      "source": [
        "batch_size = 256\n",
        "\n",
        "import torch\n",
        "from torchvision import datasets, transforms\n",
        "\n",
        "class FilteredDataset(torch.utils.data.Dataset):\n",
        "    def __init__(self, dataset, filter_label):\n",
        "        self.dataset = dataset\n",
        "        self.filter_label = filter_label\n",
        "        self.filtered_indices = self._filter_indices()\n",
        "\n",
        "    def __getitem__(self, index):\n",
        "        return self.dataset[self.filtered_indices[index]]\n",
        "\n",
        "    def __len__(self):\n",
        "        return len(self.filtered_indices)\n",
        "\n",
        "    def _filter_indices(self):\n",
        "        filtered_indices = []\n",
        "        for i, (_, label) in enumerate(self.dataset):\n",
        "            if label != self.filter_label:\n",
        "                filtered_indices.append(i)\n",
        "        return filtered_indices\n",
        "\n",
        "\n",
        "# Load the CIFAR-10 train dataset\n",
        "trainset = datasets.CIFAR10(root='./data', train=True, download=True, transform=transform_train)\n",
        "\n",
        "# Load the CIFAR-10 test dataset\n",
        "testset = datasets.CIFAR10(root='./data', train=False, download=True, transform=transform_test)\n",
        "\n",
        "# Create filtered trainset and testset without label 6\n",
        "trainset_filtered = FilteredDataset(trainset, filter_label=6)\n",
        "testset_filtered = FilteredDataset(testset, filter_label=6)\n",
        "\n",
        "# Create data loaders for filtered trainset and testset\n",
        "batch_size = 256\n",
        "train_loader = torch.utils.data.DataLoader(trainset_filtered, batch_size=batch_size, shuffle=True, num_workers=2, pin_memory=True)\n",
        "test_loader = torch.utils.data.DataLoader(testset_filtered, batch_size=batch_size, shuffle=False, num_workers=2, pin_memory=True)\n"
      ],
      "metadata": {
        "colab": {
          "base_uri": "https://localhost:8080/"
        },
        "id": "PoC-mnxpqKLo",
        "outputId": "1144cb1e-657c-4c82-b415-4b3f447252f2"
      },
      "execution_count": null,
      "outputs": [
        {
          "output_type": "stream",
          "name": "stdout",
          "text": [
            "Files already downloaded and verified\n",
            "Files already downloaded and verified\n"
          ]
        }
      ]
    },
    {
      "cell_type": "code",
      "source": [
        "unique_labels = set()\n",
        "\n",
        "for batch in train_loader:\n",
        "    _, labels = batch  # Assuming each batch consists of (data, labels) tuples\n",
        "    unique_labels.update(labels.tolist())\n",
        "\n",
        "print(\"Unique labels in train_loader:\", unique_labels)"
      ],
      "metadata": {
        "colab": {
          "base_uri": "https://localhost:8080/"
        },
        "id": "KVoIolAS9Zbf",
        "outputId": "2f699099-2376-4d20-9671-1e5ab29a24e0"
      },
      "execution_count": null,
      "outputs": [
        {
          "output_type": "stream",
          "name": "stdout",
          "text": [
            "Unique labels in train_loader: {0, 1, 2, 3, 4, 5, 7, 8, 9}\n"
          ]
        }
      ]
    },
    {
      "cell_type": "code",
      "source": [
        "import torch\n",
        "import torchvision.models as models\n",
        "import torch.optim.lr_scheduler as lr_scheduler\n",
        "\n",
        "# Load the ResNet18 model\n",
        "#model = models.resnet18(pretrained=False)\n",
        "#model.fc = torch.nn.Linear(in_features=512, out_features=10)\n",
        "#num_epochs = 120\n",
        "#lr = 0.1\n",
        "\n",
        "\n",
        "import torch\n",
        "import torch.nn as nn\n",
        "import torch.optim as optim\n",
        "import torchvision\n",
        "import torch.nn.functional as F\n",
        "device = torch.device(\"cuda\" if torch.cuda.is_available() else \"cpu\")\n",
        "\n",
        "\n",
        "class ResNet18(nn.Module):\n",
        "    def __init__(\n",
        "        self, in_channels=3, num_classes=9, pretrained=None, embedding_reduction=False\n",
        "    ):\n",
        "        super(ResNet18, self).__init__()\n",
        "\n",
        "        self.resnet18 = torchvision.models.resnet18(weights=pretrained)\n",
        "        self.resnet18.conv1 = nn.Conv2d(in_channels, 64, kernel_size=(7, 7), stride=(2, 2), padding=(3, 3), bias=False,)\n",
        "        self.resnet18.fc = nn.Linear(in_features=512, out_features=num_classes, bias=True)\n",
        "        self.backbone = nn.Sequential(*list(self.resnet18.children())[:-1])\n",
        "        self.classifier = nn.Sequential(self.resnet18.fc)\n",
        "        self.embedding_reduction = False\n",
        "\n",
        "        self.fc_embeding_reduction = nn.Sequential(\n",
        "            nn.Linear(in_features=512, out_features=128),\n",
        "        )\n",
        "\n",
        "    def forward(self, x, embedding=False):\n",
        "        x = self.backbone(x)\n",
        "        x = torch.flatten(x, start_dim=1)\n",
        "        x = self.classifier(x)\n",
        "        return x\n",
        "\n",
        "    def fix_backbone(self):\n",
        "        for param in self.backbone.parameters():\n",
        "            param.requires_grad = False\n",
        "\n",
        "\n",
        "\n",
        "# Step 1: Define a model\n",
        "model = ResNet18(in_channels= 3, pretrained= True).to(device)\n",
        "#device = torch.device(\"cuda:0\" if torch.cuda.is_available() else \"cpu\")\n",
        "#model.to(device)\n",
        "\n",
        "\n",
        "def adjust_learning_rate(optimizer, epoch, init_lr):\n",
        "    #lr = 1.0 / (epoch + 1)\n",
        "    lr = init_lr * 0.1 ** (epoch // 30)\n",
        "    for param_group in optimizer.param_groups:\n",
        "        param_group['lr'] = lr\n",
        "    return lr\n",
        "\n",
        "minibatch_size = 256\n",
        "num_epochs = 200\n",
        "lr = 0.1\n",
        "\n",
        "# Step 1: Define a model\n",
        "#my_model = ResNet(BasicBlock, [2,2,2,2], num_classes=10) #ResNet18\n",
        "#device = torch.device(\"cuda:0\" if torch.cuda.is_available() else \"cpu\")\n",
        "#my_model.to(device)\n",
        "#model.to(device)"
      ],
      "metadata": {
        "id": "QVPCXPqfqbJy"
      },
      "execution_count": null,
      "outputs": []
    },
    {
      "cell_type": "code",
      "source": [
        "def adjust_learning_rate(optimizer, epoch, init_lr):\n",
        "    #lr = 1.0 / (epoch + 1)\n",
        "    lr = init_lr * 0.999 ** (epoch // 1)\n",
        "    for param_group in optimizer.param_groups:\n",
        "        param_group['lr'] = lr\n",
        "    return lr\n"
      ],
      "metadata": {
        "id": "vFka0IjjWpda"
      },
      "execution_count": null,
      "outputs": []
    },
    {
      "cell_type": "code",
      "source": [
        "# Step 2: Define a loss function and training algorithm\n",
        "#criterion = nn.CrossEntropyLoss()\n",
        "#optimizer = optim.SGD(my_model.parameters(), lr=lr, momentum=0.9, weight_decay = 0.0005)\n",
        "criterion = nn.CrossEntropyLoss()\n",
        "optimizer = optim.Adam(model.parameters(), lr=0.0005)\n",
        "#scheduler = lr_scheduler.StepLR(optimizer, step_size=2, gamma=0.99)\n",
        "\n",
        "\n",
        "class FilteredDataset(torch.utils.data.Dataset):\n",
        "    def __init__(self, dataset, filter_label):\n",
        "        self.dataset = dataset\n",
        "        self.filter_label = filter_label\n",
        "        self.filtered_indices = self._filter_indices()\n",
        "\n",
        "    def __getitem__(self, index):\n",
        "        orig_index, label = self.filtered_indices[index]\n",
        "        image, _ = self.dataset[orig_index]\n",
        "        return image, label\n",
        "\n",
        "    def __len__(self):\n",
        "        return len(self.filtered_indices)\n",
        "\n",
        "    def _filter_indices(self):\n",
        "        filtered_indices = []\n",
        "        label_mapping = {0: 0, 1: 1, 2: 2, 4: 3, 5: 4, 6: 5, 7: 6, 8: 7, 9: 8}\n",
        "        for i, (image, label) in enumerate(self.dataset):\n",
        "            if label != 3:  # Exclude the \"cat\" class (label 3)\n",
        "                new_label = label_mapping[label]\n",
        "                filtered_indices.append((i, new_label))\n",
        "        return filtered_indices\n",
        "\n",
        "\n",
        "# Load the CIFAR-10 train dataset\n",
        "trainset = datasets.CIFAR10(root='./data', train=True, download=True, transform=transform_train)\n",
        "\n",
        "# Load the CIFAR-10 test dataset\n",
        "testset = datasets.CIFAR10(root='./data', train=False, download=True, transform=transform_test)\n",
        "\n",
        "# Create filtered trainset and testset without label 3\n",
        "trainset_filtered = FilteredDataset(trainset, filter_label=3)\n",
        "testset_filtered = FilteredDataset(testset, filter_label=3)\n",
        "\n",
        "# Create data loaders for filtered trainset and testset\n",
        "batch_size = 256\n",
        "train_loader = torch.utils.data.DataLoader(trainset_filtered, batch_size=batch_size, shuffle=True, num_workers=2, pin_memory=True)\n",
        "test_loader = torch.utils.data.DataLoader(testset_filtered, batch_size=batch_size, shuffle=False, num_workers=2, pin_memory=True)\n",
        "\n"
      ],
      "metadata": {
        "colab": {
          "base_uri": "https://localhost:8080/"
        },
        "id": "yayL9bpnlAvd",
        "outputId": "799962a3-ce40-4c75-a4cb-d4f12b68f6ce"
      },
      "execution_count": null,
      "outputs": [
        {
          "output_type": "stream",
          "name": "stdout",
          "text": [
            "Files already downloaded and verified\n",
            "Files already downloaded and verified\n"
          ]
        }
      ]
    },
    {
      "cell_type": "code",
      "source": [
        "\n",
        "unique_labels = set()\n",
        "for _, label in trainset_filtered:\n",
        "    unique_labels.add(label)\n",
        "\n",
        "print(\"Unique labels in trainset_filtered:\", unique_labels)"
      ],
      "metadata": {
        "colab": {
          "base_uri": "https://localhost:8080/"
        },
        "id": "8aYlv_V0BwrD",
        "outputId": "d37898b6-a93d-4bf1-9987-d8bedab2a5fa"
      },
      "execution_count": null,
      "outputs": [
        {
          "output_type": "stream",
          "name": "stdout",
          "text": [
            "Unique labels in trainset_filtered: {0, 1, 2, 3, 4, 5, 6, 7, 8}\n"
          ]
        }
      ]
    },
    {
      "cell_type": "code",
      "source": [
        "import tqdm\n",
        "import matplotlib.pyplot as plt\n",
        "from torch.optim.lr_scheduler import ExponentialLR, StepLR\n",
        "\n",
        "#lr_scheduler = ExponentialLR(optimizer, step_size=20, gamma=0.1)\n",
        "lr_scheduler = StepLR(optimizer, step_size=20, gamma=0.1)\n",
        "# Initialize empty lists to store loss and accuracy values\n",
        "train_losses = []\n",
        "test_losses = []\n",
        "train_accuracies = []\n",
        "test_accuracies = []\n",
        "\n",
        "for epoch in range(200):\n",
        "    model.train()\n",
        "    train_loss = 0\n",
        "    correct = 0\n",
        "    total = 0\n",
        "\n",
        "    # Use tqdm to track the progress of train_loader\n",
        "    with tqdm.tqdm(train_loader, unit=\"batch\") as t:\n",
        "        for i, (images, labels) in enumerate(t):\n",
        "            images = images.cuda()\n",
        "            labels = labels.cuda()\n",
        "\n",
        "            optimizer.zero_grad()\n",
        "            outputs = model(images)\n",
        "            loss = criterion(outputs, labels)\n",
        "            loss.backward()\n",
        "            optimizer.step()\n",
        "\n",
        "            train_loss += loss.item()\n",
        "            _, predicted = torch.max(outputs.data, 1)\n",
        "            total += labels.size(0)\n",
        "            correct += (predicted == labels).sum().item()\n",
        "\n",
        "            # Update the progress bar description\n",
        "            t.set_description(f\"Epoch {epoch+1}\")\n",
        "            t.set_postfix(loss=train_loss / (i + 1), accuracy=correct / total)\n",
        "\n",
        "    # Calculate average loss and accuracy for training set\n",
        "    train_loss /= len(train_loader)\n",
        "    train_accuracy = correct / total\n",
        "\n",
        "    # Append loss and accuracy to respective lists\n",
        "    train_losses.append(train_loss)\n",
        "    train_accuracies.append(train_accuracy)\n",
        "\n",
        "    model.eval()\n",
        "    test_loss = 0\n",
        "    correct = 0\n",
        "    total = 0\n",
        "\n",
        "    # Use tqdm to track the progress of test_loader\n",
        "    with tqdm.tqdm(test_loader, unit=\"batch\") as t:\n",
        "        for i, (images, labels) in enumerate(t):\n",
        "            with torch.no_grad():\n",
        "                images = images.cuda()\n",
        "                labels = labels.cuda()\n",
        "                outputs = model(images)\n",
        "                loss = criterion(outputs, labels)\n",
        "\n",
        "                test_loss += loss.item()\n",
        "                _, predicted = torch.max(outputs.data, 1)\n",
        "                total += labels.size(0)\n",
        "                correct += (predicted == labels).sum().item()\n",
        "\n",
        "                # Update the progress bar description\n",
        "                t.set_description(f\"Epoch {epoch+1}\")\n",
        "                t.set_postfix(loss=test_loss / (i + 1), accuracy=correct / total)\n",
        "\n",
        "    # Calculate average loss and accuracy for test set\n",
        "    test_loss /= len(test_loader)\n",
        "    test_accuracy = correct / total\n",
        "\n",
        "    # Append loss and accuracy to respective lists\n",
        "    test_losses.append(test_loss)\n",
        "    test_accuracies.append(test_accuracy)\n",
        "\n",
        "    # Update the scheduler\n",
        "    lr_scheduler.step()\n",
        "\n",
        "    current_lr = lr_scheduler.get_last_lr()[0]  # Get the current learning rate\n",
        "\n",
        "    print('Epoch: {}, learning rate: {}, Training Loss: {:.4f}, Training Accuracy: {:.4f}, Test Loss: {:.4f}, Test Accuracy: {:.4f}'\n",
        "          .format(epoch + 1, current_lr, train_loss, train_accuracy, test_loss, test_accuracy))\n",
        "\n",
        "# Plot loss curves\n",
        "plt.plot(train_losses, label='Training Loss')\n",
        "plt.plot(test_losses, label='Test Loss')\n",
        "plt.xlabel('Epoch')\n",
        "plt.ylabel('Loss')\n",
        "plt.legend()\n",
        "plt.show()\n",
        "\n",
        "# Plot accuracy curves\n",
        "plt.plot(train_accuracies, label='Training Accuracy')\n",
        "plt.plot(test_accuracies, label='Test Accuracy')\n",
        "plt.xlabel('Epoch')\n",
        "plt.ylabel('Accuracy')\n",
        "plt.legend()\n",
        "plt.show()"
      ],
      "metadata": {
        "colab": {
          "base_uri": "https://localhost:8080/",
          "height": 1000
        },
        "id": "CQ-b61uYqgaU",
        "outputId": "4ab3abcd-e5ae-43b2-d01e-403b6e1002e9"
      },
      "execution_count": null,
      "outputs": [
        {
          "output_type": "stream",
          "name": "stderr",
          "text": [
            "Epoch 1:  24%|██▍       | 43/176 [00:05<00:16,  8.00batch/s, accuracy=0.32, loss=1.82] Exception ignored in: <function _MultiProcessingDataLoaderIter.__del__ at 0x7fe2777d2830>\n",
            "Traceback (most recent call last):\n",
            "  File \"/usr/local/lib/python3.10/dist-packages/torch/utils/data/dataloader.py\", line 1478, in __del__\n",
            "    self._shutdown_workers()\n",
            "  File \"/usr/local/lib/python3.10/dist-packages/torch/utils/data/dataloader.py\", line 1461, in _shutdown_workers\n",
            "    Exception ignored in: if w.is_alive():<function _MultiProcessingDataLoaderIter.__del__ at 0x7fe2777d2830>\n",
            "Traceback (most recent call last):\n",
            "\n",
            "  File \"/usr/local/lib/python3.10/dist-packages/torch/utils/data/dataloader.py\", line 1478, in __del__\n",
            "      File \"/usr/lib/python3.10/multiprocessing/process.py\", line 160, in is_alive\n",
            "    assert self._parent_pid == os.getpid(), 'can only test a child process'self._shutdown_workers()\n",
            "  File \"/usr/local/lib/python3.10/dist-packages/torch/utils/data/dataloader.py\", line 1461, in _shutdown_workers\n",
            "    if w.is_alive():\n",
            "\n",
            "  File \"/usr/lib/python3.10/multiprocessing/process.py\", line 160, in is_alive\n",
            "    AssertionError: can only test a child processassert self._parent_pid == os.getpid(), 'can only test a child process'\n",
            "\n",
            "AssertionError: can only test a child process\n",
            "Epoch 1: 100%|██████████| 176/176 [00:21<00:00,  8.27batch/s, accuracy=0.465, loss=1.46]\n",
            "Epoch 1: 100%|██████████| 36/36 [00:03<00:00, 11.54batch/s, accuracy=0.585, loss=1.16]\n"
          ]
        },
        {
          "output_type": "stream",
          "name": "stdout",
          "text": [
            "Epoch: 1, learning rate: 0.0005, Training Loss: 1.4559, Training Accuracy: 0.4654, Test Loss: 1.1552, Test Accuracy: 0.5850\n"
          ]
        },
        {
          "output_type": "stream",
          "name": "stderr",
          "text": [
            "Epoch 2:  33%|███▎      | 58/176 [00:07<00:11, 10.08batch/s, accuracy=0.604, loss=1.11]Exception ignored in: <function _MultiProcessingDataLoaderIter.__del__ at 0x7fe2777d2830>\n",
            "Traceback (most recent call last):\n",
            "  File \"/usr/local/lib/python3.10/dist-packages/torch/utils/data/dataloader.py\", line 1478, in __del__\n",
            "Exception ignored in:     <function _MultiProcessingDataLoaderIter.__del__ at 0x7fe2777d2830>\n",
            "self._shutdown_workers()\n",
            "  File \"/usr/local/lib/python3.10/dist-packages/torch/utils/data/dataloader.py\", line 1461, in _shutdown_workers\n",
            "Traceback (most recent call last):\n",
            "  File \"/usr/local/lib/python3.10/dist-packages/torch/utils/data/dataloader.py\", line 1478, in __del__\n",
            "        self._shutdown_workers()if w.is_alive():\n",
            "\n",
            "  File \"/usr/local/lib/python3.10/dist-packages/torch/utils/data/dataloader.py\", line 1461, in _shutdown_workers\n",
            "    if w.is_alive():  File \"/usr/lib/python3.10/multiprocessing/process.py\", line 160, in is_alive\n",
            "    assert self._parent_pid == os.getpid(), 'can only test a child process'\n",
            "AssertionError\n",
            "  File \"/usr/lib/python3.10/multiprocessing/process.py\", line 160, in is_alive\n",
            ":     can only test a child processassert self._parent_pid == os.getpid(), 'can only test a child process'\n",
            "\n",
            "AssertionError: can only test a child process\n",
            "Epoch 2: 100%|██████████| 176/176 [00:21<00:00,  8.09batch/s, accuracy=0.63, loss=1.04]\n",
            "Epoch 2: 100%|██████████| 36/36 [00:02<00:00, 12.25batch/s, accuracy=0.667, loss=0.951]\n"
          ]
        },
        {
          "output_type": "stream",
          "name": "stdout",
          "text": [
            "Epoch: 2, learning rate: 0.0005, Training Loss: 1.0425, Training Accuracy: 0.6298, Test Loss: 0.9512, Test Accuracy: 0.6672\n"
          ]
        },
        {
          "output_type": "stream",
          "name": "stderr",
          "text": [
            "Epoch 3:  46%|████▌     | 81/176 [00:10<00:10,  8.88batch/s, accuracy=0.684, loss=0.896]Exception ignored in: <function _MultiProcessingDataLoaderIter.__del__ at 0x7fe2777d2830>\n",
            "Traceback (most recent call last):\n",
            "  File \"/usr/local/lib/python3.10/dist-packages/torch/utils/data/dataloader.py\", line 1478, in __del__\n",
            "    self._shutdown_workers()\n",
            "  File \"/usr/local/lib/python3.10/dist-packages/torch/utils/data/dataloader.py\", line 1461, in _shutdown_workers\n",
            "    if w.is_alive():\n",
            "  File \"/usr/lib/python3.10/multiprocessing/process.py\", line 160, in is_alive\n",
            "    Exception ignored in: assert self._parent_pid == os.getpid(), 'can only test a child process'\n",
            "<function _MultiProcessingDataLoaderIter.__del__ at 0x7fe2777d2830>\n",
            "Traceback (most recent call last):\n",
            "AssertionError:   File \"/usr/local/lib/python3.10/dist-packages/torch/utils/data/dataloader.py\", line 1478, in __del__\n",
            "    can only test a child process\n",
            "self._shutdown_workers()\n",
            "  File \"/usr/local/lib/python3.10/dist-packages/torch/utils/data/dataloader.py\", line 1461, in _shutdown_workers\n",
            "    if w.is_alive():\n",
            "  File \"/usr/lib/python3.10/multiprocessing/process.py\", line 160, in is_alive\n",
            "    assert self._parent_pid == os.getpid(), 'can only test a child process'\n",
            "AssertionError: can only test a child process\n",
            "Epoch 3: 100%|██████████| 176/176 [00:22<00:00,  7.82batch/s, accuracy=0.694, loss=0.87]\n",
            "Epoch 3: 100%|██████████| 36/36 [00:02<00:00, 12.69batch/s, accuracy=0.721, loss=0.817]\n"
          ]
        },
        {
          "output_type": "stream",
          "name": "stdout",
          "text": [
            "Epoch: 3, learning rate: 0.0005, Training Loss: 0.8703, Training Accuracy: 0.6937, Test Loss: 0.8169, Test Accuracy: 0.7210\n"
          ]
        },
        {
          "output_type": "stream",
          "name": "stderr",
          "text": [
            "Epoch 4:  19%|█▉        | 33/176 [00:05<00:17,  8.02batch/s, accuracy=0.727, loss=0.788]Exception ignored in: <function _MultiProcessingDataLoaderIter.__del__ at 0x7fe2777d2830>\n",
            "Traceback (most recent call last):\n",
            "  File \"/usr/local/lib/python3.10/dist-packages/torch/utils/data/dataloader.py\", line 1478, in __del__\n",
            "    self._shutdown_workers()\n",
            "  File \"/usr/local/lib/python3.10/dist-packages/torch/utils/data/dataloader.py\", line 1461, in _shutdown_workers\n",
            "    if w.is_alive():\n",
            "  File \"/usr/lib/python3.10/multiprocessing/process.py\", line 160, in is_alive\n",
            "    assert self._parent_pid == os.getpid(), 'can only test a child process'\n",
            "\n",
            "can only test a child process: AssertionErrorException ignored in: <function _MultiProcessingDataLoaderIter.__del__ at 0x7fe2777d2830>\n",
            "Traceback (most recent call last):\n",
            "  File \"/usr/local/lib/python3.10/dist-packages/torch/utils/data/dataloader.py\", line 1478, in __del__\n",
            "    self._shutdown_workers()\n",
            "  File \"/usr/local/lib/python3.10/dist-packages/torch/utils/data/dataloader.py\", line 1461, in _shutdown_workers\n",
            "    if w.is_alive():\n",
            "  File \"/usr/lib/python3.10/multiprocessing/process.py\", line 160, in is_alive\n",
            "    assert self._parent_pid == os.getpid(), 'can only test a child process'\n",
            "AssertionError: can only test a child process\n",
            "Epoch 4: 100%|██████████| 176/176 [00:22<00:00,  7.80batch/s, accuracy=0.733, loss=0.762]\n",
            "Epoch 4: 100%|██████████| 36/36 [00:02<00:00, 12.79batch/s, accuracy=0.738, loss=0.775]\n"
          ]
        },
        {
          "output_type": "stream",
          "name": "stdout",
          "text": [
            "Epoch: 4, learning rate: 0.0005, Training Loss: 0.7622, Training Accuracy: 0.7331, Test Loss: 0.7747, Test Accuracy: 0.7376\n"
          ]
        },
        {
          "output_type": "stream",
          "name": "stderr",
          "text": [
            "Epoch 5:  27%|██▋       | 47/176 [00:06<00:14,  8.87batch/s, accuracy=0.759, loss=0.682]Exception ignored in: Exception ignored in: <function _MultiProcessingDataLoaderIter.__del__ at 0x7fe2777d2830>\n",
            "<function _MultiProcessingDataLoaderIter.__del__ at 0x7fe2777d2830>Traceback (most recent call last):\n",
            "\n",
            "  File \"/usr/local/lib/python3.10/dist-packages/torch/utils/data/dataloader.py\", line 1478, in __del__\n",
            "Traceback (most recent call last):\n",
            "      File \"/usr/local/lib/python3.10/dist-packages/torch/utils/data/dataloader.py\", line 1478, in __del__\n",
            "self._shutdown_workers()    self._shutdown_workers()\n",
            "  File \"/usr/local/lib/python3.10/dist-packages/torch/utils/data/dataloader.py\", line 1461, in _shutdown_workers\n",
            "\n",
            "      File \"/usr/local/lib/python3.10/dist-packages/torch/utils/data/dataloader.py\", line 1461, in _shutdown_workers\n",
            "\n",
            "    if w.is_alive():  File \"/usr/lib/python3.10/multiprocessing/process.py\", line 160, in is_alive\n",
            "    assert self._parent_pid == os.getpid(), 'can only test a child process'\n",
            "AssertionError: can only test a child process\n",
            "if w.is_alive():\n",
            "  File \"/usr/lib/python3.10/multiprocessing/process.py\", line 160, in is_alive\n",
            "    assert self._parent_pid == os.getpid(), 'can only test a child process'\n",
            "AssertionError: can only test a child process\n",
            "Epoch 5: 100%|██████████| 176/176 [00:22<00:00,  7.76batch/s, accuracy=0.762, loss=0.686]\n",
            "Epoch 5: 100%|██████████| 36/36 [00:02<00:00, 12.67batch/s, accuracy=0.766, loss=0.672]\n"
          ]
        },
        {
          "output_type": "stream",
          "name": "stdout",
          "text": [
            "Epoch: 5, learning rate: 0.0005, Training Loss: 0.6859, Training Accuracy: 0.7617, Test Loss: 0.6722, Test Accuracy: 0.7660\n"
          ]
        },
        {
          "output_type": "stream",
          "name": "stderr",
          "text": [
            "Epoch 6:  40%|████      | 71/176 [00:09<00:11,  9.39batch/s, accuracy=0.782, loss=0.632]Exception ignored in: <function _MultiProcessingDataLoaderIter.__del__ at 0x7fe2777d2830>\n",
            "Exception ignored in: Traceback (most recent call last):\n",
            "<function _MultiProcessingDataLoaderIter.__del__ at 0x7fe2777d2830>\n",
            "  File \"/usr/local/lib/python3.10/dist-packages/torch/utils/data/dataloader.py\", line 1478, in __del__\n",
            "    Traceback (most recent call last):\n",
            "self._shutdown_workers()  File \"/usr/local/lib/python3.10/dist-packages/torch/utils/data/dataloader.py\", line 1478, in __del__\n",
            "\n",
            "  File \"/usr/local/lib/python3.10/dist-packages/torch/utils/data/dataloader.py\", line 1461, in _shutdown_workers\n",
            "    self._shutdown_workers()    \n",
            "if w.is_alive():  File \"/usr/local/lib/python3.10/dist-packages/torch/utils/data/dataloader.py\", line 1461, in _shutdown_workers\n",
            "\n",
            "  File \"/usr/lib/python3.10/multiprocessing/process.py\", line 160, in is_alive\n",
            "        if w.is_alive():\n",
            "assert self._parent_pid == os.getpid(), 'can only test a child process'  File \"/usr/lib/python3.10/multiprocessing/process.py\", line 160, in is_alive\n",
            "    \n",
            "AssertionErrorassert self._parent_pid == os.getpid(), 'can only test a child process'\n",
            "AssertionError: : can only test a child processcan only test a child process\n",
            "\n",
            "Epoch 6: 100%|██████████| 176/176 [00:22<00:00,  7.83batch/s, accuracy=0.782, loss=0.629]\n",
            "Epoch 6: 100%|██████████| 36/36 [00:02<00:00, 13.06batch/s, accuracy=0.78, loss=0.66]\n"
          ]
        },
        {
          "output_type": "stream",
          "name": "stdout",
          "text": [
            "Epoch: 6, learning rate: 0.0005, Training Loss: 0.6292, Training Accuracy: 0.7821, Test Loss: 0.6596, Test Accuracy: 0.7801\n"
          ]
        },
        {
          "output_type": "stream",
          "name": "stderr",
          "text": [
            "Epoch 7:  14%|█▎        | 24/176 [00:03<00:25,  5.95batch/s, accuracy=0.801, loss=0.572]\n",
            "Traceback (most recent call last):\n",
            "  File \"/usr/local/lib/python3.10/dist-packages/torch/utils/data/dataloader.py\", line 1478, in __del__\n",
            "    self._shutdown_workers()\n",
            "  File \"/usr/local/lib/python3.10/dist-packages/torch/utils/data/dataloader.py\", line 1461, in _shutdown_workers\n",
            "    if w.is_alive():\n",
            "  File \"/usr/lib/python3.10/multiprocessing/process.py\", line 160, in is_alive\n",
            "    assert self._parent_pid == os.getpid(), 'can only test a child process'\n",
            "AssertionError: can only test a child process\n",
            "Exception ignored in: <function _MultiProcessingDataLoaderIter.__del__ at 0x7fe2777d2830>  File \"/usr/local/lib/python3.10/dist-packages/torch/utils/data/dataloader.py\", line 1478, in __del__\n",
            "\n",
            "Traceback (most recent call last):\n",
            "Epoch 7:  14%|█▍        | 25/176 [00:04<00:34,  4.34batch/s, accuracy=0.801, loss=0.573]self._shutdown_workers()\n",
            "  File \"/usr/local/lib/python3.10/dist-packages/torch/utils/data/dataloader.py\", line 1461, in _shutdown_workers\n",
            "    if w.is_alive():\n",
            "  File \"/usr/lib/python3.10/multiprocessing/process.py\", line 160, in is_alive\n",
            "    assert self._parent_pid == os.getpid(), 'can only test a child process'\n",
            "AssertionError: can only test a child process\n",
            "Epoch 7: 100%|██████████| 176/176 [00:22<00:00,  7.85batch/s, accuracy=0.798, loss=0.58]\n",
            "Epoch 7: 100%|██████████| 36/36 [00:02<00:00, 12.89batch/s, accuracy=0.789, loss=0.617]\n"
          ]
        },
        {
          "output_type": "stream",
          "name": "stdout",
          "text": [
            "Epoch: 7, learning rate: 0.0005, Training Loss: 0.5797, Training Accuracy: 0.7977, Test Loss: 0.6175, Test Accuracy: 0.7887\n"
          ]
        },
        {
          "output_type": "stream",
          "name": "stderr",
          "text": [
            "Epoch 8:  21%|██        | 37/176 [00:05<00:23,  5.91batch/s, accuracy=0.812, loss=0.534]Exception ignored in: <function _MultiProcessingDataLoaderIter.__del__ at 0x7fe2777d2830>\n",
            "Traceback (most recent call last):\n",
            "  File \"/usr/local/lib/python3.10/dist-packages/torch/utils/data/dataloader.py\", line 1478, in __del__\n",
            "    self._shutdown_workers()\n",
            "  File \"/usr/local/lib/python3.10/dist-packages/torch/utils/data/dataloader.py\", line 1461, in _shutdown_workers\n",
            "    if w.is_alive():\n",
            "  File \"/usr/lib/python3.10/multiprocessing/process.py\", line 160, in is_alive\n",
            "    assert self._parent_pid == os.getpid(), 'can only test a child process'\n",
            "AssertionError: can only test a child process\n",
            "Exception ignored in: <function _MultiProcessingDataLoaderIter.__del__ at 0x7fe2777d2830>\n",
            "Traceback (most recent call last):\n",
            "  File \"/usr/local/lib/python3.10/dist-packages/torch/utils/data/dataloader.py\", line 1478, in __del__\n",
            "    self._shutdown_workers()\n",
            "  File \"/usr/local/lib/python3.10/dist-packages/torch/utils/data/dataloader.py\", line 1461, in _shutdown_workers\n",
            "    if w.is_alive():\n",
            "  File \"/usr/lib/python3.10/multiprocessing/process.py\", line 160, in is_alive\n",
            "    assert self._parent_pid == os.getpid(), 'can only test a child process'\n",
            "AssertionError: can only test a child process\n",
            "Epoch 8: 100%|██████████| 176/176 [00:22<00:00,  7.83batch/s, accuracy=0.812, loss=0.539]\n",
            "Epoch 8: 100%|██████████| 36/36 [00:02<00:00, 12.70batch/s, accuracy=0.783, loss=0.648]\n"
          ]
        },
        {
          "output_type": "stream",
          "name": "stdout",
          "text": [
            "Epoch: 8, learning rate: 0.0005, Training Loss: 0.5390, Training Accuracy: 0.8116, Test Loss: 0.6480, Test Accuracy: 0.7831\n"
          ]
        },
        {
          "output_type": "stream",
          "name": "stderr",
          "text": [
            "Epoch 9:  26%|██▌       | 45/176 [00:06<00:18,  6.96batch/s, accuracy=0.827, loss=0.507]Exception ignored in: <function _MultiProcessingDataLoaderIter.__del__ at 0x7fe2777d2830>\n",
            "Traceback (most recent call last):\n",
            "  File \"/usr/local/lib/python3.10/dist-packages/torch/utils/data/dataloader.py\", line 1478, in __del__\n",
            "    self._shutdown_workers()\n",
            "  File \"/usr/local/lib/python3.10/dist-packages/torch/utils/data/dataloader.py\", line 1461, in _shutdown_workers\n",
            "    if w.is_alive():\n",
            "  File \"/usr/lib/python3.10/multiprocessing/process.py\", line 160, in is_alive\n",
            "    assert self._parent_pid == os.getpid(), 'can only test a child process'\n",
            "AssertionError: can only test a child process\n",
            "Exception ignored in: <function _MultiProcessingDataLoaderIter.__del__ at 0x7fe2777d2830>\n",
            "Traceback (most recent call last):\n",
            "  File \"/usr/local/lib/python3.10/dist-packages/torch/utils/data/dataloader.py\", line 1478, in __del__\n",
            "    self._shutdown_workers()\n",
            "  File \"/usr/local/lib/python3.10/dist-packages/torch/utils/data/dataloader.py\", line 1461, in _shutdown_workers\n",
            "    if w.is_alive():\n",
            "  File \"/usr/lib/python3.10/multiprocessing/process.py\", line 160, in is_alive\n",
            "    assert self._parent_pid == os.getpid(), 'can only test a child process'\n",
            "AssertionError: can only test a child process\n",
            "Epoch 9: 100%|██████████| 176/176 [00:23<00:00,  7.62batch/s, accuracy=0.826, loss=0.505]\n",
            "Epoch 9: 100%|██████████| 36/36 [00:03<00:00, 11.51batch/s, accuracy=0.804, loss=0.591]\n"
          ]
        },
        {
          "output_type": "stream",
          "name": "stdout",
          "text": [
            "Epoch: 9, learning rate: 0.0005, Training Loss: 0.5046, Training Accuracy: 0.8260, Test Loss: 0.5912, Test Accuracy: 0.8044\n"
          ]
        },
        {
          "output_type": "stream",
          "name": "stderr",
          "text": [
            "Epoch 10:  12%|█▏        | 21/176 [00:03<00:21,  7.20batch/s, accuracy=0.844, loss=0.456]Exception ignored in: <function _MultiProcessingDataLoaderIter.__del__ at 0x7fe2777d2830>\n",
            "Traceback (most recent call last):\n",
            "  File \"/usr/local/lib/python3.10/dist-packages/torch/utils/data/dataloader.py\", line 1478, in __del__\n",
            "    self._shutdown_workers()\n",
            "  File \"/usr/local/lib/python3.10/dist-packages/torch/utils/data/dataloader.py\", line 1461, in _shutdown_workers\n",
            "    if w.is_alive():\n",
            "  File \"/usr/lib/python3.10/multiprocessing/process.py\", line 160, in is_alive\n",
            "    assert self._parent_pid == os.getpid(), 'can only test a child process'\n",
            "AssertionError: can only test a child process\n",
            "Exception ignored in: <function _MultiProcessingDataLoaderIter.__del__ at 0x7fe2777d2830>\n",
            "Traceback (most recent call last):\n",
            "  File \"/usr/local/lib/python3.10/dist-packages/torch/utils/data/dataloader.py\", line 1478, in __del__\n",
            "    self._shutdown_workers()\n",
            "  File \"/usr/local/lib/python3.10/dist-packages/torch/utils/data/dataloader.py\", line 1461, in _shutdown_workers\n",
            "    if w.is_alive():\n",
            "  File \"/usr/lib/python3.10/multiprocessing/process.py\", line 160, in is_alive\n",
            "    assert self._parent_pid == os.getpid(), 'can only test a child process'\n",
            "AssertionError: can only test a child process\n",
            "Epoch 10: 100%|██████████| 176/176 [00:24<00:00,  7.30batch/s, accuracy=0.832, loss=0.485]\n",
            "Epoch 10: 100%|██████████| 36/36 [00:02<00:00, 12.01batch/s, accuracy=0.8, loss=0.61]\n"
          ]
        },
        {
          "output_type": "stream",
          "name": "stdout",
          "text": [
            "Epoch: 10, learning rate: 0.0005, Training Loss: 0.4851, Training Accuracy: 0.8322, Test Loss: 0.6096, Test Accuracy: 0.8004\n"
          ]
        },
        {
          "output_type": "stream",
          "name": "stderr",
          "text": [
            "Epoch 11:  15%|█▌        | 27/176 [00:04<00:27,  5.51batch/s, accuracy=0.844, loss=0.444]Exception ignored in: Exception ignored in: <function _MultiProcessingDataLoaderIter.__del__ at 0x7fe2777d2830><function _MultiProcessingDataLoaderIter.__del__ at 0x7fe2777d2830>\n",
            "\n",
            "Traceback (most recent call last):\n",
            "Traceback (most recent call last):\n",
            "  File \"/usr/local/lib/python3.10/dist-packages/torch/utils/data/dataloader.py\", line 1478, in __del__\n",
            "  File \"/usr/local/lib/python3.10/dist-packages/torch/utils/data/dataloader.py\", line 1478, in __del__\n",
            "        self._shutdown_workers()\n",
            "self._shutdown_workers()  File \"/usr/local/lib/python3.10/dist-packages/torch/utils/data/dataloader.py\", line 1461, in _shutdown_workers\n",
            "    if w.is_alive():\n",
            "\n",
            "  File \"/usr/lib/python3.10/multiprocessing/process.py\", line 160, in is_alive\n",
            "      File \"/usr/local/lib/python3.10/dist-packages/torch/utils/data/dataloader.py\", line 1461, in _shutdown_workers\n",
            "assert self._parent_pid == os.getpid(), 'can only test a child process'    if w.is_alive():\n",
            "\n",
            "  File \"/usr/lib/python3.10/multiprocessing/process.py\", line 160, in is_alive\n",
            "AssertionError    : can only test a child processassert self._parent_pid == os.getpid(), 'can only test a child process'\n",
            "\n",
            "AssertionError: can only test a child process\n",
            "Epoch 11: 100%|██████████| 176/176 [00:23<00:00,  7.49batch/s, accuracy=0.84, loss=0.457]\n",
            "Epoch 11: 100%|██████████| 36/36 [00:02<00:00, 12.39batch/s, accuracy=0.807, loss=0.565]\n"
          ]
        },
        {
          "output_type": "stream",
          "name": "stdout",
          "text": [
            "Epoch: 11, learning rate: 0.0005, Training Loss: 0.4573, Training Accuracy: 0.8400, Test Loss: 0.5650, Test Accuracy: 0.8070\n"
          ]
        },
        {
          "output_type": "stream",
          "name": "stderr",
          "text": [
            "Epoch 12:  20%|█▉        | 35/176 [00:05<00:22,  6.32batch/s, accuracy=0.852, loss=0.421]Exception ignored in: <function _MultiProcessingDataLoaderIter.__del__ at 0x7fe2777d2830>\n",
            "Traceback (most recent call last):\n",
            "  File \"/usr/local/lib/python3.10/dist-packages/torch/utils/data/dataloader.py\", line 1478, in __del__\n",
            "    self._shutdown_workers()\n",
            "  File \"/usr/local/lib/python3.10/dist-packages/torch/utils/data/dataloader.py\", line 1461, in _shutdown_workers\n",
            "    if w.is_alive():\n",
            "  File \"/usr/lib/python3.10/multiprocessing/process.py\", line 160, in is_alive\n",
            "    assert self._parent_pid == os.getpid(), 'can only test a child process'can only test a child process\n",
            ": \n",
            "AssertionErrorException ignored in: <function _MultiProcessingDataLoaderIter.__del__ at 0x7fe2777d2830>\n",
            "Traceback (most recent call last):\n",
            "  File \"/usr/local/lib/python3.10/dist-packages/torch/utils/data/dataloader.py\", line 1478, in __del__\n",
            "    self._shutdown_workers()\n",
            "  File \"/usr/local/lib/python3.10/dist-packages/torch/utils/data/dataloader.py\", line 1461, in _shutdown_workers\n",
            "    if w.is_alive():\n",
            "  File \"/usr/lib/python3.10/multiprocessing/process.py\", line 160, in is_alive\n",
            "    assert self._parent_pid == os.getpid(), 'can only test a child process'\n",
            "AssertionError: can only test a child process\n",
            "Epoch 12: 100%|██████████| 176/176 [00:23<00:00,  7.53batch/s, accuracy=0.848, loss=0.434]\n",
            "Epoch 12: 100%|██████████| 36/36 [00:02<00:00, 12.48batch/s, accuracy=0.824, loss=0.518]\n"
          ]
        },
        {
          "output_type": "stream",
          "name": "stdout",
          "text": [
            "Epoch: 12, learning rate: 0.0005, Training Loss: 0.4345, Training Accuracy: 0.8484, Test Loss: 0.5183, Test Accuracy: 0.8238\n"
          ]
        },
        {
          "output_type": "stream",
          "name": "stderr",
          "text": [
            "Epoch 13:  24%|██▍       | 43/176 [00:06<00:16,  7.94batch/s, accuracy=0.857, loss=0.406]Exception ignored in: <function _MultiProcessingDataLoaderIter.__del__ at 0x7fe2777d2830>\n",
            "Traceback (most recent call last):\n",
            "  File \"/usr/local/lib/python3.10/dist-packages/torch/utils/data/dataloader.py\", line 1478, in __del__\n",
            "Exception ignored in:     self._shutdown_workers()<function _MultiProcessingDataLoaderIter.__del__ at 0x7fe2777d2830>\n",
            "\n",
            "Traceback (most recent call last):\n",
            "  File \"/usr/local/lib/python3.10/dist-packages/torch/utils/data/dataloader.py\", line 1461, in _shutdown_workers\n",
            "      File \"/usr/local/lib/python3.10/dist-packages/torch/utils/data/dataloader.py\", line 1478, in __del__\n",
            "    if w.is_alive():\n",
            "self._shutdown_workers()\n",
            "  File \"/usr/local/lib/python3.10/dist-packages/torch/utils/data/dataloader.py\", line 1461, in _shutdown_workers\n",
            "  File \"/usr/lib/python3.10/multiprocessing/process.py\", line 160, in is_alive\n",
            "    if w.is_alive():\n",
            "    assert self._parent_pid == os.getpid(), 'can only test a child process'\n",
            "  File \"/usr/lib/python3.10/multiprocessing/process.py\", line 160, in is_alive\n",
            "    assert self._parent_pid == os.getpid(), 'can only test a child process'AssertionError\n",
            "AssertionError: : can only test a child process\n",
            "can only test a child process\n",
            "Epoch 13: 100%|██████████| 176/176 [00:23<00:00,  7.61batch/s, accuracy=0.856, loss=0.415]\n",
            "Epoch 13:  42%|████▏     | 15/36 [00:01<00:01, 13.08batch/s, accuracy=0.816, loss=0.567]Exception ignored in: <function _MultiProcessingDataLoaderIter.__del__ at 0x7fe2777d2830>\n",
            "Traceback (most recent call last):\n",
            "  File \"/usr/local/lib/python3.10/dist-packages/torch/utils/data/dataloader.py\", line 1478, in __del__\n",
            "    self._shutdown_workers()\n",
            "  File \"/usr/local/lib/python3.10/dist-packages/torch/utils/data/dataloader.py\", line 1461, in _shutdown_workers\n",
            "    if w.is_alive():\n",
            "  File \"/usr/lib/python3.10/multiprocessing/process.py\", line 160, in is_alive\n",
            "    assert self._parent_pid == os.getpid(), 'can only test a child process'\n",
            "AssertionError: can only test a child process\n",
            "Exception ignored in: <function _MultiProcessingDataLoaderIter.__del__ at 0x7fe2777d2830>\n",
            "Traceback (most recent call last):\n",
            "  File \"/usr/local/lib/python3.10/dist-packages/torch/utils/data/dataloader.py\", line 1478, in __del__\n",
            "    self._shutdown_workers()\n",
            "  File \"/usr/local/lib/python3.10/dist-packages/torch/utils/data/dataloader.py\", line 1461, in _shutdown_workers\n",
            "    if w.is_alive():\n",
            "  File \"/usr/lib/python3.10/multiprocessing/process.py\", line 160, in is_alive\n",
            "    assert self._parent_pid == os.getpid(), 'can only test a child process'\n",
            "AssertionError: can only test a child process\n",
            "Epoch 13: 100%|██████████| 36/36 [00:03<00:00, 10.67batch/s, accuracy=0.819, loss=0.557]\n"
          ]
        },
        {
          "output_type": "stream",
          "name": "stdout",
          "text": [
            "Epoch: 13, learning rate: 0.0005, Training Loss: 0.4153, Training Accuracy: 0.8560, Test Loss: 0.5571, Test Accuracy: 0.8187\n"
          ]
        },
        {
          "output_type": "stream",
          "name": "stderr",
          "text": [
            "Epoch 14:  11%|█         | 19/176 [00:02<00:26,  5.89batch/s, accuracy=0.866, loss=0.392]Exception ignored in: <function _MultiProcessingDataLoaderIter.__del__ at 0x7fe2777d2830>\n",
            "Traceback (most recent call last):\n",
            "  File \"/usr/local/lib/python3.10/dist-packages/torch/utils/data/dataloader.py\", line 1478, in __del__\n",
            "    self._shutdown_workers()\n",
            "  File \"/usr/local/lib/python3.10/dist-packages/torch/utils/data/dataloader.py\", line 1461, in _shutdown_workers\n",
            "    if w.is_alive():\n",
            "  File \"/usr/lib/python3.10/multiprocessing/process.py\", line 160, in is_alive\n",
            "    assert self._parent_pid == os.getpid(), 'can only test a child process'\n",
            "AssertionError: can only test a child process\n",
            "Epoch 14:  15%|█▍        | 26/176 [00:04<00:31,  4.74batch/s, accuracy=0.865, loss=0.39]Exception ignored in: <function _MultiProcessingDataLoaderIter.__del__ at 0x7fe2777d2830>\n",
            "Traceback (most recent call last):\n",
            "  File \"/usr/local/lib/python3.10/dist-packages/torch/utils/data/dataloader.py\", line 1478, in __del__\n",
            "    self._shutdown_workers()\n",
            "  File \"/usr/local/lib/python3.10/dist-packages/torch/utils/data/dataloader.py\", line 1461, in _shutdown_workers\n",
            "    if w.is_alive():\n",
            "  File \"/usr/lib/python3.10/multiprocessing/process.py\", line 160, in is_alive\n",
            "    assert self._parent_pid == os.getpid(), 'can only test a child process'\n",
            "AssertionError: can only test a child process\n",
            "Epoch 14: 100%|██████████| 176/176 [00:23<00:00,  7.57batch/s, accuracy=0.861, loss=0.4]\n",
            "Epoch 14: 100%|██████████| 36/36 [00:02<00:00, 12.45batch/s, accuracy=0.833, loss=0.499]\n"
          ]
        },
        {
          "output_type": "stream",
          "name": "stdout",
          "text": [
            "Epoch: 14, learning rate: 0.0005, Training Loss: 0.3999, Training Accuracy: 0.8611, Test Loss: 0.4988, Test Accuracy: 0.8333\n"
          ]
        },
        {
          "output_type": "stream",
          "name": "stderr",
          "text": [
            "Epoch 15:  15%|█▍        | 26/176 [00:04<00:28,  5.25batch/s, accuracy=0.872, loss=0.365]Exception ignored in: <function _MultiProcessingDataLoaderIter.__del__ at 0x7fe2777d2830>\n",
            "Traceback (most recent call last):\n",
            "  File \"/usr/local/lib/python3.10/dist-packages/torch/utils/data/dataloader.py\", line 1478, in __del__\n",
            "    self._shutdown_workers()\n",
            "  File \"/usr/local/lib/python3.10/dist-packages/torch/utils/data/dataloader.py\", line 1461, in _shutdown_workers\n",
            "    if w.is_alive():Exception ignored in: <function _MultiProcessingDataLoaderIter.__del__ at 0x7fe2777d2830>\n",
            "Traceback (most recent call last):\n",
            "  File \"/usr/lib/python3.10/multiprocessing/process.py\", line 160, in is_alive\n",
            "\n",
            "      File \"/usr/local/lib/python3.10/dist-packages/torch/utils/data/dataloader.py\", line 1478, in __del__\n",
            "assert self._parent_pid == os.getpid(), 'can only test a child process'\n",
            "AssertionError:     can only test a child processself._shutdown_workers()\n",
            "\n",
            "  File \"/usr/local/lib/python3.10/dist-packages/torch/utils/data/dataloader.py\", line 1461, in _shutdown_workers\n",
            "    if w.is_alive():\n",
            "  File \"/usr/lib/python3.10/multiprocessing/process.py\", line 160, in is_alive\n",
            "    assert self._parent_pid == os.getpid(), 'can only test a child process'\n",
            "AssertionError: can only test a child process\n",
            "Epoch 15: 100%|██████████| 176/176 [00:23<00:00,  7.61batch/s, accuracy=0.87, loss=0.374]\n",
            "Epoch 15:  69%|██████▉   | 25/36 [00:02<00:00, 13.02batch/s, accuracy=0.836, loss=0.497]Exception ignored in: <function _MultiProcessingDataLoaderIter.__del__ at 0x7fe2777d2830>\n",
            "Traceback (most recent call last):\n",
            "  File \"/usr/local/lib/python3.10/dist-packages/torch/utils/data/dataloader.py\", line 1478, in __del__\n",
            "    self._shutdown_workers()\n",
            "  File \"/usr/local/lib/python3.10/dist-packages/torch/utils/data/dataloader.py\", line 1461, in _shutdown_workers\n",
            "Exception ignored in:     <function _MultiProcessingDataLoaderIter.__del__ at 0x7fe2777d2830>if w.is_alive():\n",
            "  File \"/usr/lib/python3.10/multiprocessing/process.py\", line 160, in is_alive\n",
            "\n",
            "    Traceback (most recent call last):\n",
            "assert self._parent_pid == os.getpid(), 'can only test a child process'  File \"/usr/local/lib/python3.10/dist-packages/torch/utils/data/dataloader.py\", line 1478, in __del__\n",
            "    \n",
            "AssertionError: can only test a child processself._shutdown_workers()\n",
            "\n",
            "  File \"/usr/local/lib/python3.10/dist-packages/torch/utils/data/dataloader.py\", line 1461, in _shutdown_workers\n",
            "    if w.is_alive():\n",
            "  File \"/usr/lib/python3.10/multiprocessing/process.py\", line 160, in is_alive\n",
            "    assert self._parent_pid == os.getpid(), 'can only test a child process'\n",
            "AssertionError: can only test a child process\n",
            "Epoch 15: 100%|██████████| 36/36 [00:03<00:00, 10.98batch/s, accuracy=0.836, loss=0.5]\n"
          ]
        },
        {
          "output_type": "stream",
          "name": "stdout",
          "text": [
            "Epoch: 15, learning rate: 0.0005, Training Loss: 0.3741, Training Accuracy: 0.8704, Test Loss: 0.5000, Test Accuracy: 0.8356\n"
          ]
        },
        {
          "output_type": "stream",
          "name": "stderr",
          "text": [
            "Epoch 16:   6%|▌         | 10/176 [00:01<00:24,  6.81batch/s, accuracy=0.875, loss=0.359]Exception ignored in: <function _MultiProcessingDataLoaderIter.__del__ at 0x7fe2777d2830>\n",
            "Traceback (most recent call last):\n",
            "  File \"/usr/local/lib/python3.10/dist-packages/torch/utils/data/dataloader.py\", line 1478, in __del__\n",
            "    self._shutdown_workers()\n",
            "  File \"/usr/local/lib/python3.10/dist-packages/torch/utils/data/dataloader.py\", line 1461, in _shutdown_workers\n",
            "    if w.is_alive():\n",
            "  File \"/usr/lib/python3.10/multiprocessing/process.py\", line 160, in is_alive\n",
            "    assert self._parent_pid == os.getpid(), 'can only test a child process'\n",
            "AssertionError: can only test a child process\n",
            "Epoch 16:   6%|▋         | 11/176 [00:02<00:39,  4.20batch/s, accuracy=0.874, loss=0.363]Exception ignored in: <function _MultiProcessingDataLoaderIter.__del__ at 0x7fe2777d2830>\n",
            "Traceback (most recent call last):\n",
            "  File \"/usr/local/lib/python3.10/dist-packages/torch/utils/data/dataloader.py\", line 1478, in __del__\n",
            "    self._shutdown_workers()\n",
            "  File \"/usr/local/lib/python3.10/dist-packages/torch/utils/data/dataloader.py\", line 1461, in _shutdown_workers\n",
            "    if w.is_alive():\n",
            "  File \"/usr/lib/python3.10/multiprocessing/process.py\", line 160, in is_alive\n",
            "    assert self._parent_pid == os.getpid(), 'can only test a child process'\n",
            "AssertionError: can only test a child process\n",
            "Epoch 16: 100%|██████████| 176/176 [00:23<00:00,  7.64batch/s, accuracy=0.875, loss=0.36]\n",
            "Epoch 16:  64%|██████▍   | 23/36 [00:02<00:01, 12.49batch/s, accuracy=0.839, loss=0.495]Exception ignored in: <function _MultiProcessingDataLoaderIter.__del__ at 0x7fe2777d2830>\n",
            "Traceback (most recent call last):\n",
            "  File \"/usr/local/lib/python3.10/dist-packages/torch/utils/data/dataloader.py\", line 1478, in __del__\n",
            "    self._shutdown_workers()\n",
            "  File \"/usr/local/lib/python3.10/dist-packages/torch/utils/data/dataloader.py\", line 1461, in _shutdown_workers\n",
            "    if w.is_alive():\n",
            "  File \"/usr/lib/python3.10/multiprocessing/process.py\", line 160, in is_alive\n",
            "    assert self._parent_pid == os.getpid(), 'can only test a child process'\n",
            "AssertionError: can only test a child process\n",
            "Epoch 16:  69%|██████▉   | 25/36 [00:02<00:01,  7.84batch/s, accuracy=0.836, loss=0.504]Exception ignored in: <function _MultiProcessingDataLoaderIter.__del__ at 0x7fe2777d2830>\n",
            "Traceback (most recent call last):\n",
            "  File \"/usr/local/lib/python3.10/dist-packages/torch/utils/data/dataloader.py\", line 1478, in __del__\n",
            "    self._shutdown_workers()\n",
            "  File \"/usr/local/lib/python3.10/dist-packages/torch/utils/data/dataloader.py\", line 1461, in _shutdown_workers\n",
            "    if w.is_alive():\n",
            "  File \"/usr/lib/python3.10/multiprocessing/process.py\", line 160, in is_alive\n",
            "    assert self._parent_pid == os.getpid(), 'can only test a child process'\n",
            "AssertionError: can only test a child process\n",
            "Epoch 16: 100%|██████████| 36/36 [00:03<00:00, 10.54batch/s, accuracy=0.835, loss=0.516]\n"
          ]
        },
        {
          "output_type": "stream",
          "name": "stdout",
          "text": [
            "Epoch: 16, learning rate: 0.0005, Training Loss: 0.3600, Training Accuracy: 0.8750, Test Loss: 0.5159, Test Accuracy: 0.8352\n"
          ]
        },
        {
          "output_type": "stream",
          "name": "stderr",
          "text": [
            "Epoch 17:   9%|▊         | 15/176 [00:02<00:32,  4.91batch/s, accuracy=0.885, loss=0.337]Exception ignored in: <function _MultiProcessingDataLoaderIter.__del__ at 0x7fe2777d2830>\n",
            "Traceback (most recent call last):\n",
            "  File \"/usr/local/lib/python3.10/dist-packages/torch/utils/data/dataloader.py\", line 1478, in __del__\n",
            "    self._shutdown_workers()\n",
            "  File \"/usr/local/lib/python3.10/dist-packages/torch/utils/data/dataloader.py\", line 1461, in _shutdown_workers\n",
            "    if w.is_alive():\n",
            "  File \"/usr/lib/python3.10/multiprocessing/process.py\", line 160, in is_alive\n",
            "    assert self._parent_pid == os.getpid(), 'can only test a child process'\n",
            "Exception ignored in: <function _MultiProcessingDataLoaderIter.__del__ at 0x7fe2777d2830>AssertionError: \n",
            "can only test a child processTraceback (most recent call last):\n",
            "\n",
            "  File \"/usr/local/lib/python3.10/dist-packages/torch/utils/data/dataloader.py\", line 1478, in __del__\n",
            "    self._shutdown_workers()\n",
            "  File \"/usr/local/lib/python3.10/dist-packages/torch/utils/data/dataloader.py\", line 1461, in _shutdown_workers\n",
            "    if w.is_alive():\n",
            "  File \"/usr/lib/python3.10/multiprocessing/process.py\", line 160, in is_alive\n",
            "    assert self._parent_pid == os.getpid(), 'can only test a child process'\n",
            "AssertionError: can only test a child process\n",
            "Epoch 17: 100%|██████████| 176/176 [00:23<00:00,  7.62batch/s, accuracy=0.88, loss=0.343]\n",
            "Epoch 17:  64%|██████▍   | 23/36 [00:01<00:01, 12.24batch/s, accuracy=0.842, loss=0.494]Exception ignored in: <function _MultiProcessingDataLoaderIter.__del__ at 0x7fe2777d2830>\n",
            "Exception ignored in: Traceback (most recent call last):\n",
            "  File \"/usr/local/lib/python3.10/dist-packages/torch/utils/data/dataloader.py\", line 1478, in __del__\n",
            "    self._shutdown_workers()\n",
            "  File \"/usr/local/lib/python3.10/dist-packages/torch/utils/data/dataloader.py\", line 1461, in _shutdown_workers\n",
            "    if w.is_alive():\n",
            "  File \"/usr/lib/python3.10/multiprocessing/process.py\", line 160, in is_alive\n",
            "    assert self._parent_pid == os.getpid(), 'can only test a child process'\n",
            "AssertionError: can only test a child process\n",
            "<function _MultiProcessingDataLoaderIter.__del__ at 0x7fe2777d2830>\n",
            "Traceback (most recent call last):\n",
            "  File \"/usr/local/lib/python3.10/dist-packages/torch/utils/data/dataloader.py\", line 1478, in __del__\n",
            "    self._shutdown_workers()\n",
            "  File \"/usr/local/lib/python3.10/dist-packages/torch/utils/data/dataloader.py\", line 1461, in _shutdown_workers\n",
            "    if w.is_alive():\n",
            "  File \"/usr/lib/python3.10/multiprocessing/process.py\", line 160, in is_alive\n",
            "    assert self._parent_pid == os.getpid(), 'can only test a child process'\n",
            "AssertionError: can only test a child process\n",
            "Epoch 17: 100%|██████████| 36/36 [00:03<00:00, 10.64batch/s, accuracy=0.841, loss=0.506]\n"
          ]
        },
        {
          "output_type": "stream",
          "name": "stdout",
          "text": [
            "Epoch: 17, learning rate: 0.0005, Training Loss: 0.3432, Training Accuracy: 0.8805, Test Loss: 0.5062, Test Accuracy: 0.8408\n"
          ]
        },
        {
          "output_type": "stream",
          "name": "stderr",
          "text": [
            "Epoch 18:   9%|▉         | 16/176 [00:03<00:28,  5.60batch/s, accuracy=0.891, loss=0.33] Exception ignored in: <function _MultiProcessingDataLoaderIter.__del__ at 0x7fe2777d2830>\n",
            "Traceback (most recent call last):\n",
            "  File \"/usr/local/lib/python3.10/dist-packages/torch/utils/data/dataloader.py\", line 1478, in __del__\n",
            "    self._shutdown_workers()\n",
            "  File \"/usr/local/lib/python3.10/dist-packages/torch/utils/data/dataloader.py\", line 1461, in _shutdown_workers\n",
            "    if w.is_alive():\n",
            "  File \"/usr/lib/python3.10/multiprocessing/process.py\", line 160, in is_alive\n",
            "    assert self._parent_pid == os.getpid(), 'can only test a child process'\n",
            "AssertionError: can only test a child process\n",
            "Epoch 18:  14%|█▎        | 24/176 [00:04<00:22,  6.85batch/s, accuracy=0.89, loss=0.324]Exception ignored in: <function _MultiProcessingDataLoaderIter.__del__ at 0x7fe2777d2830>\n",
            "Traceback (most recent call last):\n",
            "  File \"/usr/local/lib/python3.10/dist-packages/torch/utils/data/dataloader.py\", line 1478, in __del__\n",
            "    self._shutdown_workers()\n",
            "  File \"/usr/local/lib/python3.10/dist-packages/torch/utils/data/dataloader.py\", line 1461, in _shutdown_workers\n",
            "    if w.is_alive():\n",
            "  File \"/usr/lib/python3.10/multiprocessing/process.py\", line 160, in is_alive\n",
            "    assert self._parent_pid == os.getpid(), 'can only test a child process'\n",
            "AssertionError: can only test a child process\n",
            "Epoch 18: 100%|██████████| 176/176 [00:23<00:00,  7.46batch/s, accuracy=0.883, loss=0.333]\n",
            "Epoch 18:  25%|██▌       | 9/36 [00:00<00:02, 11.96batch/s, accuracy=0.831, loss=0.544]Exception ignored in: <function _MultiProcessingDataLoaderIter.__del__ at 0x7fe2777d2830>\n",
            "Traceback (most recent call last):\n",
            "  File \"/usr/local/lib/python3.10/dist-packages/torch/utils/data/dataloader.py\", line 1478, in __del__\n",
            "    Exception ignored in: self._shutdown_workers()<function _MultiProcessingDataLoaderIter.__del__ at 0x7fe2777d2830>\n",
            "\n",
            "  File \"/usr/local/lib/python3.10/dist-packages/torch/utils/data/dataloader.py\", line 1461, in _shutdown_workers\n",
            "Traceback (most recent call last):\n",
            "      File \"/usr/local/lib/python3.10/dist-packages/torch/utils/data/dataloader.py\", line 1478, in __del__\n",
            "if w.is_alive():    \n",
            "self._shutdown_workers()  File \"/usr/lib/python3.10/multiprocessing/process.py\", line 160, in is_alive\n",
            "\n",
            "      File \"/usr/local/lib/python3.10/dist-packages/torch/utils/data/dataloader.py\", line 1461, in _shutdown_workers\n",
            "assert self._parent_pid == os.getpid(), 'can only test a child process'    if w.is_alive():\n",
            "\n",
            "  File \"/usr/lib/python3.10/multiprocessing/process.py\", line 160, in is_alive\n",
            "AssertionError    : assert self._parent_pid == os.getpid(), 'can only test a child process'can only test a child process\n",
            "AssertionError: \n",
            "can only test a child process\n",
            "Epoch 18: 100%|██████████| 36/36 [00:03<00:00,  9.50batch/s, accuracy=0.838, loss=0.521]\n"
          ]
        },
        {
          "output_type": "stream",
          "name": "stdout",
          "text": [
            "Epoch: 18, learning rate: 0.0005, Training Loss: 0.3328, Training Accuracy: 0.8827, Test Loss: 0.5207, Test Accuracy: 0.8377\n"
          ]
        },
        {
          "output_type": "stream",
          "name": "stderr",
          "text": [
            "Epoch 19:   4%|▍         | 7/176 [00:01<00:34,  4.92batch/s, accuracy=0.902, loss=0.309]Exception ignored in: <function _MultiProcessingDataLoaderIter.__del__ at 0x7fe2777d2830>\n",
            "Exception ignored in: Traceback (most recent call last):\n",
            "<function _MultiProcessingDataLoaderIter.__del__ at 0x7fe2777d2830>\n",
            "Traceback (most recent call last):\n",
            "  File \"/usr/local/lib/python3.10/dist-packages/torch/utils/data/dataloader.py\", line 1478, in __del__\n",
            "      File \"/usr/local/lib/python3.10/dist-packages/torch/utils/data/dataloader.py\", line 1478, in __del__\n",
            "self._shutdown_workers()    \n",
            "self._shutdown_workers()  File \"/usr/local/lib/python3.10/dist-packages/torch/utils/data/dataloader.py\", line 1461, in _shutdown_workers\n",
            "    if w.is_alive():\n",
            "  File \"/usr/lib/python3.10/multiprocessing/process.py\", line 160, in is_alive\n",
            "    \n",
            "assert self._parent_pid == os.getpid(), 'can only test a child process'  File \"/usr/local/lib/python3.10/dist-packages/torch/utils/data/dataloader.py\", line 1461, in _shutdown_workers\n",
            "\n",
            "AssertionError:     can only test a child process\n",
            "if w.is_alive():\n",
            "  File \"/usr/lib/python3.10/multiprocessing/process.py\", line 160, in is_alive\n",
            "    assert self._parent_pid == os.getpid(), 'can only test a child process'\n",
            "AssertionError: can only test a child process\n",
            "Epoch 19: 100%|██████████| 176/176 [00:23<00:00,  7.63batch/s, accuracy=0.888, loss=0.319]\n",
            "Epoch 19:  25%|██▌       | 9/36 [00:00<00:02, 11.26batch/s, accuracy=0.836, loss=0.502]Exception ignored in: <function _MultiProcessingDataLoaderIter.__del__ at 0x7fe2777d2830>\n",
            "Traceback (most recent call last):\n",
            "  File \"/usr/local/lib/python3.10/dist-packages/torch/utils/data/dataloader.py\", line 1478, in __del__\n",
            "    self._shutdown_workers()\n",
            "  File \"/usr/local/lib/python3.10/dist-packages/torch/utils/data/dataloader.py\", line 1461, in _shutdown_workers\n",
            "    if w.is_alive():\n",
            "  File \"/usr/lib/python3.10/multiprocessing/process.py\", line 160, in is_alive\n",
            "    assert self._parent_pid == os.getpid(), 'can only test a child process'\n",
            "AssertionError: can only test a child process\n",
            "Exception ignored in: <function _MultiProcessingDataLoaderIter.__del__ at 0x7fe2777d2830>\n",
            "Traceback (most recent call last):\n",
            "  File \"/usr/local/lib/python3.10/dist-packages/torch/utils/data/dataloader.py\", line 1478, in __del__\n",
            "    self._shutdown_workers()\n",
            "  File \"/usr/local/lib/python3.10/dist-packages/torch/utils/data/dataloader.py\", line 1461, in _shutdown_workers\n",
            "    if w.is_alive():\n",
            "  File \"/usr/lib/python3.10/multiprocessing/process.py\", line 160, in is_alive\n",
            "    assert self._parent_pid == os.getpid(), 'can only test a child process'\n",
            "AssertionError: can only test a child process\n",
            "Epoch 19: 100%|██████████| 36/36 [00:04<00:00,  8.37batch/s, accuracy=0.843, loss=0.493]\n"
          ]
        },
        {
          "output_type": "stream",
          "name": "stdout",
          "text": [
            "Epoch: 19, learning rate: 0.0005, Training Loss: 0.3189, Training Accuracy: 0.8884, Test Loss: 0.4933, Test Accuracy: 0.8433\n"
          ]
        },
        {
          "output_type": "stream",
          "name": "stderr",
          "text": [
            "Epoch 20:   3%|▎         | 5/176 [00:01<00:27,  6.22batch/s, accuracy=0.9, loss=0.303]  Exception ignored in: <function _MultiProcessingDataLoaderIter.__del__ at 0x7fe2777d2830>\n",
            "Traceback (most recent call last):\n",
            "  File \"/usr/local/lib/python3.10/dist-packages/torch/utils/data/dataloader.py\", line 1478, in __del__\n",
            "    self._shutdown_workers()\n",
            "  File \"/usr/local/lib/python3.10/dist-packages/torch/utils/data/dataloader.py\", line 1461, in _shutdown_workers\n",
            "    if w.is_alive():\n",
            "  File \"/usr/lib/python3.10/multiprocessing/process.py\", line 160, in is_alive\n",
            "    assert self._parent_pid == os.getpid(), 'can only test a child process'\n",
            "AssertionError: can only test a child process\n",
            "Exception ignored in: <function _MultiProcessingDataLoaderIter.__del__ at 0x7fe2777d2830>\n",
            "Traceback (most recent call last):\n",
            "  File \"/usr/local/lib/python3.10/dist-packages/torch/utils/data/dataloader.py\", line 1478, in __del__\n",
            "    self._shutdown_workers()\n",
            "  File \"/usr/local/lib/python3.10/dist-packages/torch/utils/data/dataloader.py\", line 1461, in _shutdown_workers\n",
            "    if w.is_alive():\n",
            "  File \"/usr/lib/python3.10/multiprocessing/process.py\", line 160, in is_alive\n",
            "    assert self._parent_pid == os.getpid(), 'can only test a child process'\n",
            "AssertionError: can only test a child process\n",
            "Epoch 20: 100%|██████████| 176/176 [00:22<00:00,  7.89batch/s, accuracy=0.894, loss=0.303]\n",
            "Epoch 20:  19%|█▉        | 7/36 [00:00<00:02, 10.53batch/s, accuracy=0.836, loss=0.517]Exception ignored in: Exception ignored in: <function _MultiProcessingDataLoaderIter.__del__ at 0x7fe2777d2830><function _MultiProcessingDataLoaderIter.__del__ at 0x7fe2777d2830>\n",
            "\n",
            "Traceback (most recent call last):\n",
            "Traceback (most recent call last):\n",
            "  File \"/usr/local/lib/python3.10/dist-packages/torch/utils/data/dataloader.py\", line 1478, in __del__\n",
            "  File \"/usr/local/lib/python3.10/dist-packages/torch/utils/data/dataloader.py\", line 1478, in __del__\n",
            "    self._shutdown_workers()    self._shutdown_workers()\n",
            "\n",
            "  File \"/usr/local/lib/python3.10/dist-packages/torch/utils/data/dataloader.py\", line 1461, in _shutdown_workers\n",
            "  File \"/usr/local/lib/python3.10/dist-packages/torch/utils/data/dataloader.py\", line 1461, in _shutdown_workers\n",
            "        if w.is_alive():\n",
            "if w.is_alive():  File \"/usr/lib/python3.10/multiprocessing/process.py\", line 160, in is_alive\n",
            "\n",
            "      File \"/usr/lib/python3.10/multiprocessing/process.py\", line 160, in is_alive\n",
            "assert self._parent_pid == os.getpid(), 'can only test a child process'    assert self._parent_pid == os.getpid(), 'can only test a child process'\n",
            "\n",
            "AssertionErrorAssertionError: : can only test a child processcan only test a child process\n",
            "\n",
            "Epoch 20: 100%|██████████| 36/36 [00:04<00:00,  8.05batch/s, accuracy=0.846, loss=0.469]\n"
          ]
        },
        {
          "output_type": "stream",
          "name": "stdout",
          "text": [
            "Epoch: 20, learning rate: 5e-05, Training Loss: 0.3025, Training Accuracy: 0.8942, Test Loss: 0.4686, Test Accuracy: 0.8463\n"
          ]
        },
        {
          "output_type": "stream",
          "name": "stderr",
          "text": [
            "Epoch 21:   3%|▎         | 5/176 [00:00<00:25,  6.78batch/s, accuracy=0.892, loss=0.296]Exception ignored in: <function _MultiProcessingDataLoaderIter.__del__ at 0x7fe2777d2830>\n",
            "Traceback (most recent call last):\n",
            "  File \"/usr/local/lib/python3.10/dist-packages/torch/utils/data/dataloader.py\", line 1478, in __del__\n",
            "    self._shutdown_workers()\n",
            "Exception ignored in:   File \"/usr/local/lib/python3.10/dist-packages/torch/utils/data/dataloader.py\", line 1461, in _shutdown_workers\n",
            "<function _MultiProcessingDataLoaderIter.__del__ at 0x7fe2777d2830>    \n",
            "if w.is_alive():Traceback (most recent call last):\n",
            "\n",
            "  File \"/usr/local/lib/python3.10/dist-packages/torch/utils/data/dataloader.py\", line 1478, in __del__\n",
            "    self._shutdown_workers()\n",
            "  File \"/usr/local/lib/python3.10/dist-packages/torch/utils/data/dataloader.py\", line 1461, in _shutdown_workers\n",
            "    if w.is_alive():\n",
            "  File \"/usr/lib/python3.10/multiprocessing/process.py\", line 160, in is_alive\n",
            "    assert self._parent_pid == os.getpid(), 'can only test a child process'\n",
            "AssertionError: can only test a child process\n",
            "  File \"/usr/lib/python3.10/multiprocessing/process.py\", line 160, in is_alive\n",
            "    assert self._parent_pid == os.getpid(), 'can only test a child process'\n",
            "AssertionError: can only test a child process\n",
            "Epoch 21: 100%|██████████| 176/176 [00:22<00:00,  7.82batch/s, accuracy=0.918, loss=0.235]\n",
            "Epoch 21:  19%|█▉        | 7/36 [00:00<00:02, 10.72batch/s, accuracy=0.856, loss=0.46] Exception ignored in: <function _MultiProcessingDataLoaderIter.__del__ at 0x7fe2777d2830>\n",
            "Traceback (most recent call last):\n",
            "  File \"/usr/local/lib/python3.10/dist-packages/torch/utils/data/dataloader.py\", line 1478, in __del__\n",
            "    self._shutdown_workers()\n",
            "  File \"/usr/local/lib/python3.10/dist-packages/torch/utils/data/dataloader.py\", line 1461, in _shutdown_workers\n",
            "    if w.is_alive():\n",
            "  File \"/usr/lib/python3.10/multiprocessing/process.py\", line 160, in is_alive\n",
            "    assert self._parent_pid == os.getpid(), 'can only test a child process'\n",
            "AssertionError: can only test a child process\n",
            "Exception ignored in: <function _MultiProcessingDataLoaderIter.__del__ at 0x7fe2777d2830>\n",
            "Traceback (most recent call last):\n",
            "  File \"/usr/local/lib/python3.10/dist-packages/torch/utils/data/dataloader.py\", line 1478, in __del__\n",
            "    self._shutdown_workers()\n",
            "  File \"/usr/local/lib/python3.10/dist-packages/torch/utils/data/dataloader.py\", line 1461, in _shutdown_workers\n",
            "    if w.is_alive():\n",
            "  File \"/usr/lib/python3.10/multiprocessing/process.py\", line 160, in is_alive\n",
            "    assert self._parent_pid == os.getpid(), 'can only test a child process'\n",
            "AssertionError: can only test a child process\n",
            "Epoch 21: 100%|██████████| 36/36 [00:04<00:00,  8.06batch/s, accuracy=0.868, loss=0.419]\n"
          ]
        },
        {
          "output_type": "stream",
          "name": "stdout",
          "text": [
            "Epoch: 21, learning rate: 5e-05, Training Loss: 0.2349, Training Accuracy: 0.9179, Test Loss: 0.4192, Test Accuracy: 0.8683\n"
          ]
        },
        {
          "output_type": "stream",
          "name": "stderr",
          "text": [
            "Epoch 22:   3%|▎         | 6/176 [00:00<00:23,  7.38batch/s, accuracy=0.936, loss=0.199]Exception ignored in: <function _MultiProcessingDataLoaderIter.__del__ at 0x7fe2777d2830>\n",
            "Traceback (most recent call last):\n",
            "  File \"/usr/local/lib/python3.10/dist-packages/torch/utils/data/dataloader.py\", line 1478, in __del__\n",
            "    self._shutdown_workers()\n",
            "  File \"/usr/local/lib/python3.10/dist-packages/torch/utils/data/dataloader.py\", line 1461, in _shutdown_workers\n",
            "    if w.is_alive():\n",
            "  File \"/usr/lib/python3.10/multiprocessing/process.py\", line 160, in is_alive\n",
            "    assert self._parent_pid == os.getpid(), 'can only test a child process'\n",
            "AssertionError: can only test a child process\n",
            "Exception ignored in: <function _MultiProcessingDataLoaderIter.__del__ at 0x7fe2777d2830>\n",
            "Traceback (most recent call last):\n",
            "  File \"/usr/local/lib/python3.10/dist-packages/torch/utils/data/dataloader.py\", line 1478, in __del__\n",
            "    self._shutdown_workers()\n",
            "  File \"/usr/local/lib/python3.10/dist-packages/torch/utils/data/dataloader.py\", line 1461, in _shutdown_workers\n",
            "    if w.is_alive():\n",
            "  File \"/usr/lib/python3.10/multiprocessing/process.py\", line 160, in is_alive\n",
            "    assert self._parent_pid == os.getpid(), 'can only test a child process'\n",
            "AssertionError: can only test a child process\n",
            "Epoch 22: 100%|██████████| 176/176 [00:22<00:00,  7.82batch/s, accuracy=0.928, loss=0.205]\n",
            "Epoch 22:  17%|█▋        | 6/36 [00:00<00:04,  6.94batch/s, accuracy=0.866, loss=0.436]Exception ignored in: <function _MultiProcessingDataLoaderIter.__del__ at 0x7fe2777d2830>\n",
            "Traceback (most recent call last):\n",
            "  File \"/usr/local/lib/python3.10/dist-packages/torch/utils/data/dataloader.py\", line 1478, in __del__\n",
            "    self._shutdown_workers()\n",
            "  File \"/usr/local/lib/python3.10/dist-packages/torch/utils/data/dataloader.py\", line 1461, in _shutdown_workers\n",
            "    if w.is_alive():\n",
            "  File \"/usr/lib/python3.10/multiprocessing/process.py\", line 160, in is_alive\n",
            "    assert self._parent_pid == os.getpid(), 'can only test a child process'\n",
            "AssertionError: can only test a child process\n",
            "Exception ignored in: <function _MultiProcessingDataLoaderIter.__del__ at 0x7fe2777d2830>\n",
            "Traceback (most recent call last):\n",
            "  File \"/usr/local/lib/python3.10/dist-packages/torch/utils/data/dataloader.py\", line 1478, in __del__\n",
            "    self._shutdown_workers()\n",
            "  File \"/usr/local/lib/python3.10/dist-packages/torch/utils/data/dataloader.py\", line 1461, in _shutdown_workers\n",
            "Epoch 22:  19%|█▉        | 7/36 [00:01<00:08,  3.44batch/s, accuracy=0.863, loss=0.454]    if w.is_alive():\n",
            "  File \"/usr/lib/python3.10/multiprocessing/process.py\", line 160, in is_alive\n",
            "    assert self._parent_pid == os.getpid(), 'can only test a child process'\n",
            "AssertionError: can only test a child process\n",
            "Epoch 22: 100%|██████████| 36/36 [00:04<00:00,  7.98batch/s, accuracy=0.871, loss=0.428]\n"
          ]
        },
        {
          "output_type": "stream",
          "name": "stdout",
          "text": [
            "Epoch: 22, learning rate: 5e-05, Training Loss: 0.2048, Training Accuracy: 0.9279, Test Loss: 0.4276, Test Accuracy: 0.8708\n"
          ]
        },
        {
          "output_type": "stream",
          "name": "stderr",
          "text": [
            "Epoch 23:   2%|▏         | 4/176 [00:00<00:24,  7.11batch/s, accuracy=0.938, loss=0.194]Exception ignored in: <function _MultiProcessingDataLoaderIter.__del__ at 0x7fe2777d2830>\n",
            "Traceback (most recent call last):\n",
            "  File \"/usr/local/lib/python3.10/dist-packages/torch/utils/data/dataloader.py\", line 1478, in __del__\n",
            "    self._shutdown_workers()\n",
            "  File \"/usr/local/lib/python3.10/dist-packages/torch/utils/data/dataloader.py\", line 1461, in _shutdown_workers\n",
            "    if w.is_alive():\n",
            "  File \"/usr/lib/python3.10/multiprocessing/process.py\", line 160, in is_alive\n",
            "    assert self._parent_pid == os.getpid(), 'can only test a child process'\n",
            "AssertionError: can only test a child process\n",
            "Epoch 23:   3%|▎         | 5/176 [00:01<00:41,  4.13batch/s, accuracy=0.937, loss=0.195]<function _MultiProcessingDataLoaderIter.__del__ at 0x7fe2777d2830>\n",
            "Traceback (most recent call last):\n",
            "  File \"/usr/local/lib/python3.10/dist-packages/torch/utils/data/dataloader.py\", line 1478, in __del__\n",
            "    self._shutdown_workers()\n",
            "  File \"/usr/local/lib/python3.10/dist-packages/torch/utils/data/dataloader.py\", line 1461, in _shutdown_workers\n",
            "    if w.is_alive():\n",
            "  File \"/usr/lib/python3.10/multiprocessing/process.py\", line 160, in is_alive\n",
            "    assert self._parent_pid == os.getpid(), 'can only test a child process'\n",
            "AssertionError: can only test a child process\n",
            "Epoch 23: 100%|██████████| 176/176 [00:22<00:00,  7.74batch/s, accuracy=0.931, loss=0.196]\n",
            "Epoch 23:  17%|█▋        | 6/36 [00:01<00:04,  6.80batch/s, accuracy=0.868, loss=0.426]Exception ignored in: <function _MultiProcessingDataLoaderIter.__del__ at 0x7fe2777d2830>\n",
            "Traceback (most recent call last):\n",
            "  File \"/usr/local/lib/python3.10/dist-packages/torch/utils/data/dataloader.py\", line 1478, in __del__\n",
            "    self._shutdown_workers()\n",
            "  File \"/usr/local/lib/python3.10/dist-packages/torch/utils/data/dataloader.py\", line 1461, in _shutdown_workers\n",
            "    if w.is_alive():\n",
            "  File \"/usr/lib/python3.10/multiprocessing/process.py\", line 160, in is_alive\n",
            "Exception ignored in:     <function _MultiProcessingDataLoaderIter.__del__ at 0x7fe2777d2830>\n",
            "assert self._parent_pid == os.getpid(), 'can only test a child process'\n",
            "Traceback (most recent call last):\n",
            "AssertionError  File \"/usr/local/lib/python3.10/dist-packages/torch/utils/data/dataloader.py\", line 1478, in __del__\n",
            ":     can only test a child process\n",
            "self._shutdown_workers()\n",
            "  File \"/usr/local/lib/python3.10/dist-packages/torch/utils/data/dataloader.py\", line 1461, in _shutdown_workers\n",
            "    if w.is_alive():\n",
            "  File \"/usr/lib/python3.10/multiprocessing/process.py\", line 160, in is_alive\n",
            "    assert self._parent_pid == os.getpid(), 'can only test a child process'\n",
            "AssertionError: can only test a child process\n",
            "Epoch 23: 100%|██████████| 36/36 [00:04<00:00,  8.78batch/s, accuracy=0.872, loss=0.428]\n"
          ]
        },
        {
          "output_type": "stream",
          "name": "stdout",
          "text": [
            "Epoch: 23, learning rate: 5e-05, Training Loss: 0.1956, Training Accuracy: 0.9315, Test Loss: 0.4277, Test Accuracy: 0.8723\n"
          ]
        },
        {
          "output_type": "stream",
          "name": "stderr",
          "text": [
            "Epoch 24:   2%|▏         | 3/176 [00:00<00:32,  5.28batch/s, accuracy=0.942, loss=0.178]Exception ignored in: Exception ignored in: <function _MultiProcessingDataLoaderIter.__del__ at 0x7fe2777d2830>\n",
            "Traceback (most recent call last):\n",
            "  File \"/usr/local/lib/python3.10/dist-packages/torch/utils/data/dataloader.py\", line 1478, in __del__\n",
            "    <function _MultiProcessingDataLoaderIter.__del__ at 0x7fe2777d2830>self._shutdown_workers()\n",
            "  File \"/usr/local/lib/python3.10/dist-packages/torch/utils/data/dataloader.py\", line 1461, in _shutdown_workers\n",
            "    \n",
            "Traceback (most recent call last):\n",
            "  File \"/usr/local/lib/python3.10/dist-packages/torch/utils/data/dataloader.py\", line 1478, in __del__\n",
            "if w.is_alive():\n",
            "  File \"/usr/lib/python3.10/multiprocessing/process.py\", line 160, in is_alive\n",
            "    assert self._parent_pid == os.getpid(), 'can only test a child process'    self._shutdown_workers()\n",
            "  File \"/usr/local/lib/python3.10/dist-packages/torch/utils/data/dataloader.py\", line 1461, in _shutdown_workers\n",
            "\n",
            "    if w.is_alive():\n",
            "AssertionError  File \"/usr/lib/python3.10/multiprocessing/process.py\", line 160, in is_alive\n",
            "    : can only test a child process\n",
            "assert self._parent_pid == os.getpid(), 'can only test a child process'\n",
            "AssertionError: can only test a child process\n",
            "Epoch 24: 100%|██████████| 176/176 [00:22<00:00,  7.72batch/s, accuracy=0.936, loss=0.183]\n",
            "Epoch 24:   8%|▊         | 3/36 [00:00<00:07,  4.45batch/s, accuracy=0.866, loss=0.442]Exception ignored in: <function _MultiProcessingDataLoaderIter.__del__ at 0x7fe2777d2830>\n",
            "Traceback (most recent call last):\n",
            "  File \"/usr/local/lib/python3.10/dist-packages/torch/utils/data/dataloader.py\", line 1478, in __del__\n",
            "    self._shutdown_workers()\n",
            "  File \"/usr/local/lib/python3.10/dist-packages/torch/utils/data/dataloader.py\", line 1461, in _shutdown_workers\n",
            "    if w.is_alive():\n",
            "  File \"/usr/lib/python3.10/multiprocessing/process.py\", line 160, in is_alive\n",
            "    assert self._parent_pid == os.getpid(), 'can only test a child process'\n",
            "AssertionError: can only test a child process\n",
            "Exception ignored in: <function _MultiProcessingDataLoaderIter.__del__ at 0x7fe2777d2830>\n",
            "Traceback (most recent call last):\n",
            "  File \"/usr/local/lib/python3.10/dist-packages/torch/utils/data/dataloader.py\", line 1478, in __del__\n",
            "    self._shutdown_workers()\n",
            "  File \"/usr/local/lib/python3.10/dist-packages/torch/utils/data/dataloader.py\", line 1461, in _shutdown_workers\n",
            "    if w.is_alive():\n",
            "  File \"/usr/lib/python3.10/multiprocessing/process.py\", line 160, in is_alive\n",
            "    assert self._parent_pid == os.getpid(), 'can only test a child process'\n",
            "AssertionError: can only test a child process\n",
            "Epoch 24: 100%|██████████| 36/36 [00:03<00:00,  9.74batch/s, accuracy=0.87, loss=0.439]\n"
          ]
        },
        {
          "output_type": "stream",
          "name": "stdout",
          "text": [
            "Epoch: 24, learning rate: 5e-05, Training Loss: 0.1828, Training Accuracy: 0.9363, Test Loss: 0.4389, Test Accuracy: 0.8704\n"
          ]
        },
        {
          "output_type": "stream",
          "name": "stderr",
          "text": [
            "Epoch 25:   2%|▏         | 4/176 [00:00<00:25,  6.67batch/s, accuracy=0.941, loss=0.154]Exception ignored in: <function _MultiProcessingDataLoaderIter.__del__ at 0x7fe2777d2830>\n",
            "Traceback (most recent call last):\n",
            "  File \"/usr/local/lib/python3.10/dist-packages/torch/utils/data/dataloader.py\", line 1478, in __del__\n",
            "    self._shutdown_workers()\n",
            "  File \"/usr/local/lib/python3.10/dist-packages/torch/utils/data/dataloader.py\", line 1461, in _shutdown_workers\n",
            "    if w.is_alive():\n",
            "  File \"/usr/lib/python3.10/multiprocessing/process.py\", line 160, in is_alive\n",
            "    assert self._parent_pid == os.getpid(), 'can only test a child process'\n",
            "AssertionError: can only test a child process\n",
            "Exception ignored in: <function _MultiProcessingDataLoaderIter.__del__ at 0x7fe2777d2830>\n",
            "Traceback (most recent call last):\n",
            "  File \"/usr/local/lib/python3.10/dist-packages/torch/utils/data/dataloader.py\", line 1478, in __del__\n",
            "    self._shutdown_workers()\n",
            "  File \"/usr/local/lib/python3.10/dist-packages/torch/utils/data/dataloader.py\", line 1461, in _shutdown_workers\n",
            "    if w.is_alive():\n",
            "  File \"/usr/lib/python3.10/multiprocessing/process.py\", line 160, in is_alive\n",
            "    assert self._parent_pid == os.getpid(), 'can only test a child process'\n",
            "AssertionError: can only test a child process\n",
            "Epoch 25: 100%|██████████| 176/176 [00:22<00:00,  7.82batch/s, accuracy=0.939, loss=0.174]\n",
            "Epoch 25:  11%|█         | 4/36 [00:00<00:05,  5.97batch/s, accuracy=0.87, loss=0.449]Exception ignored in: <function _MultiProcessingDataLoaderIter.__del__ at 0x7fe2777d2830>\n",
            "Traceback (most recent call last):\n",
            "  File \"/usr/local/lib/python3.10/dist-packages/torch/utils/data/dataloader.py\", line 1478, in __del__\n",
            "    self._shutdown_workers()\n",
            "  File \"/usr/local/lib/python3.10/dist-packages/torch/utils/data/dataloader.py\", line 1461, in _shutdown_workers\n",
            "    if w.is_alive():Exception ignored in: \n",
            "  File \"/usr/lib/python3.10/multiprocessing/process.py\", line 160, in is_alive\n",
            "<function _MultiProcessingDataLoaderIter.__del__ at 0x7fe2777d2830>AssertionError    \n",
            "assert self._parent_pid == os.getpid(), 'can only test a child process'\n",
            "Traceback (most recent call last):\n",
            ": can only test a child process\n",
            "  File \"/usr/local/lib/python3.10/dist-packages/torch/utils/data/dataloader.py\", line 1478, in __del__\n",
            "    self._shutdown_workers()\n",
            "  File \"/usr/local/lib/python3.10/dist-packages/torch/utils/data/dataloader.py\", line 1461, in _shutdown_workers\n",
            "    if w.is_alive():\n",
            "  File \"/usr/lib/python3.10/multiprocessing/process.py\", line 160, in is_alive\n",
            "    assert self._parent_pid == os.getpid(), 'can only test a child process'\n",
            "AssertionError: can only test a child process\n",
            "Epoch 25: 100%|██████████| 36/36 [00:03<00:00,  9.34batch/s, accuracy=0.872, loss=0.438]\n"
          ]
        },
        {
          "output_type": "stream",
          "name": "stdout",
          "text": [
            "Epoch: 25, learning rate: 5e-05, Training Loss: 0.1744, Training Accuracy: 0.9385, Test Loss: 0.4384, Test Accuracy: 0.8718\n"
          ]
        },
        {
          "output_type": "stream",
          "name": "stderr",
          "text": [
            "Epoch 26:   1%|          | 1/176 [00:00<01:12,  2.42batch/s, accuracy=0.928, loss=0.202]Exception ignored in: <function _MultiProcessingDataLoaderIter.__del__ at 0x7fe2777d2830>\n",
            "Traceback (most recent call last):\n",
            "  File \"/usr/local/lib/python3.10/dist-packages/torch/utils/data/dataloader.py\", line 1478, in __del__\n",
            "    self._shutdown_workers()\n",
            "  File \"/usr/local/lib/python3.10/dist-packages/torch/utils/data/dataloader.py\", line 1461, in _shutdown_workers\n",
            "    if w.is_alive():\n",
            "  File \"/usr/lib/python3.10/multiprocessing/process.py\", line 160, in is_alive\n",
            "Exception ignored in: <function _MultiProcessingDataLoaderIter.__del__ at 0x7fe2777d2830>    \n",
            "Traceback (most recent call last):\n",
            "assert self._parent_pid == os.getpid(), 'can only test a child process'  File \"/usr/local/lib/python3.10/dist-packages/torch/utils/data/dataloader.py\", line 1478, in __del__\n",
            "    self._shutdown_workers()\n",
            "  File \"/usr/local/lib/python3.10/dist-packages/torch/utils/data/dataloader.py\", line 1461, in _shutdown_workers\n",
            "\n",
            "    AssertionError: if w.is_alive():can only test a child process\n",
            "\n",
            "  File \"/usr/lib/python3.10/multiprocessing/process.py\", line 160, in is_alive\n",
            "    assert self._parent_pid == os.getpid(), 'can only test a child process'\n",
            "AssertionError: can only test a child process\n",
            "Epoch 26: 100%|██████████| 176/176 [00:23<00:00,  7.54batch/s, accuracy=0.94, loss=0.172]\n",
            "Epoch 26:   3%|▎         | 1/36 [00:00<00:09,  3.57batch/s, accuracy=0.873, loss=0.412]Exception ignored in: <function _MultiProcessingDataLoaderIter.__del__ at 0x7fe2777d2830>\n",
            "Traceback (most recent call last):\n",
            "  File \"/usr/local/lib/python3.10/dist-packages/torch/utils/data/dataloader.py\", line 1478, in __del__\n",
            "    self._shutdown_workers()\n",
            "  File \"/usr/local/lib/python3.10/dist-packages/torch/utils/data/dataloader.py\", line 1461, in _shutdown_workers\n",
            "    if w.is_alive():\n",
            "  File \"/usr/lib/python3.10/multiprocessing/process.py\", line 160, in is_alive\n",
            "    assert self._parent_pid == os.getpid(), 'can only test a child process'\n",
            "AssertionError: can only test a child process\n",
            "Exception ignored in: <function _MultiProcessingDataLoaderIter.__del__ at 0x7fe2777d2830>\n",
            "Traceback (most recent call last):\n",
            "  File \"/usr/local/lib/python3.10/dist-packages/torch/utils/data/dataloader.py\", line 1478, in __del__\n",
            "Epoch 26:   3%|▎         | 1/36 [00:00<00:09,  3.57batch/s, accuracy=0.861, loss=0.446]\n",
            "Epoch 26:   8%|▊         | 3/36 [00:00<00:08,  3.85batch/s, accuracy=0.861, loss=0.446]  File \"/usr/local/lib/python3.10/dist-packages/torch/utils/data/dataloader.py\", line 1461, in _shutdown_workers\n",
            "    if w.is_alive():\n",
            "  File \"/usr/lib/python3.10/multiprocessing/process.py\", line 160, in is_alive\n",
            "    assert self._parent_pid == os.getpid(), 'can only test a child process'\n",
            "AssertionError: can only test a child process\n",
            "Epoch 26: 100%|██████████| 36/36 [00:03<00:00, 10.42batch/s, accuracy=0.872, loss=0.443]\n"
          ]
        },
        {
          "output_type": "stream",
          "name": "stdout",
          "text": [
            "Epoch: 26, learning rate: 5e-05, Training Loss: 0.1718, Training Accuracy: 0.9397, Test Loss: 0.4427, Test Accuracy: 0.8724\n"
          ]
        },
        {
          "output_type": "stream",
          "name": "stderr",
          "text": [
            "Epoch 27:   1%|          | 1/176 [00:00<01:14,  2.34batch/s, accuracy=0.939, loss=0.184]Exception ignored in: <function _MultiProcessingDataLoaderIter.__del__ at 0x7fe2777d2830>\n",
            "Traceback (most recent call last):\n",
            "  File \"/usr/local/lib/python3.10/dist-packages/torch/utils/data/dataloader.py\", line 1478, in __del__\n",
            "    self._shutdown_workers()\n",
            "  File \"/usr/local/lib/python3.10/dist-packages/torch/utils/data/dataloader.py\", line 1461, in _shutdown_workers\n",
            "    if w.is_alive():\n",
            "  File \"/usr/lib/python3.10/multiprocessing/process.py\", line 160, in is_alive\n",
            "    assert self._parent_pid == os.getpid(), 'can only test a child process'\n",
            "AssertionError: can only test a child process\n",
            "Exception ignored in: <function _MultiProcessingDataLoaderIter.__del__ at 0x7fe2777d2830>\n",
            "Traceback (most recent call last):\n",
            "  File \"/usr/local/lib/python3.10/dist-packages/torch/utils/data/dataloader.py\", line 1478, in __del__\n",
            "    self._shutdown_workers()\n",
            "  File \"/usr/local/lib/python3.10/dist-packages/torch/utils/data/dataloader.py\", line 1461, in _shutdown_workers\n",
            "    if w.is_alive():\n",
            "  File \"/usr/lib/python3.10/multiprocessing/process.py\", line 160, in is_alive\n",
            "    assert self._parent_pid == os.getpid(), 'can only test a child process'\n",
            "AssertionError: can only test a child process\n",
            "Epoch 27: 100%|██████████| 176/176 [00:23<00:00,  7.56batch/s, accuracy=0.942, loss=0.164]\n",
            "Epoch 27:   3%|▎         | 1/36 [00:00<00:09,  3.74batch/s, accuracy=0.875, loss=0.436]Exception ignored in: <function _MultiProcessingDataLoaderIter.__del__ at 0x7fe2777d2830>\n",
            "Traceback (most recent call last):\n",
            "  File \"/usr/local/lib/python3.10/dist-packages/torch/utils/data/dataloader.py\", line 1478, in __del__\n",
            "    Exception ignored in: self._shutdown_workers()\n",
            "  File \"/usr/local/lib/python3.10/dist-packages/torch/utils/data/dataloader.py\", line 1461, in _shutdown_workers\n",
            "<function _MultiProcessingDataLoaderIter.__del__ at 0x7fe2777d2830>    \n",
            "if w.is_alive():Traceback (most recent call last):\n",
            "\n",
            "  File \"/usr/lib/python3.10/multiprocessing/process.py\", line 160, in is_alive\n",
            "      File \"/usr/local/lib/python3.10/dist-packages/torch/utils/data/dataloader.py\", line 1478, in __del__\n",
            "assert self._parent_pid == os.getpid(), 'can only test a child process'    \n",
            "self._shutdown_workers()\n",
            "AssertionError:   File \"/usr/local/lib/python3.10/dist-packages/torch/utils/data/dataloader.py\", line 1461, in _shutdown_workers\n",
            "can only test a child process\n",
            "    if w.is_alive():\n",
            "  File \"/usr/lib/python3.10/multiprocessing/process.py\", line 160, in is_alive\n",
            "    assert self._parent_pid == os.getpid(), 'can only test a child process'\n",
            "AssertionError: can only test a child process\n",
            "Epoch 27: 100%|██████████| 36/36 [00:03<00:00, 10.72batch/s, accuracy=0.872, loss=0.456]\n"
          ]
        },
        {
          "output_type": "stream",
          "name": "stdout",
          "text": [
            "Epoch: 27, learning rate: 5e-05, Training Loss: 0.1635, Training Accuracy: 0.9424, Test Loss: 0.4562, Test Accuracy: 0.8721\n"
          ]
        },
        {
          "output_type": "stream",
          "name": "stderr",
          "text": [
            "Epoch 28:   1%|          | 1/176 [00:00<01:12,  2.42batch/s, accuracy=0.947, loss=0.143]Exception ignored in: <function _MultiProcessingDataLoaderIter.__del__ at 0x7fe2777d2830>\n",
            "Traceback (most recent call last):\n",
            "  File \"/usr/local/lib/python3.10/dist-packages/torch/utils/data/dataloader.py\", line 1478, in __del__\n",
            "    self._shutdown_workers()\n",
            "  File \"/usr/local/lib/python3.10/dist-packages/torch/utils/data/dataloader.py\", line 1461, in _shutdown_workers\n",
            "    if w.is_alive():\n",
            "  File \"/usr/lib/python3.10/multiprocessing/process.py\", line 160, in is_alive\n",
            "    assert self._parent_pid == os.getpid(), 'can only test a child process'\n",
            "AssertionError: can only test a child process\n",
            "Exception ignored in: <function _MultiProcessingDataLoaderIter.__del__ at 0x7fe2777d2830>\n",
            "Traceback (most recent call last):\n",
            "  File \"/usr/local/lib/python3.10/dist-packages/torch/utils/data/dataloader.py\", line 1478, in __del__\n",
            "    self._shutdown_workers()\n",
            "  File \"/usr/local/lib/python3.10/dist-packages/torch/utils/data/dataloader.py\", line 1461, in _shutdown_workers\n",
            "    if w.is_alive():\n",
            "  File \"/usr/lib/python3.10/multiprocessing/process.py\", line 160, in is_alive\n",
            "    assert self._parent_pid == os.getpid(), 'can only test a child process'\n",
            "AssertionError: can only test a child process\n",
            "Epoch 28: 100%|██████████| 176/176 [00:23<00:00,  7.55batch/s, accuracy=0.943, loss=0.161]\n",
            "Epoch 28:   3%|▎         | 1/36 [00:00<00:10,  3.42batch/s, accuracy=0.865, loss=0.431]Exception ignored in: <function _MultiProcessingDataLoaderIter.__del__ at 0x7fe2777d2830>\n",
            "Traceback (most recent call last):\n",
            "  File \"/usr/local/lib/python3.10/dist-packages/torch/utils/data/dataloader.py\", line 1478, in __del__\n",
            "    self._shutdown_workers()\n",
            "  File \"/usr/local/lib/python3.10/dist-packages/torch/utils/data/dataloader.py\", line 1461, in _shutdown_workers\n",
            "    if w.is_alive():\n",
            "  File \"/usr/lib/python3.10/multiprocessing/process.py\", line 160, in is_alive\n",
            "    assert self._parent_pid == os.getpid(), 'can only test a child process'\n",
            "AssertionError: can only test a child process\n",
            "Exception ignored in: <function _MultiProcessingDataLoaderIter.__del__ at 0x7fe2777d2830>\n",
            "Traceback (most recent call last):\n",
            "  File \"/usr/local/lib/python3.10/dist-packages/torch/utils/data/dataloader.py\", line 1478, in __del__\n",
            "    self._shutdown_workers()\n",
            "  File \"/usr/local/lib/python3.10/dist-packages/torch/utils/data/dataloader.py\", line 1461, in _shutdown_workers\n",
            "    if w.is_alive():\n",
            "  File \"/usr/lib/python3.10/multiprocessing/process.py\", line 160, in is_alive\n",
            "    assert self._parent_pid == os.getpid(), 'can only test a child process'\n",
            "AssertionError: can only test a child process\n",
            "Epoch 28: 100%|██████████| 36/36 [00:03<00:00, 10.54batch/s, accuracy=0.871, loss=0.448]\n"
          ]
        },
        {
          "output_type": "stream",
          "name": "stdout",
          "text": [
            "Epoch: 28, learning rate: 5e-05, Training Loss: 0.1612, Training Accuracy: 0.9432, Test Loss: 0.4477, Test Accuracy: 0.8711\n"
          ]
        },
        {
          "output_type": "stream",
          "name": "stderr",
          "text": [
            "\r  0%|          | 0/176 [00:00<?, ?batch/s]Exception ignored in: <function _MultiProcessingDataLoaderIter.__del__ at 0x7fe2777d2830>\n",
            "Traceback (most recent call last):\n",
            "  File \"/usr/local/lib/python3.10/dist-packages/torch/utils/data/dataloader.py\", line 1478, in __del__\n",
            "Exception ignored in:     <function _MultiProcessingDataLoaderIter.__del__ at 0x7fe2777d2830>self._shutdown_workers()\n",
            "\n",
            "  File \"/usr/local/lib/python3.10/dist-packages/torch/utils/data/dataloader.py\", line 1461, in _shutdown_workers\n",
            "Traceback (most recent call last):\n",
            "    if w.is_alive():  File \"/usr/local/lib/python3.10/dist-packages/torch/utils/data/dataloader.py\", line 1478, in __del__\n",
            "    \n",
            "self._shutdown_workers()  File \"/usr/lib/python3.10/multiprocessing/process.py\", line 160, in is_alive\n",
            "\n",
            "  File \"/usr/local/lib/python3.10/dist-packages/torch/utils/data/dataloader.py\", line 1461, in _shutdown_workers\n",
            "        assert self._parent_pid == os.getpid(), 'can only test a child process'if w.is_alive():\n",
            "\n",
            "AssertionError:   File \"/usr/lib/python3.10/multiprocessing/process.py\", line 160, in is_alive\n",
            "    can only test a child processassert self._parent_pid == os.getpid(), 'can only test a child process'\n",
            "\n",
            "AssertionError: can only test a child process\n",
            "Epoch 29: 100%|██████████| 176/176 [00:23<00:00,  7.45batch/s, accuracy=0.946, loss=0.155]\n",
            "  0%|          | 0/36 [00:00<?, ?batch/s]Exception ignored in: <function _MultiProcessingDataLoaderIter.__del__ at 0x7fe2777d2830>Exception ignored in: <function _MultiProcessingDataLoaderIter.__del__ at 0x7fe2777d2830>\n",
            "\n",
            "Traceback (most recent call last):\n",
            "  File \"/usr/local/lib/python3.10/dist-packages/torch/utils/data/dataloader.py\", line 1478, in __del__\n",
            "Traceback (most recent call last):\n",
            "      File \"/usr/local/lib/python3.10/dist-packages/torch/utils/data/dataloader.py\", line 1478, in __del__\n",
            "self._shutdown_workers()    self._shutdown_workers()\n",
            "  File \"/usr/local/lib/python3.10/dist-packages/torch/utils/data/dataloader.py\", line 1461, in _shutdown_workers\n",
            "\n",
            "    if w.is_alive():\n",
            "  File \"/usr/lib/python3.10/multiprocessing/process.py\", line 160, in is_alive\n",
            "    assert self._parent_pid == os.getpid(), 'can only test a child process'\n",
            "  File \"/usr/local/lib/python3.10/dist-packages/torch/utils/data/dataloader.py\", line 1461, in _shutdown_workers\n",
            "AssertionError    : if w.is_alive():can only test a child process\n",
            "\n",
            "  File \"/usr/lib/python3.10/multiprocessing/process.py\", line 160, in is_alive\n",
            "    assert self._parent_pid == os.getpid(), 'can only test a child process'\n",
            "AssertionError: can only test a child process\n",
            "Epoch 29: 100%|██████████| 36/36 [00:03<00:00, 10.60batch/s, accuracy=0.87, loss=0.462]\n"
          ]
        },
        {
          "output_type": "stream",
          "name": "stdout",
          "text": [
            "Epoch: 29, learning rate: 5e-05, Training Loss: 0.1545, Training Accuracy: 0.9458, Test Loss: 0.4616, Test Accuracy: 0.8703\n"
          ]
        },
        {
          "output_type": "stream",
          "name": "stderr",
          "text": [
            "\r  0%|          | 0/176 [00:00<?, ?batch/s]Exception ignored in: <function _MultiProcessingDataLoaderIter.__del__ at 0x7fe2777d2830>Exception ignored in: \n",
            "Traceback (most recent call last):\n",
            "<function _MultiProcessingDataLoaderIter.__del__ at 0x7fe2777d2830>  File \"/usr/local/lib/python3.10/dist-packages/torch/utils/data/dataloader.py\", line 1478, in __del__\n",
            "    self._shutdown_workers()\n",
            "\n",
            "  File \"/usr/local/lib/python3.10/dist-packages/torch/utils/data/dataloader.py\", line 1461, in _shutdown_workers\n",
            "    if w.is_alive():Traceback (most recent call last):\n",
            "  File \"/usr/local/lib/python3.10/dist-packages/torch/utils/data/dataloader.py\", line 1478, in __del__\n",
            "\n",
            "      File \"/usr/lib/python3.10/multiprocessing/process.py\", line 160, in is_alive\n",
            "self._shutdown_workers()\n",
            "  File \"/usr/local/lib/python3.10/dist-packages/torch/utils/data/dataloader.py\", line 1461, in _shutdown_workers\n",
            "        assert self._parent_pid == os.getpid(), 'can only test a child process'if w.is_alive():\n",
            "\n",
            "AssertionError  File \"/usr/lib/python3.10/multiprocessing/process.py\", line 160, in is_alive\n",
            ":     can only test a child processassert self._parent_pid == os.getpid(), 'can only test a child process'\n",
            "\n",
            "AssertionError: can only test a child process\n",
            "Epoch 30: 100%|██████████| 176/176 [00:23<00:00,  7.40batch/s, accuracy=0.947, loss=0.148]\n",
            "  0%|          | 0/36 [00:00<?, ?batch/s]Exception ignored in: <function _MultiProcessingDataLoaderIter.__del__ at 0x7fe2777d2830>\n",
            "Exception ignored in: Traceback (most recent call last):\n",
            "  File \"/usr/local/lib/python3.10/dist-packages/torch/utils/data/dataloader.py\", line 1478, in __del__\n",
            "    self._shutdown_workers()\n",
            "  File \"/usr/local/lib/python3.10/dist-packages/torch/utils/data/dataloader.py\", line 1461, in _shutdown_workers\n",
            "    if w.is_alive():\n",
            "  File \"/usr/lib/python3.10/multiprocessing/process.py\", line 160, in is_alive\n",
            "    assert self._parent_pid == os.getpid(), 'can only test a child process'<function _MultiProcessingDataLoaderIter.__del__ at 0x7fe2777d2830>\n",
            "AssertionError: can only test a child process\n",
            "\n",
            "Traceback (most recent call last):\n",
            "  File \"/usr/local/lib/python3.10/dist-packages/torch/utils/data/dataloader.py\", line 1478, in __del__\n",
            "    self._shutdown_workers()\n",
            "  File \"/usr/local/lib/python3.10/dist-packages/torch/utils/data/dataloader.py\", line 1461, in _shutdown_workers\n",
            "    if w.is_alive():\n",
            "  File \"/usr/lib/python3.10/multiprocessing/process.py\", line 160, in is_alive\n",
            "    assert self._parent_pid == os.getpid(), 'can only test a child process'\n",
            "AssertionError: can only test a child process\n",
            "Epoch 30: 100%|██████████| 36/36 [00:03<00:00, 10.60batch/s, accuracy=0.872, loss=0.472]\n"
          ]
        },
        {
          "output_type": "stream",
          "name": "stdout",
          "text": [
            "Epoch: 30, learning rate: 5e-05, Training Loss: 0.1476, Training Accuracy: 0.9465, Test Loss: 0.4720, Test Accuracy: 0.8722\n"
          ]
        },
        {
          "output_type": "stream",
          "name": "stderr",
          "text": [
            "\r  0%|          | 0/176 [00:00<?, ?batch/s]Exception ignored in: <function _MultiProcessingDataLoaderIter.__del__ at 0x7fe2777d2830>\n",
            "Traceback (most recent call last):\n",
            "Exception ignored in:   File \"/usr/local/lib/python3.10/dist-packages/torch/utils/data/dataloader.py\", line 1478, in __del__\n",
            "<function _MultiProcessingDataLoaderIter.__del__ at 0x7fe2777d2830>    self._shutdown_workers()\n",
            "\n",
            "  File \"/usr/local/lib/python3.10/dist-packages/torch/utils/data/dataloader.py\", line 1461, in _shutdown_workers\n",
            "Traceback (most recent call last):\n",
            "    if w.is_alive():  File \"/usr/local/lib/python3.10/dist-packages/torch/utils/data/dataloader.py\", line 1478, in __del__\n",
            "\n",
            "      File \"/usr/lib/python3.10/multiprocessing/process.py\", line 160, in is_alive\n",
            "self._shutdown_workers()    \n",
            "assert self._parent_pid == os.getpid(), 'can only test a child process'  File \"/usr/local/lib/python3.10/dist-packages/torch/utils/data/dataloader.py\", line 1461, in _shutdown_workers\n",
            "    \n",
            "if w.is_alive():\n",
            "AssertionError  File \"/usr/lib/python3.10/multiprocessing/process.py\", line 160, in is_alive\n",
            ":     can only test a child processassert self._parent_pid == os.getpid(), 'can only test a child process'\n",
            "\n",
            "AssertionError: can only test a child process\n",
            "Epoch 31: 100%|██████████| 176/176 [00:23<00:00,  7.50batch/s, accuracy=0.95, loss=0.141]\n",
            "Epoch 31: 100%|██████████| 36/36 [00:02<00:00, 12.58batch/s, accuracy=0.872, loss=0.477]\n"
          ]
        },
        {
          "output_type": "stream",
          "name": "stdout",
          "text": [
            "Epoch: 31, learning rate: 5e-05, Training Loss: 0.1409, Training Accuracy: 0.9499, Test Loss: 0.4768, Test Accuracy: 0.8717\n"
          ]
        },
        {
          "output_type": "stream",
          "name": "stderr",
          "text": [
            "Epoch 32: 100%|██████████| 176/176 [00:22<00:00,  7.78batch/s, accuracy=0.949, loss=0.142]\n",
            "Epoch 32: 100%|██████████| 36/36 [00:02<00:00, 12.14batch/s, accuracy=0.873, loss=0.479]\n"
          ]
        },
        {
          "output_type": "stream",
          "name": "stdout",
          "text": [
            "Epoch: 32, learning rate: 5e-05, Training Loss: 0.1416, Training Accuracy: 0.9493, Test Loss: 0.4786, Test Accuracy: 0.8728\n"
          ]
        },
        {
          "output_type": "stream",
          "name": "stderr",
          "text": [
            "Epoch 33: 100%|██████████| 176/176 [00:22<00:00,  7.77batch/s, accuracy=0.95, loss=0.137]\n",
            "Epoch 33: 100%|██████████| 36/36 [00:03<00:00, 11.96batch/s, accuracy=0.871, loss=0.479]\n"
          ]
        },
        {
          "output_type": "stream",
          "name": "stdout",
          "text": [
            "Epoch: 33, learning rate: 5e-05, Training Loss: 0.1374, Training Accuracy: 0.9501, Test Loss: 0.4789, Test Accuracy: 0.8710\n"
          ]
        },
        {
          "output_type": "stream",
          "name": "stderr",
          "text": [
            "Epoch 34: 100%|██████████| 176/176 [00:22<00:00,  7.66batch/s, accuracy=0.954, loss=0.13]\n",
            "Epoch 34: 100%|██████████| 36/36 [00:03<00:00, 11.88batch/s, accuracy=0.874, loss=0.5]\n"
          ]
        },
        {
          "output_type": "stream",
          "name": "stdout",
          "text": [
            "Epoch: 34, learning rate: 5e-05, Training Loss: 0.1299, Training Accuracy: 0.9540, Test Loss: 0.4998, Test Accuracy: 0.8741\n"
          ]
        },
        {
          "output_type": "stream",
          "name": "stderr",
          "text": [
            "Epoch 35: 100%|██████████| 176/176 [00:22<00:00,  7.68batch/s, accuracy=0.955, loss=0.128]\n",
            "Epoch 35: 100%|██████████| 36/36 [00:02<00:00, 12.32batch/s, accuracy=0.871, loss=0.504]\n"
          ]
        },
        {
          "output_type": "stream",
          "name": "stdout",
          "text": [
            "Epoch: 35, learning rate: 5e-05, Training Loss: 0.1277, Training Accuracy: 0.9546, Test Loss: 0.5038, Test Accuracy: 0.8709\n"
          ]
        },
        {
          "output_type": "stream",
          "name": "stderr",
          "text": [
            "Epoch 36: 100%|██████████| 176/176 [00:22<00:00,  7.76batch/s, accuracy=0.955, loss=0.126]\n",
            "Epoch 36: 100%|██████████| 36/36 [00:02<00:00, 12.53batch/s, accuracy=0.87, loss=0.502]\n"
          ]
        },
        {
          "output_type": "stream",
          "name": "stdout",
          "text": [
            "Epoch: 36, learning rate: 5e-05, Training Loss: 0.1261, Training Accuracy: 0.9545, Test Loss: 0.5021, Test Accuracy: 0.8702\n"
          ]
        },
        {
          "output_type": "stream",
          "name": "stderr",
          "text": [
            "Epoch 37: 100%|██████████| 176/176 [00:22<00:00,  7.71batch/s, accuracy=0.957, loss=0.12]\n",
            "Epoch 37: 100%|██████████| 36/36 [00:02<00:00, 12.45batch/s, accuracy=0.867, loss=0.509]\n"
          ]
        },
        {
          "output_type": "stream",
          "name": "stdout",
          "text": [
            "Epoch: 37, learning rate: 5e-05, Training Loss: 0.1205, Training Accuracy: 0.9570, Test Loss: 0.5094, Test Accuracy: 0.8674\n"
          ]
        },
        {
          "output_type": "stream",
          "name": "stderr",
          "text": [
            "Epoch 38: 100%|██████████| 176/176 [00:22<00:00,  7.71batch/s, accuracy=0.959, loss=0.115]\n",
            "Epoch 38: 100%|██████████| 36/36 [00:02<00:00, 12.20batch/s, accuracy=0.868, loss=0.526]\n"
          ]
        },
        {
          "output_type": "stream",
          "name": "stdout",
          "text": [
            "Epoch: 38, learning rate: 5e-05, Training Loss: 0.1148, Training Accuracy: 0.9590, Test Loss: 0.5264, Test Accuracy: 0.8682\n"
          ]
        },
        {
          "output_type": "stream",
          "name": "stderr",
          "text": [
            "Epoch 39: 100%|██████████| 176/176 [00:22<00:00,  7.76batch/s, accuracy=0.959, loss=0.113]\n",
            "Epoch 39: 100%|██████████| 36/36 [00:02<00:00, 12.27batch/s, accuracy=0.87, loss=0.527]\n"
          ]
        },
        {
          "output_type": "stream",
          "name": "stdout",
          "text": [
            "Epoch: 39, learning rate: 5e-05, Training Loss: 0.1133, Training Accuracy: 0.9589, Test Loss: 0.5266, Test Accuracy: 0.8703\n"
          ]
        },
        {
          "output_type": "stream",
          "name": "stderr",
          "text": [
            "Epoch 40: 100%|██████████| 176/176 [00:22<00:00,  7.85batch/s, accuracy=0.96, loss=0.113]\n",
            "Epoch 40: 100%|██████████| 36/36 [00:03<00:00, 11.36batch/s, accuracy=0.87, loss=0.531]\n"
          ]
        },
        {
          "output_type": "stream",
          "name": "stdout",
          "text": [
            "Epoch: 40, learning rate: 5e-06, Training Loss: 0.1126, Training Accuracy: 0.9596, Test Loss: 0.5312, Test Accuracy: 0.8704\n"
          ]
        },
        {
          "output_type": "stream",
          "name": "stderr",
          "text": [
            "Epoch 41: 100%|██████████| 176/176 [00:21<00:00,  8.04batch/s, accuracy=0.964, loss=0.103]\n",
            "Epoch 41: 100%|██████████| 36/36 [00:03<00:00, 10.46batch/s, accuracy=0.872, loss=0.518]\n"
          ]
        },
        {
          "output_type": "stream",
          "name": "stdout",
          "text": [
            "Epoch: 41, learning rate: 5e-06, Training Loss: 0.1030, Training Accuracy: 0.9636, Test Loss: 0.5183, Test Accuracy: 0.8718\n"
          ]
        },
        {
          "output_type": "stream",
          "name": "stderr",
          "text": [
            "Epoch 42: 100%|██████████| 176/176 [00:21<00:00,  8.07batch/s, accuracy=0.964, loss=0.102]\n",
            "Epoch 42: 100%|██████████| 36/36 [00:03<00:00,  9.77batch/s, accuracy=0.871, loss=0.52]\n"
          ]
        },
        {
          "output_type": "stream",
          "name": "stdout",
          "text": [
            "Epoch: 42, learning rate: 5e-06, Training Loss: 0.1024, Training Accuracy: 0.9640, Test Loss: 0.5197, Test Accuracy: 0.8709\n"
          ]
        },
        {
          "output_type": "stream",
          "name": "stderr",
          "text": [
            "Epoch 43: 100%|██████████| 176/176 [00:21<00:00,  8.16batch/s, accuracy=0.965, loss=0.0992]\n",
            "Epoch 43: 100%|██████████| 36/36 [00:03<00:00,  9.10batch/s, accuracy=0.871, loss=0.536]\n"
          ]
        },
        {
          "output_type": "stream",
          "name": "stdout",
          "text": [
            "Epoch: 43, learning rate: 5e-06, Training Loss: 0.0992, Training Accuracy: 0.9652, Test Loss: 0.5364, Test Accuracy: 0.8706\n"
          ]
        },
        {
          "output_type": "stream",
          "name": "stderr",
          "text": [
            "Epoch 44: 100%|██████████| 176/176 [00:21<00:00,  8.20batch/s, accuracy=0.964, loss=0.0979]\n",
            "Epoch 44: 100%|██████████| 36/36 [00:03<00:00,  9.08batch/s, accuracy=0.871, loss=0.534]\n"
          ]
        },
        {
          "output_type": "stream",
          "name": "stdout",
          "text": [
            "Epoch: 44, learning rate: 5e-06, Training Loss: 0.0979, Training Accuracy: 0.9645, Test Loss: 0.5343, Test Accuracy: 0.8713\n"
          ]
        },
        {
          "output_type": "stream",
          "name": "stderr",
          "text": [
            "Epoch 45: 100%|██████████| 176/176 [00:21<00:00,  8.22batch/s, accuracy=0.966, loss=0.0966]\n",
            "Epoch 45: 100%|██████████| 36/36 [00:03<00:00, 10.08batch/s, accuracy=0.872, loss=0.538]\n"
          ]
        },
        {
          "output_type": "stream",
          "name": "stdout",
          "text": [
            "Epoch: 45, learning rate: 5e-06, Training Loss: 0.0966, Training Accuracy: 0.9661, Test Loss: 0.5376, Test Accuracy: 0.8717\n"
          ]
        },
        {
          "output_type": "stream",
          "name": "stderr",
          "text": [
            "Epoch 46: 100%|██████████| 176/176 [00:21<00:00,  8.03batch/s, accuracy=0.966, loss=0.0994]\n",
            "Epoch 46: 100%|██████████| 36/36 [00:03<00:00, 11.53batch/s, accuracy=0.871, loss=0.541]\n"
          ]
        },
        {
          "output_type": "stream",
          "name": "stdout",
          "text": [
            "Epoch: 46, learning rate: 5e-06, Training Loss: 0.0994, Training Accuracy: 0.9656, Test Loss: 0.5405, Test Accuracy: 0.8711\n"
          ]
        },
        {
          "output_type": "stream",
          "name": "stderr",
          "text": [
            "Epoch 47: 100%|██████████| 176/176 [00:22<00:00,  7.66batch/s, accuracy=0.965, loss=0.0972]\n",
            "Epoch 47: 100%|██████████| 36/36 [00:03<00:00, 11.81batch/s, accuracy=0.872, loss=0.543]\n"
          ]
        },
        {
          "output_type": "stream",
          "name": "stdout",
          "text": [
            "Epoch: 47, learning rate: 5e-06, Training Loss: 0.0972, Training Accuracy: 0.9652, Test Loss: 0.5426, Test Accuracy: 0.8718\n"
          ]
        },
        {
          "output_type": "stream",
          "name": "stderr",
          "text": [
            "Epoch 48: 100%|██████████| 176/176 [00:22<00:00,  7.73batch/s, accuracy=0.967, loss=0.0938]\n",
            "Epoch 48: 100%|██████████| 36/36 [00:03<00:00, 11.12batch/s, accuracy=0.872, loss=0.544]\n"
          ]
        },
        {
          "output_type": "stream",
          "name": "stdout",
          "text": [
            "Epoch: 48, learning rate: 5e-06, Training Loss: 0.0938, Training Accuracy: 0.9666, Test Loss: 0.5437, Test Accuracy: 0.8716\n"
          ]
        },
        {
          "output_type": "stream",
          "name": "stderr",
          "text": [
            "Epoch 49: 100%|██████████| 176/176 [00:22<00:00,  7.68batch/s, accuracy=0.966, loss=0.0972]\n",
            "Epoch 49: 100%|██████████| 36/36 [00:03<00:00, 11.73batch/s, accuracy=0.872, loss=0.548]\n"
          ]
        },
        {
          "output_type": "stream",
          "name": "stdout",
          "text": [
            "Epoch: 49, learning rate: 5e-06, Training Loss: 0.0972, Training Accuracy: 0.9656, Test Loss: 0.5477, Test Accuracy: 0.8718\n"
          ]
        },
        {
          "output_type": "stream",
          "name": "stderr",
          "text": [
            "Epoch 50: 100%|██████████| 176/176 [00:22<00:00,  7.74batch/s, accuracy=0.965, loss=0.0982]\n",
            "Epoch 50: 100%|██████████| 36/36 [00:02<00:00, 12.04batch/s, accuracy=0.871, loss=0.546]\n"
          ]
        },
        {
          "output_type": "stream",
          "name": "stdout",
          "text": [
            "Epoch: 50, learning rate: 5e-06, Training Loss: 0.0982, Training Accuracy: 0.9653, Test Loss: 0.5457, Test Accuracy: 0.8714\n"
          ]
        },
        {
          "output_type": "stream",
          "name": "stderr",
          "text": [
            "Epoch 51: 100%|██████████| 176/176 [00:23<00:00,  7.55batch/s, accuracy=0.966, loss=0.0939]\n",
            "Epoch 51: 100%|██████████| 36/36 [00:03<00:00, 11.76batch/s, accuracy=0.87, loss=0.547]\n"
          ]
        },
        {
          "output_type": "stream",
          "name": "stdout",
          "text": [
            "Epoch: 51, learning rate: 5e-06, Training Loss: 0.0939, Training Accuracy: 0.9660, Test Loss: 0.5471, Test Accuracy: 0.8701\n"
          ]
        },
        {
          "output_type": "stream",
          "name": "stderr",
          "text": [
            "Epoch 52: 100%|██████████| 176/176 [00:22<00:00,  7.66batch/s, accuracy=0.966, loss=0.096]\n",
            "Epoch 52: 100%|██████████| 36/36 [00:02<00:00, 12.09batch/s, accuracy=0.871, loss=0.55]\n"
          ]
        },
        {
          "output_type": "stream",
          "name": "stdout",
          "text": [
            "Epoch: 52, learning rate: 5e-06, Training Loss: 0.0960, Training Accuracy: 0.9660, Test Loss: 0.5502, Test Accuracy: 0.8707\n"
          ]
        },
        {
          "output_type": "stream",
          "name": "stderr",
          "text": [
            "Epoch 53: 100%|██████████| 176/176 [00:23<00:00,  7.61batch/s, accuracy=0.967, loss=0.0918]\n",
            "Epoch 53: 100%|██████████| 36/36 [00:03<00:00, 11.89batch/s, accuracy=0.87, loss=0.551]\n"
          ]
        },
        {
          "output_type": "stream",
          "name": "stdout",
          "text": [
            "Epoch: 53, learning rate: 5e-06, Training Loss: 0.0918, Training Accuracy: 0.9672, Test Loss: 0.5512, Test Accuracy: 0.8702\n"
          ]
        },
        {
          "output_type": "stream",
          "name": "stderr",
          "text": [
            "Epoch 54: 100%|██████████| 176/176 [00:23<00:00,  7.52batch/s, accuracy=0.966, loss=0.095]\n",
            "Epoch 54: 100%|██████████| 36/36 [00:03<00:00, 11.99batch/s, accuracy=0.87, loss=0.55]\n"
          ]
        },
        {
          "output_type": "stream",
          "name": "stdout",
          "text": [
            "Epoch: 54, learning rate: 5e-06, Training Loss: 0.0950, Training Accuracy: 0.9660, Test Loss: 0.5496, Test Accuracy: 0.8698\n"
          ]
        },
        {
          "output_type": "stream",
          "name": "stderr",
          "text": [
            "Epoch 55: 100%|██████████| 176/176 [00:23<00:00,  7.60batch/s, accuracy=0.966, loss=0.0938]\n",
            "Epoch 55: 100%|██████████| 36/36 [00:03<00:00, 11.94batch/s, accuracy=0.87, loss=0.554]\n"
          ]
        },
        {
          "output_type": "stream",
          "name": "stdout",
          "text": [
            "Epoch: 55, learning rate: 5e-06, Training Loss: 0.0938, Training Accuracy: 0.9660, Test Loss: 0.5544, Test Accuracy: 0.8704\n"
          ]
        },
        {
          "output_type": "stream",
          "name": "stderr",
          "text": [
            "Epoch 56: 100%|██████████| 176/176 [00:23<00:00,  7.59batch/s, accuracy=0.968, loss=0.0929]\n",
            "Epoch 56: 100%|██████████| 36/36 [00:02<00:00, 12.02batch/s, accuracy=0.871, loss=0.556]\n"
          ]
        },
        {
          "output_type": "stream",
          "name": "stdout",
          "text": [
            "Epoch: 56, learning rate: 5e-06, Training Loss: 0.0929, Training Accuracy: 0.9677, Test Loss: 0.5556, Test Accuracy: 0.8712\n"
          ]
        },
        {
          "output_type": "stream",
          "name": "stderr",
          "text": [
            "Epoch 57: 100%|██████████| 176/176 [00:23<00:00,  7.64batch/s, accuracy=0.967, loss=0.0937]\n",
            "Epoch 57: 100%|██████████| 36/36 [00:03<00:00, 12.00batch/s, accuracy=0.871, loss=0.56]\n"
          ]
        },
        {
          "output_type": "stream",
          "name": "stdout",
          "text": [
            "Epoch: 57, learning rate: 5e-06, Training Loss: 0.0937, Training Accuracy: 0.9669, Test Loss: 0.5595, Test Accuracy: 0.8712\n"
          ]
        },
        {
          "output_type": "stream",
          "name": "stderr",
          "text": [
            "Epoch 58: 100%|██████████| 176/176 [00:23<00:00,  7.55batch/s, accuracy=0.967, loss=0.0898]\n",
            "Epoch 58: 100%|██████████| 36/36 [00:03<00:00, 11.61batch/s, accuracy=0.87, loss=0.557]\n"
          ]
        },
        {
          "output_type": "stream",
          "name": "stdout",
          "text": [
            "Epoch: 58, learning rate: 5e-06, Training Loss: 0.0898, Training Accuracy: 0.9674, Test Loss: 0.5567, Test Accuracy: 0.8697\n"
          ]
        },
        {
          "output_type": "stream",
          "name": "stderr",
          "text": [
            "Epoch 59: 100%|██████████| 176/176 [00:23<00:00,  7.63batch/s, accuracy=0.969, loss=0.0894]\n",
            "Epoch 59: 100%|██████████| 36/36 [00:02<00:00, 12.18batch/s, accuracy=0.87, loss=0.557]\n"
          ]
        },
        {
          "output_type": "stream",
          "name": "stdout",
          "text": [
            "Epoch: 59, learning rate: 5e-06, Training Loss: 0.0894, Training Accuracy: 0.9687, Test Loss: 0.5574, Test Accuracy: 0.8696\n"
          ]
        },
        {
          "output_type": "stream",
          "name": "stderr",
          "text": [
            "Epoch 60: 100%|██████████| 176/176 [00:23<00:00,  7.55batch/s, accuracy=0.967, loss=0.0922]\n",
            "Epoch 60: 100%|██████████| 36/36 [00:02<00:00, 12.21batch/s, accuracy=0.87, loss=0.556]\n"
          ]
        },
        {
          "output_type": "stream",
          "name": "stdout",
          "text": [
            "Epoch: 60, learning rate: 5.000000000000001e-07, Training Loss: 0.0922, Training Accuracy: 0.9674, Test Loss: 0.5561, Test Accuracy: 0.8704\n"
          ]
        },
        {
          "output_type": "stream",
          "name": "stderr",
          "text": [
            "Epoch 61: 100%|██████████| 176/176 [00:23<00:00,  7.59batch/s, accuracy=0.969, loss=0.088]\n",
            "Epoch 61: 100%|██████████| 36/36 [00:03<00:00, 11.72batch/s, accuracy=0.871, loss=0.559]\n"
          ]
        },
        {
          "output_type": "stream",
          "name": "stdout",
          "text": [
            "Epoch: 61, learning rate: 5.000000000000001e-07, Training Loss: 0.0880, Training Accuracy: 0.9686, Test Loss: 0.5588, Test Accuracy: 0.8714\n"
          ]
        },
        {
          "output_type": "stream",
          "name": "stderr",
          "text": [
            "Epoch 62: 100%|██████████| 176/176 [00:23<00:00,  7.58batch/s, accuracy=0.968, loss=0.0895]\n",
            "Epoch 62: 100%|██████████| 36/36 [00:03<00:00, 11.66batch/s, accuracy=0.872, loss=0.557]\n"
          ]
        },
        {
          "output_type": "stream",
          "name": "stdout",
          "text": [
            "Epoch: 62, learning rate: 5.000000000000001e-07, Training Loss: 0.0895, Training Accuracy: 0.9682, Test Loss: 0.5567, Test Accuracy: 0.8719\n"
          ]
        },
        {
          "output_type": "stream",
          "name": "stderr",
          "text": [
            "Epoch 63: 100%|██████████| 176/176 [00:23<00:00,  7.53batch/s, accuracy=0.968, loss=0.0909]\n",
            "Epoch 63: 100%|██████████| 36/36 [00:02<00:00, 12.11batch/s, accuracy=0.87, loss=0.553]\n"
          ]
        },
        {
          "output_type": "stream",
          "name": "stdout",
          "text": [
            "Epoch: 63, learning rate: 5.000000000000001e-07, Training Loss: 0.0909, Training Accuracy: 0.9682, Test Loss: 0.5526, Test Accuracy: 0.8703\n"
          ]
        },
        {
          "output_type": "stream",
          "name": "stderr",
          "text": [
            "Epoch 64: 100%|██████████| 176/176 [00:23<00:00,  7.54batch/s, accuracy=0.968, loss=0.0903]\n",
            "Epoch 64: 100%|██████████| 36/36 [00:03<00:00, 11.83batch/s, accuracy=0.87, loss=0.559]\n"
          ]
        },
        {
          "output_type": "stream",
          "name": "stdout",
          "text": [
            "Epoch: 64, learning rate: 5.000000000000001e-07, Training Loss: 0.0903, Training Accuracy: 0.9681, Test Loss: 0.5588, Test Accuracy: 0.8704\n"
          ]
        },
        {
          "output_type": "stream",
          "name": "stderr",
          "text": [
            "Epoch 65: 100%|██████████| 176/176 [00:23<00:00,  7.51batch/s, accuracy=0.968, loss=0.0889]\n",
            "Epoch 65: 100%|██████████| 36/36 [00:02<00:00, 12.11batch/s, accuracy=0.87, loss=0.561]\n"
          ]
        },
        {
          "output_type": "stream",
          "name": "stdout",
          "text": [
            "Epoch: 65, learning rate: 5.000000000000001e-07, Training Loss: 0.0889, Training Accuracy: 0.9682, Test Loss: 0.5607, Test Accuracy: 0.8702\n"
          ]
        },
        {
          "output_type": "stream",
          "name": "stderr",
          "text": [
            "Epoch 66: 100%|██████████| 176/176 [00:23<00:00,  7.44batch/s, accuracy=0.969, loss=0.0871]\n",
            "Epoch 66: 100%|██████████| 36/36 [00:03<00:00, 11.69batch/s, accuracy=0.871, loss=0.559]\n"
          ]
        },
        {
          "output_type": "stream",
          "name": "stdout",
          "text": [
            "Epoch: 66, learning rate: 5.000000000000001e-07, Training Loss: 0.0871, Training Accuracy: 0.9694, Test Loss: 0.5586, Test Accuracy: 0.8710\n"
          ]
        },
        {
          "output_type": "stream",
          "name": "stderr",
          "text": [
            "Epoch 67: 100%|██████████| 176/176 [00:23<00:00,  7.51batch/s, accuracy=0.969, loss=0.0877]\n",
            "Epoch 67: 100%|██████████| 36/36 [00:02<00:00, 12.12batch/s, accuracy=0.87, loss=0.563]\n"
          ]
        },
        {
          "output_type": "stream",
          "name": "stdout",
          "text": [
            "Epoch: 67, learning rate: 5.000000000000001e-07, Training Loss: 0.0877, Training Accuracy: 0.9691, Test Loss: 0.5631, Test Accuracy: 0.8703\n"
          ]
        },
        {
          "output_type": "stream",
          "name": "stderr",
          "text": [
            "Epoch 68: 100%|██████████| 176/176 [00:23<00:00,  7.52batch/s, accuracy=0.968, loss=0.0879]\n",
            "Epoch 68: 100%|██████████| 36/36 [00:03<00:00, 11.95batch/s, accuracy=0.869, loss=0.557]\n"
          ]
        },
        {
          "output_type": "stream",
          "name": "stdout",
          "text": [
            "Epoch: 68, learning rate: 5.000000000000001e-07, Training Loss: 0.0879, Training Accuracy: 0.9684, Test Loss: 0.5571, Test Accuracy: 0.8692\n"
          ]
        },
        {
          "output_type": "stream",
          "name": "stderr",
          "text": [
            "Epoch 69: 100%|██████████| 176/176 [00:23<00:00,  7.50batch/s, accuracy=0.968, loss=0.0873]\n",
            "Epoch 69: 100%|██████████| 36/36 [00:03<00:00, 11.97batch/s, accuracy=0.871, loss=0.561]\n"
          ]
        },
        {
          "output_type": "stream",
          "name": "stdout",
          "text": [
            "Epoch: 69, learning rate: 5.000000000000001e-07, Training Loss: 0.0873, Training Accuracy: 0.9680, Test Loss: 0.5609, Test Accuracy: 0.8712\n"
          ]
        },
        {
          "output_type": "stream",
          "name": "stderr",
          "text": [
            "Epoch 70: 100%|██████████| 176/176 [00:23<00:00,  7.55batch/s, accuracy=0.969, loss=0.0886]\n",
            "Epoch 70: 100%|██████████| 36/36 [00:02<00:00, 12.29batch/s, accuracy=0.871, loss=0.562]\n"
          ]
        },
        {
          "output_type": "stream",
          "name": "stdout",
          "text": [
            "Epoch: 70, learning rate: 5.000000000000001e-07, Training Loss: 0.0886, Training Accuracy: 0.9693, Test Loss: 0.5616, Test Accuracy: 0.8707\n"
          ]
        },
        {
          "output_type": "stream",
          "name": "stderr",
          "text": [
            "Epoch 71: 100%|██████████| 176/176 [00:23<00:00,  7.56batch/s, accuracy=0.969, loss=0.0877]\n",
            "Epoch 71: 100%|██████████| 36/36 [00:03<00:00, 11.90batch/s, accuracy=0.871, loss=0.557]\n"
          ]
        },
        {
          "output_type": "stream",
          "name": "stdout",
          "text": [
            "Epoch: 71, learning rate: 5.000000000000001e-07, Training Loss: 0.0877, Training Accuracy: 0.9688, Test Loss: 0.5567, Test Accuracy: 0.8709\n"
          ]
        },
        {
          "output_type": "stream",
          "name": "stderr",
          "text": [
            "Epoch 72: 100%|██████████| 176/176 [00:22<00:00,  7.66batch/s, accuracy=0.969, loss=0.0872]\n",
            "Epoch 72: 100%|██████████| 36/36 [00:02<00:00, 12.10batch/s, accuracy=0.87, loss=0.559]\n"
          ]
        },
        {
          "output_type": "stream",
          "name": "stdout",
          "text": [
            "Epoch: 72, learning rate: 5.000000000000001e-07, Training Loss: 0.0872, Training Accuracy: 0.9685, Test Loss: 0.5587, Test Accuracy: 0.8703\n"
          ]
        },
        {
          "output_type": "stream",
          "name": "stderr",
          "text": [
            "Epoch 73: 100%|██████████| 176/176 [00:23<00:00,  7.60batch/s, accuracy=0.969, loss=0.0878]\n",
            "Epoch 73: 100%|██████████| 36/36 [00:03<00:00, 11.75batch/s, accuracy=0.871, loss=0.56]\n"
          ]
        },
        {
          "output_type": "stream",
          "name": "stdout",
          "text": [
            "Epoch: 73, learning rate: 5.000000000000001e-07, Training Loss: 0.0878, Training Accuracy: 0.9687, Test Loss: 0.5600, Test Accuracy: 0.8713\n"
          ]
        },
        {
          "output_type": "stream",
          "name": "stderr",
          "text": [
            "Epoch 74: 100%|██████████| 176/176 [00:22<00:00,  7.70batch/s, accuracy=0.968, loss=0.0894]\n",
            "Epoch 74: 100%|██████████| 36/36 [00:02<00:00, 12.37batch/s, accuracy=0.871, loss=0.561]\n"
          ]
        },
        {
          "output_type": "stream",
          "name": "stdout",
          "text": [
            "Epoch: 74, learning rate: 5.000000000000001e-07, Training Loss: 0.0894, Training Accuracy: 0.9678, Test Loss: 0.5608, Test Accuracy: 0.8709\n"
          ]
        },
        {
          "output_type": "stream",
          "name": "stderr",
          "text": [
            "Epoch 75: 100%|██████████| 176/176 [00:22<00:00,  7.67batch/s, accuracy=0.969, loss=0.0872]\n",
            "Epoch 75: 100%|██████████| 36/36 [00:02<00:00, 12.27batch/s, accuracy=0.871, loss=0.559]\n"
          ]
        },
        {
          "output_type": "stream",
          "name": "stdout",
          "text": [
            "Epoch: 75, learning rate: 5.000000000000001e-07, Training Loss: 0.0872, Training Accuracy: 0.9686, Test Loss: 0.5592, Test Accuracy: 0.8713\n"
          ]
        },
        {
          "output_type": "stream",
          "name": "stderr",
          "text": [
            "Epoch 76: 100%|██████████| 176/176 [00:22<00:00,  7.70batch/s, accuracy=0.969, loss=0.0906]\n",
            "Epoch 76: 100%|██████████| 36/36 [00:03<00:00, 11.81batch/s, accuracy=0.871, loss=0.555]\n"
          ]
        },
        {
          "output_type": "stream",
          "name": "stdout",
          "text": [
            "Epoch: 76, learning rate: 5.000000000000001e-07, Training Loss: 0.0906, Training Accuracy: 0.9685, Test Loss: 0.5547, Test Accuracy: 0.8710\n"
          ]
        },
        {
          "output_type": "stream",
          "name": "stderr",
          "text": [
            "Epoch 77: 100%|██████████| 176/176 [00:22<00:00,  7.83batch/s, accuracy=0.968, loss=0.0921]\n",
            "Epoch 77: 100%|██████████| 36/36 [00:02<00:00, 12.49batch/s, accuracy=0.871, loss=0.557]\n"
          ]
        },
        {
          "output_type": "stream",
          "name": "stdout",
          "text": [
            "Epoch: 77, learning rate: 5.000000000000001e-07, Training Loss: 0.0921, Training Accuracy: 0.9678, Test Loss: 0.5568, Test Accuracy: 0.8707\n"
          ]
        },
        {
          "output_type": "stream",
          "name": "stderr",
          "text": [
            "Epoch 78: 100%|██████████| 176/176 [00:22<00:00,  7.81batch/s, accuracy=0.968, loss=0.0873]\n",
            "Epoch 78: 100%|██████████| 36/36 [00:02<00:00, 12.53batch/s, accuracy=0.871, loss=0.559]\n"
          ]
        },
        {
          "output_type": "stream",
          "name": "stdout",
          "text": [
            "Epoch: 78, learning rate: 5.000000000000001e-07, Training Loss: 0.0873, Training Accuracy: 0.9685, Test Loss: 0.5586, Test Accuracy: 0.8706\n"
          ]
        },
        {
          "output_type": "stream",
          "name": "stderr",
          "text": [
            "Epoch 79: 100%|██████████| 176/176 [00:22<00:00,  7.90batch/s, accuracy=0.971, loss=0.0838]\n",
            "Epoch 79: 100%|██████████| 36/36 [00:02<00:00, 12.52batch/s, accuracy=0.871, loss=0.555]\n"
          ]
        },
        {
          "output_type": "stream",
          "name": "stdout",
          "text": [
            "Epoch: 79, learning rate: 5.000000000000001e-07, Training Loss: 0.0838, Training Accuracy: 0.9708, Test Loss: 0.5550, Test Accuracy: 0.8711\n"
          ]
        },
        {
          "output_type": "stream",
          "name": "stderr",
          "text": [
            "Epoch 80: 100%|██████████| 176/176 [00:21<00:00,  8.05batch/s, accuracy=0.968, loss=0.0886]\n",
            "Epoch 80: 100%|██████████| 36/36 [00:02<00:00, 12.51batch/s, accuracy=0.87, loss=0.559]\n"
          ]
        },
        {
          "output_type": "stream",
          "name": "stdout",
          "text": [
            "Epoch: 80, learning rate: 5.000000000000001e-08, Training Loss: 0.0886, Training Accuracy: 0.9677, Test Loss: 0.5586, Test Accuracy: 0.8702\n"
          ]
        },
        {
          "output_type": "stream",
          "name": "stderr",
          "text": [
            "Epoch 81: 100%|██████████| 176/176 [00:21<00:00,  8.27batch/s, accuracy=0.969, loss=0.0902]\n",
            "Epoch 81: 100%|██████████| 36/36 [00:03<00:00, 10.79batch/s, accuracy=0.871, loss=0.56]\n"
          ]
        },
        {
          "output_type": "stream",
          "name": "stdout",
          "text": [
            "Epoch: 81, learning rate: 5.000000000000001e-08, Training Loss: 0.0902, Training Accuracy: 0.9686, Test Loss: 0.5598, Test Accuracy: 0.8711\n"
          ]
        },
        {
          "output_type": "stream",
          "name": "stderr",
          "text": [
            "Epoch 82: 100%|██████████| 176/176 [00:21<00:00,  8.34batch/s, accuracy=0.967, loss=0.0905]\n",
            "Epoch 82: 100%|██████████| 36/36 [00:03<00:00,  9.20batch/s, accuracy=0.871, loss=0.558]\n"
          ]
        },
        {
          "output_type": "stream",
          "name": "stdout",
          "text": [
            "Epoch: 82, learning rate: 5.000000000000001e-08, Training Loss: 0.0905, Training Accuracy: 0.9674, Test Loss: 0.5579, Test Accuracy: 0.8707\n"
          ]
        },
        {
          "output_type": "stream",
          "name": "stderr",
          "text": [
            "Epoch 83: 100%|██████████| 176/176 [00:21<00:00,  8.29batch/s, accuracy=0.969, loss=0.087]\n",
            "Epoch 83: 100%|██████████| 36/36 [00:03<00:00, 10.11batch/s, accuracy=0.871, loss=0.563]\n"
          ]
        },
        {
          "output_type": "stream",
          "name": "stdout",
          "text": [
            "Epoch: 83, learning rate: 5.000000000000001e-08, Training Loss: 0.0870, Training Accuracy: 0.9687, Test Loss: 0.5629, Test Accuracy: 0.8706\n"
          ]
        },
        {
          "output_type": "stream",
          "name": "stderr",
          "text": [
            "Epoch 84: 100%|██████████| 176/176 [00:21<00:00,  8.25batch/s, accuracy=0.969, loss=0.0882]\n",
            "Epoch 84: 100%|██████████| 36/36 [00:03<00:00, 11.77batch/s, accuracy=0.872, loss=0.563]\n"
          ]
        },
        {
          "output_type": "stream",
          "name": "stdout",
          "text": [
            "Epoch: 84, learning rate: 5.000000000000001e-08, Training Loss: 0.0882, Training Accuracy: 0.9686, Test Loss: 0.5629, Test Accuracy: 0.8719\n"
          ]
        },
        {
          "output_type": "stream",
          "name": "stderr",
          "text": [
            "Epoch 85: 100%|██████████| 176/176 [00:21<00:00,  8.14batch/s, accuracy=0.969, loss=0.0874]\n",
            "Epoch 85: 100%|██████████| 36/36 [00:02<00:00, 12.93batch/s, accuracy=0.871, loss=0.563]\n"
          ]
        },
        {
          "output_type": "stream",
          "name": "stdout",
          "text": [
            "Epoch: 85, learning rate: 5.000000000000001e-08, Training Loss: 0.0874, Training Accuracy: 0.9694, Test Loss: 0.5634, Test Accuracy: 0.8707\n"
          ]
        },
        {
          "output_type": "stream",
          "name": "stderr",
          "text": [
            "Epoch 86: 100%|██████████| 176/176 [00:22<00:00,  7.86batch/s, accuracy=0.97, loss=0.0861]\n",
            "Epoch 86: 100%|██████████| 36/36 [00:02<00:00, 12.67batch/s, accuracy=0.87, loss=0.558]\n"
          ]
        },
        {
          "output_type": "stream",
          "name": "stdout",
          "text": [
            "Epoch: 86, learning rate: 5.000000000000001e-08, Training Loss: 0.0861, Training Accuracy: 0.9698, Test Loss: 0.5575, Test Accuracy: 0.8704\n"
          ]
        },
        {
          "output_type": "stream",
          "name": "stderr",
          "text": [
            "Epoch 87: 100%|██████████| 176/176 [00:22<00:00,  7.86batch/s, accuracy=0.969, loss=0.0875]\n",
            "Epoch 87: 100%|██████████| 36/36 [00:02<00:00, 12.49batch/s, accuracy=0.871, loss=0.563]\n"
          ]
        },
        {
          "output_type": "stream",
          "name": "stdout",
          "text": [
            "Epoch: 87, learning rate: 5.000000000000001e-08, Training Loss: 0.0875, Training Accuracy: 0.9690, Test Loss: 0.5632, Test Accuracy: 0.8714\n"
          ]
        },
        {
          "output_type": "stream",
          "name": "stderr",
          "text": [
            "Epoch 88: 100%|██████████| 176/176 [00:21<00:00,  8.00batch/s, accuracy=0.968, loss=0.0885]\n",
            "Epoch 88: 100%|██████████| 36/36 [00:02<00:00, 12.51batch/s, accuracy=0.87, loss=0.561]\n"
          ]
        },
        {
          "output_type": "stream",
          "name": "stdout",
          "text": [
            "Epoch: 88, learning rate: 5.000000000000001e-08, Training Loss: 0.0885, Training Accuracy: 0.9684, Test Loss: 0.5612, Test Accuracy: 0.8702\n"
          ]
        },
        {
          "output_type": "stream",
          "name": "stderr",
          "text": [
            "Epoch 89: 100%|██████████| 176/176 [00:22<00:00,  7.95batch/s, accuracy=0.968, loss=0.0907]\n",
            "Epoch 89: 100%|██████████| 36/36 [00:02<00:00, 12.25batch/s, accuracy=0.871, loss=0.559]\n"
          ]
        },
        {
          "output_type": "stream",
          "name": "stdout",
          "text": [
            "Epoch: 89, learning rate: 5.000000000000001e-08, Training Loss: 0.0907, Training Accuracy: 0.9679, Test Loss: 0.5586, Test Accuracy: 0.8707\n"
          ]
        },
        {
          "output_type": "stream",
          "name": "stderr",
          "text": [
            "Epoch 90: 100%|██████████| 176/176 [00:22<00:00,  7.69batch/s, accuracy=0.968, loss=0.0902]\n",
            "Epoch 90: 100%|██████████| 36/36 [00:02<00:00, 12.33batch/s, accuracy=0.87, loss=0.561]\n"
          ]
        },
        {
          "output_type": "stream",
          "name": "stdout",
          "text": [
            "Epoch: 90, learning rate: 5.000000000000001e-08, Training Loss: 0.0902, Training Accuracy: 0.9680, Test Loss: 0.5612, Test Accuracy: 0.8703\n"
          ]
        },
        {
          "output_type": "stream",
          "name": "stderr",
          "text": [
            "Epoch 91: 100%|██████████| 176/176 [00:22<00:00,  7.81batch/s, accuracy=0.969, loss=0.0894]\n",
            "Epoch 91: 100%|██████████| 36/36 [00:02<00:00, 12.48batch/s, accuracy=0.871, loss=0.562]\n"
          ]
        },
        {
          "output_type": "stream",
          "name": "stdout",
          "text": [
            "Epoch: 91, learning rate: 5.000000000000001e-08, Training Loss: 0.0894, Training Accuracy: 0.9690, Test Loss: 0.5618, Test Accuracy: 0.8712\n"
          ]
        },
        {
          "output_type": "stream",
          "name": "stderr",
          "text": [
            "Epoch 92: 100%|██████████| 176/176 [00:22<00:00,  7.92batch/s, accuracy=0.969, loss=0.0861]\n",
            "Epoch 92: 100%|██████████| 36/36 [00:02<00:00, 12.28batch/s, accuracy=0.872, loss=0.561]\n"
          ]
        },
        {
          "output_type": "stream",
          "name": "stdout",
          "text": [
            "Epoch: 92, learning rate: 5.000000000000001e-08, Training Loss: 0.0861, Training Accuracy: 0.9692, Test Loss: 0.5611, Test Accuracy: 0.8716\n"
          ]
        },
        {
          "output_type": "stream",
          "name": "stderr",
          "text": [
            "Epoch 93: 100%|██████████| 176/176 [00:22<00:00,  7.76batch/s, accuracy=0.969, loss=0.0873]\n",
            "Epoch 93: 100%|██████████| 36/36 [00:03<00:00, 11.57batch/s, accuracy=0.872, loss=0.564]\n"
          ]
        },
        {
          "output_type": "stream",
          "name": "stdout",
          "text": [
            "Epoch: 93, learning rate: 5.000000000000001e-08, Training Loss: 0.0873, Training Accuracy: 0.9689, Test Loss: 0.5636, Test Accuracy: 0.8720\n"
          ]
        },
        {
          "output_type": "stream",
          "name": "stderr",
          "text": [
            "Epoch 94: 100%|██████████| 176/176 [00:22<00:00,  7.94batch/s, accuracy=0.971, loss=0.0839]\n",
            "Epoch 94: 100%|██████████| 36/36 [00:03<00:00, 10.34batch/s, accuracy=0.872, loss=0.559]\n"
          ]
        },
        {
          "output_type": "stream",
          "name": "stdout",
          "text": [
            "Epoch: 94, learning rate: 5.000000000000001e-08, Training Loss: 0.0839, Training Accuracy: 0.9706, Test Loss: 0.5591, Test Accuracy: 0.8723\n"
          ]
        },
        {
          "output_type": "stream",
          "name": "stderr",
          "text": [
            "Epoch 95: 100%|██████████| 176/176 [00:21<00:00,  8.16batch/s, accuracy=0.97, loss=0.0866]\n",
            "Epoch 95: 100%|██████████| 36/36 [00:03<00:00,  9.56batch/s, accuracy=0.87, loss=0.557]\n"
          ]
        },
        {
          "output_type": "stream",
          "name": "stdout",
          "text": [
            "Epoch: 95, learning rate: 5.000000000000001e-08, Training Loss: 0.0866, Training Accuracy: 0.9696, Test Loss: 0.5572, Test Accuracy: 0.8698\n"
          ]
        },
        {
          "output_type": "stream",
          "name": "stderr",
          "text": [
            "Epoch 96: 100%|██████████| 176/176 [00:21<00:00,  8.20batch/s, accuracy=0.968, loss=0.0894]\n",
            "Epoch 96: 100%|██████████| 36/36 [00:04<00:00,  8.68batch/s, accuracy=0.871, loss=0.565]\n"
          ]
        },
        {
          "output_type": "stream",
          "name": "stdout",
          "text": [
            "Epoch: 96, learning rate: 5.000000000000001e-08, Training Loss: 0.0894, Training Accuracy: 0.9685, Test Loss: 0.5655, Test Accuracy: 0.8710\n"
          ]
        },
        {
          "output_type": "stream",
          "name": "stderr",
          "text": [
            "Epoch 97: 100%|██████████| 176/176 [00:21<00:00,  8.15batch/s, accuracy=0.968, loss=0.0898]\n",
            "Epoch 97: 100%|██████████| 36/36 [00:03<00:00,  9.07batch/s, accuracy=0.871, loss=0.561]\n"
          ]
        },
        {
          "output_type": "stream",
          "name": "stdout",
          "text": [
            "Epoch: 97, learning rate: 5.000000000000001e-08, Training Loss: 0.0898, Training Accuracy: 0.9681, Test Loss: 0.5610, Test Accuracy: 0.8711\n"
          ]
        },
        {
          "output_type": "stream",
          "name": "stderr",
          "text": [
            "Epoch 98: 100%|██████████| 176/176 [00:21<00:00,  8.07batch/s, accuracy=0.968, loss=0.0921]\n",
            "Epoch 98: 100%|██████████| 36/36 [00:03<00:00, 10.09batch/s, accuracy=0.871, loss=0.564]\n"
          ]
        },
        {
          "output_type": "stream",
          "name": "stdout",
          "text": [
            "Epoch: 98, learning rate: 5.000000000000001e-08, Training Loss: 0.0921, Training Accuracy: 0.9677, Test Loss: 0.5640, Test Accuracy: 0.8706\n"
          ]
        },
        {
          "output_type": "stream",
          "name": "stderr",
          "text": [
            "Epoch 99: 100%|██████████| 176/176 [00:21<00:00,  8.06batch/s, accuracy=0.969, loss=0.087]\n",
            "Epoch 99: 100%|██████████| 36/36 [00:03<00:00, 11.93batch/s, accuracy=0.871, loss=0.562]\n"
          ]
        },
        {
          "output_type": "stream",
          "name": "stdout",
          "text": [
            "Epoch: 99, learning rate: 5.000000000000001e-08, Training Loss: 0.0870, Training Accuracy: 0.9689, Test Loss: 0.5622, Test Accuracy: 0.8711\n"
          ]
        },
        {
          "output_type": "stream",
          "name": "stderr",
          "text": [
            "Epoch 100: 100%|██████████| 176/176 [00:22<00:00,  7.85batch/s, accuracy=0.969, loss=0.088]\n",
            "Epoch 100: 100%|██████████| 36/36 [00:02<00:00, 12.53batch/s, accuracy=0.871, loss=0.561]\n"
          ]
        },
        {
          "output_type": "stream",
          "name": "stdout",
          "text": [
            "Epoch: 100, learning rate: 5.000000000000002e-09, Training Loss: 0.0880, Training Accuracy: 0.9695, Test Loss: 0.5613, Test Accuracy: 0.8713\n"
          ]
        },
        {
          "output_type": "stream",
          "name": "stderr",
          "text": [
            "Epoch 101: 100%|██████████| 176/176 [00:22<00:00,  7.89batch/s, accuracy=0.968, loss=0.0899]\n",
            "Epoch 101: 100%|██████████| 36/36 [00:02<00:00, 12.67batch/s, accuracy=0.871, loss=0.566]\n"
          ]
        },
        {
          "output_type": "stream",
          "name": "stdout",
          "text": [
            "Epoch: 101, learning rate: 5.000000000000002e-09, Training Loss: 0.0899, Training Accuracy: 0.9685, Test Loss: 0.5656, Test Accuracy: 0.8711\n"
          ]
        },
        {
          "output_type": "stream",
          "name": "stderr",
          "text": [
            "Epoch 102: 100%|██████████| 176/176 [00:22<00:00,  7.87batch/s, accuracy=0.969, loss=0.0877]\n",
            "Epoch 102: 100%|██████████| 36/36 [00:03<00:00, 11.70batch/s, accuracy=0.872, loss=0.563]\n"
          ]
        },
        {
          "output_type": "stream",
          "name": "stdout",
          "text": [
            "Epoch: 102, learning rate: 5.000000000000002e-09, Training Loss: 0.0877, Training Accuracy: 0.9688, Test Loss: 0.5627, Test Accuracy: 0.8716\n"
          ]
        },
        {
          "output_type": "stream",
          "name": "stderr",
          "text": [
            "Epoch 103: 100%|██████████| 176/176 [00:22<00:00,  7.89batch/s, accuracy=0.969, loss=0.0894]\n",
            "Epoch 103: 100%|██████████| 36/36 [00:02<00:00, 12.57batch/s, accuracy=0.871, loss=0.562]\n"
          ]
        },
        {
          "output_type": "stream",
          "name": "stdout",
          "text": [
            "Epoch: 103, learning rate: 5.000000000000002e-09, Training Loss: 0.0894, Training Accuracy: 0.9686, Test Loss: 0.5622, Test Accuracy: 0.8712\n"
          ]
        },
        {
          "output_type": "stream",
          "name": "stderr",
          "text": [
            "Epoch 104: 100%|██████████| 176/176 [00:22<00:00,  7.77batch/s, accuracy=0.969, loss=0.0858]\n",
            "Epoch 104: 100%|██████████| 36/36 [00:02<00:00, 12.00batch/s, accuracy=0.871, loss=0.559]\n"
          ]
        },
        {
          "output_type": "stream",
          "name": "stdout",
          "text": [
            "Epoch: 104, learning rate: 5.000000000000002e-09, Training Loss: 0.0858, Training Accuracy: 0.9689, Test Loss: 0.5592, Test Accuracy: 0.8711\n"
          ]
        },
        {
          "output_type": "stream",
          "name": "stderr",
          "text": [
            "Epoch 105: 100%|██████████| 176/176 [00:22<00:00,  7.71batch/s, accuracy=0.969, loss=0.0864]\n",
            "Epoch 105: 100%|██████████| 36/36 [00:02<00:00, 12.35batch/s, accuracy=0.871, loss=0.567]\n"
          ]
        },
        {
          "output_type": "stream",
          "name": "stdout",
          "text": [
            "Epoch: 105, learning rate: 5.000000000000002e-09, Training Loss: 0.0864, Training Accuracy: 0.9692, Test Loss: 0.5668, Test Accuracy: 0.8710\n"
          ]
        },
        {
          "output_type": "stream",
          "name": "stderr",
          "text": [
            "Epoch 106: 100%|██████████| 176/176 [00:22<00:00,  7.72batch/s, accuracy=0.967, loss=0.0891]\n",
            "Epoch 106: 100%|██████████| 36/36 [00:02<00:00, 12.43batch/s, accuracy=0.871, loss=0.564]\n"
          ]
        },
        {
          "output_type": "stream",
          "name": "stdout",
          "text": [
            "Epoch: 106, learning rate: 5.000000000000002e-09, Training Loss: 0.0891, Training Accuracy: 0.9675, Test Loss: 0.5642, Test Accuracy: 0.8707\n"
          ]
        },
        {
          "output_type": "stream",
          "name": "stderr",
          "text": [
            "Epoch 107: 100%|██████████| 176/176 [00:22<00:00,  7.76batch/s, accuracy=0.968, loss=0.0903]\n",
            "Epoch 107: 100%|██████████| 36/36 [00:02<00:00, 12.14batch/s, accuracy=0.87, loss=0.564]\n"
          ]
        },
        {
          "output_type": "stream",
          "name": "stdout",
          "text": [
            "Epoch: 107, learning rate: 5.000000000000002e-09, Training Loss: 0.0903, Training Accuracy: 0.9676, Test Loss: 0.5639, Test Accuracy: 0.8704\n"
          ]
        },
        {
          "output_type": "stream",
          "name": "stderr",
          "text": [
            "Epoch 108: 100%|██████████| 176/176 [00:22<00:00,  7.81batch/s, accuracy=0.968, loss=0.0906]\n",
            "Epoch 108: 100%|██████████| 36/36 [00:02<00:00, 12.44batch/s, accuracy=0.871, loss=0.563]\n"
          ]
        },
        {
          "output_type": "stream",
          "name": "stdout",
          "text": [
            "Epoch: 108, learning rate: 5.000000000000002e-09, Training Loss: 0.0906, Training Accuracy: 0.9680, Test Loss: 0.5631, Test Accuracy: 0.8710\n"
          ]
        },
        {
          "output_type": "stream",
          "name": "stderr",
          "text": [
            "Epoch 109: 100%|██████████| 176/176 [00:22<00:00,  7.79batch/s, accuracy=0.968, loss=0.0867]\n",
            "Epoch 109: 100%|██████████| 36/36 [00:02<00:00, 12.31batch/s, accuracy=0.871, loss=0.564]\n"
          ]
        },
        {
          "output_type": "stream",
          "name": "stdout",
          "text": [
            "Epoch: 109, learning rate: 5.000000000000002e-09, Training Loss: 0.0867, Training Accuracy: 0.9682, Test Loss: 0.5642, Test Accuracy: 0.8713\n"
          ]
        },
        {
          "output_type": "stream",
          "name": "stderr",
          "text": [
            "Epoch 110: 100%|██████████| 176/176 [00:22<00:00,  7.76batch/s, accuracy=0.969, loss=0.0898]\n",
            "Epoch 110: 100%|██████████| 36/36 [00:03<00:00, 11.67batch/s, accuracy=0.871, loss=0.567]\n"
          ]
        },
        {
          "output_type": "stream",
          "name": "stdout",
          "text": [
            "Epoch: 110, learning rate: 5.000000000000002e-09, Training Loss: 0.0898, Training Accuracy: 0.9687, Test Loss: 0.5666, Test Accuracy: 0.8710\n"
          ]
        },
        {
          "output_type": "stream",
          "name": "stderr",
          "text": [
            "Epoch 111: 100%|██████████| 176/176 [00:22<00:00,  7.82batch/s, accuracy=0.968, loss=0.0887]\n",
            "Epoch 111: 100%|██████████| 36/36 [00:03<00:00, 11.11batch/s, accuracy=0.87, loss=0.562]\n"
          ]
        },
        {
          "output_type": "stream",
          "name": "stdout",
          "text": [
            "Epoch: 111, learning rate: 5.000000000000002e-09, Training Loss: 0.0887, Training Accuracy: 0.9678, Test Loss: 0.5623, Test Accuracy: 0.8702\n"
          ]
        },
        {
          "output_type": "stream",
          "name": "stderr",
          "text": [
            "Epoch 112: 100%|██████████| 176/176 [00:22<00:00,  7.83batch/s, accuracy=0.969, loss=0.0894]\n",
            "Epoch 112: 100%|██████████| 36/36 [00:03<00:00, 10.13batch/s, accuracy=0.872, loss=0.558]\n"
          ]
        },
        {
          "output_type": "stream",
          "name": "stdout",
          "text": [
            "Epoch: 112, learning rate: 5.000000000000002e-09, Training Loss: 0.0894, Training Accuracy: 0.9688, Test Loss: 0.5581, Test Accuracy: 0.8717\n"
          ]
        },
        {
          "output_type": "stream",
          "name": "stderr",
          "text": [
            "Epoch 113: 100%|██████████| 176/176 [00:22<00:00,  7.88batch/s, accuracy=0.968, loss=0.0907]\n",
            "Epoch 113: 100%|██████████| 36/36 [00:03<00:00, 10.08batch/s, accuracy=0.872, loss=0.562]\n"
          ]
        },
        {
          "output_type": "stream",
          "name": "stdout",
          "text": [
            "Epoch: 113, learning rate: 5.000000000000002e-09, Training Loss: 0.0907, Training Accuracy: 0.9680, Test Loss: 0.5621, Test Accuracy: 0.8718\n"
          ]
        },
        {
          "output_type": "stream",
          "name": "stderr",
          "text": [
            "Epoch 114: 100%|██████████| 176/176 [00:22<00:00,  7.90batch/s, accuracy=0.969, loss=0.0887]\n",
            "Epoch 114: 100%|██████████| 36/36 [00:03<00:00,  9.50batch/s, accuracy=0.871, loss=0.563]\n"
          ]
        },
        {
          "output_type": "stream",
          "name": "stdout",
          "text": [
            "Epoch: 114, learning rate: 5.000000000000002e-09, Training Loss: 0.0887, Training Accuracy: 0.9685, Test Loss: 0.5630, Test Accuracy: 0.8708\n"
          ]
        },
        {
          "output_type": "stream",
          "name": "stderr",
          "text": [
            "Epoch 115: 100%|██████████| 176/176 [00:22<00:00,  7.97batch/s, accuracy=0.968, loss=0.0888]\n",
            "Epoch 115: 100%|██████████| 36/36 [00:04<00:00,  8.89batch/s, accuracy=0.87, loss=0.562]\n"
          ]
        },
        {
          "output_type": "stream",
          "name": "stdout",
          "text": [
            "Epoch: 115, learning rate: 5.000000000000002e-09, Training Loss: 0.0888, Training Accuracy: 0.9678, Test Loss: 0.5619, Test Accuracy: 0.8704\n"
          ]
        },
        {
          "output_type": "stream",
          "name": "stderr",
          "text": [
            "Epoch 116: 100%|██████████| 176/176 [00:22<00:00,  7.74batch/s, accuracy=0.968, loss=0.0906]\n",
            "Epoch 116: 100%|██████████| 36/36 [00:03<00:00,  9.52batch/s, accuracy=0.871, loss=0.567]\n"
          ]
        },
        {
          "output_type": "stream",
          "name": "stdout",
          "text": [
            "Epoch: 116, learning rate: 5.000000000000002e-09, Training Loss: 0.0906, Training Accuracy: 0.9685, Test Loss: 0.5670, Test Accuracy: 0.8711\n"
          ]
        },
        {
          "output_type": "stream",
          "name": "stderr",
          "text": [
            "Epoch 117: 100%|██████████| 176/176 [00:22<00:00,  7.71batch/s, accuracy=0.968, loss=0.0886]\n",
            "Epoch 117: 100%|██████████| 36/36 [00:03<00:00, 10.17batch/s, accuracy=0.872, loss=0.558]\n"
          ]
        },
        {
          "output_type": "stream",
          "name": "stdout",
          "text": [
            "Epoch: 117, learning rate: 5.000000000000002e-09, Training Loss: 0.0886, Training Accuracy: 0.9683, Test Loss: 0.5584, Test Accuracy: 0.8722\n"
          ]
        },
        {
          "output_type": "stream",
          "name": "stderr",
          "text": [
            "Epoch 118: 100%|██████████| 176/176 [00:22<00:00,  7.69batch/s, accuracy=0.968, loss=0.0894]\n",
            "Epoch 118: 100%|██████████| 36/36 [00:03<00:00, 10.22batch/s, accuracy=0.87, loss=0.563]\n"
          ]
        },
        {
          "output_type": "stream",
          "name": "stdout",
          "text": [
            "Epoch: 118, learning rate: 5.000000000000002e-09, Training Loss: 0.0894, Training Accuracy: 0.9680, Test Loss: 0.5630, Test Accuracy: 0.8703\n"
          ]
        },
        {
          "output_type": "stream",
          "name": "stderr",
          "text": [
            "Epoch 119: 100%|██████████| 176/176 [00:23<00:00,  7.61batch/s, accuracy=0.97, loss=0.0881]\n",
            "Epoch 119: 100%|██████████| 36/36 [00:03<00:00, 10.03batch/s, accuracy=0.871, loss=0.56]\n"
          ]
        },
        {
          "output_type": "stream",
          "name": "stdout",
          "text": [
            "Epoch: 119, learning rate: 5.000000000000002e-09, Training Loss: 0.0881, Training Accuracy: 0.9697, Test Loss: 0.5603, Test Accuracy: 0.8714\n"
          ]
        },
        {
          "output_type": "stream",
          "name": "stderr",
          "text": [
            "Epoch 120: 100%|██████████| 176/176 [00:23<00:00,  7.55batch/s, accuracy=0.968, loss=0.0911]\n",
            "Epoch 120: 100%|██████████| 36/36 [00:03<00:00, 10.37batch/s, accuracy=0.871, loss=0.562]\n"
          ]
        },
        {
          "output_type": "stream",
          "name": "stdout",
          "text": [
            "Epoch: 120, learning rate: 5.000000000000002e-10, Training Loss: 0.0911, Training Accuracy: 0.9680, Test Loss: 0.5620, Test Accuracy: 0.8708\n"
          ]
        },
        {
          "output_type": "stream",
          "name": "stderr",
          "text": [
            "Epoch 121: 100%|██████████| 176/176 [00:22<00:00,  7.65batch/s, accuracy=0.969, loss=0.0888]\n",
            "Epoch 121: 100%|██████████| 36/36 [00:03<00:00, 10.28batch/s, accuracy=0.87, loss=0.557]\n"
          ]
        },
        {
          "output_type": "stream",
          "name": "stdout",
          "text": [
            "Epoch: 121, learning rate: 5.000000000000002e-10, Training Loss: 0.0888, Training Accuracy: 0.9690, Test Loss: 0.5566, Test Accuracy: 0.8703\n"
          ]
        },
        {
          "output_type": "stream",
          "name": "stderr",
          "text": [
            "Epoch 122: 100%|██████████| 176/176 [00:22<00:00,  7.86batch/s, accuracy=0.967, loss=0.0921]\n",
            "Epoch 122: 100%|██████████| 36/36 [00:03<00:00,  9.43batch/s, accuracy=0.871, loss=0.559]\n"
          ]
        },
        {
          "output_type": "stream",
          "name": "stdout",
          "text": [
            "Epoch: 122, learning rate: 5.000000000000002e-10, Training Loss: 0.0921, Training Accuracy: 0.9674, Test Loss: 0.5588, Test Accuracy: 0.8713\n"
          ]
        },
        {
          "output_type": "stream",
          "name": "stderr",
          "text": [
            "Epoch 123: 100%|██████████| 176/176 [00:22<00:00,  7.99batch/s, accuracy=0.969, loss=0.0895]\n",
            "Epoch 123: 100%|██████████| 36/36 [00:03<00:00,  9.66batch/s, accuracy=0.872, loss=0.565]\n"
          ]
        },
        {
          "output_type": "stream",
          "name": "stdout",
          "text": [
            "Epoch: 123, learning rate: 5.000000000000002e-10, Training Loss: 0.0895, Training Accuracy: 0.9687, Test Loss: 0.5652, Test Accuracy: 0.8716\n"
          ]
        },
        {
          "output_type": "stream",
          "name": "stderr",
          "text": [
            "Epoch 124: 100%|██████████| 176/176 [00:21<00:00,  8.05batch/s, accuracy=0.969, loss=0.089]\n",
            "Epoch 124: 100%|██████████| 36/36 [00:03<00:00,  9.29batch/s, accuracy=0.871, loss=0.563]\n"
          ]
        },
        {
          "output_type": "stream",
          "name": "stdout",
          "text": [
            "Epoch: 124, learning rate: 5.000000000000002e-10, Training Loss: 0.0890, Training Accuracy: 0.9685, Test Loss: 0.5634, Test Accuracy: 0.8709\n"
          ]
        },
        {
          "output_type": "stream",
          "name": "stderr",
          "text": [
            "Epoch 125: 100%|██████████| 176/176 [00:22<00:00,  7.98batch/s, accuracy=0.969, loss=0.0869]\n",
            "Epoch 125: 100%|██████████| 36/36 [00:04<00:00,  8.99batch/s, accuracy=0.87, loss=0.556]\n"
          ]
        },
        {
          "output_type": "stream",
          "name": "stdout",
          "text": [
            "Epoch: 125, learning rate: 5.000000000000002e-10, Training Loss: 0.0869, Training Accuracy: 0.9688, Test Loss: 0.5558, Test Accuracy: 0.8700\n"
          ]
        },
        {
          "output_type": "stream",
          "name": "stderr",
          "text": [
            "Epoch 126: 100%|██████████| 176/176 [00:22<00:00,  7.97batch/s, accuracy=0.969, loss=0.0897]\n",
            "Epoch 126: 100%|██████████| 36/36 [00:04<00:00,  8.92batch/s, accuracy=0.871, loss=0.563]\n"
          ]
        },
        {
          "output_type": "stream",
          "name": "stdout",
          "text": [
            "Epoch: 126, learning rate: 5.000000000000002e-10, Training Loss: 0.0897, Training Accuracy: 0.9688, Test Loss: 0.5634, Test Accuracy: 0.8708\n"
          ]
        },
        {
          "output_type": "stream",
          "name": "stderr",
          "text": [
            "Epoch 127: 100%|██████████| 176/176 [00:21<00:00,  8.04batch/s, accuracy=0.968, loss=0.0875]\n",
            "Epoch 127: 100%|██████████| 36/36 [00:03<00:00,  9.13batch/s, accuracy=0.87, loss=0.565]\n"
          ]
        },
        {
          "output_type": "stream",
          "name": "stdout",
          "text": [
            "Epoch: 127, learning rate: 5.000000000000002e-10, Training Loss: 0.0875, Training Accuracy: 0.9683, Test Loss: 0.5645, Test Accuracy: 0.8704\n"
          ]
        },
        {
          "output_type": "stream",
          "name": "stderr",
          "text": [
            "Epoch 128: 100%|██████████| 176/176 [00:22<00:00,  7.95batch/s, accuracy=0.97, loss=0.0868]\n",
            "Epoch 128: 100%|██████████| 36/36 [00:04<00:00,  8.90batch/s, accuracy=0.871, loss=0.564]\n"
          ]
        },
        {
          "output_type": "stream",
          "name": "stdout",
          "text": [
            "Epoch: 128, learning rate: 5.000000000000002e-10, Training Loss: 0.0868, Training Accuracy: 0.9702, Test Loss: 0.5641, Test Accuracy: 0.8706\n"
          ]
        },
        {
          "output_type": "stream",
          "name": "stderr",
          "text": [
            "Epoch 129: 100%|██████████| 176/176 [00:21<00:00,  8.07batch/s, accuracy=0.969, loss=0.0885]\n",
            "Epoch 129: 100%|██████████| 36/36 [00:03<00:00,  9.01batch/s, accuracy=0.871, loss=0.561]\n"
          ]
        },
        {
          "output_type": "stream",
          "name": "stdout",
          "text": [
            "Epoch: 129, learning rate: 5.000000000000002e-10, Training Loss: 0.0885, Training Accuracy: 0.9685, Test Loss: 0.5607, Test Accuracy: 0.8713\n"
          ]
        },
        {
          "output_type": "stream",
          "name": "stderr",
          "text": [
            "Epoch 130: 100%|██████████| 176/176 [00:22<00:00,  7.93batch/s, accuracy=0.968, loss=0.0915]\n",
            "Epoch 130: 100%|██████████| 36/36 [00:03<00:00, 10.43batch/s, accuracy=0.871, loss=0.56]\n"
          ]
        },
        {
          "output_type": "stream",
          "name": "stdout",
          "text": [
            "Epoch: 130, learning rate: 5.000000000000002e-10, Training Loss: 0.0915, Training Accuracy: 0.9677, Test Loss: 0.5605, Test Accuracy: 0.8713\n"
          ]
        },
        {
          "output_type": "stream",
          "name": "stderr",
          "text": [
            "Epoch 131: 100%|██████████| 176/176 [00:22<00:00,  7.80batch/s, accuracy=0.969, loss=0.0896]\n",
            "Epoch 131: 100%|██████████| 36/36 [00:03<00:00, 10.64batch/s, accuracy=0.872, loss=0.57]\n"
          ]
        },
        {
          "output_type": "stream",
          "name": "stdout",
          "text": [
            "Epoch: 131, learning rate: 5.000000000000002e-10, Training Loss: 0.0896, Training Accuracy: 0.9693, Test Loss: 0.5704, Test Accuracy: 0.8718\n"
          ]
        },
        {
          "output_type": "stream",
          "name": "stderr",
          "text": [
            "Epoch 132: 100%|██████████| 176/176 [00:22<00:00,  7.73batch/s, accuracy=0.968, loss=0.0897]\n",
            "Epoch 132: 100%|██████████| 36/36 [00:03<00:00, 10.93batch/s, accuracy=0.871, loss=0.56]\n"
          ]
        },
        {
          "output_type": "stream",
          "name": "stdout",
          "text": [
            "Epoch: 132, learning rate: 5.000000000000002e-10, Training Loss: 0.0897, Training Accuracy: 0.9681, Test Loss: 0.5604, Test Accuracy: 0.8707\n"
          ]
        },
        {
          "output_type": "stream",
          "name": "stderr",
          "text": [
            "Epoch 133: 100%|██████████| 176/176 [00:22<00:00,  7.70batch/s, accuracy=0.968, loss=0.0914]\n",
            "Epoch 133: 100%|██████████| 36/36 [00:03<00:00, 11.25batch/s, accuracy=0.87, loss=0.561]\n"
          ]
        },
        {
          "output_type": "stream",
          "name": "stdout",
          "text": [
            "Epoch: 133, learning rate: 5.000000000000002e-10, Training Loss: 0.0914, Training Accuracy: 0.9676, Test Loss: 0.5613, Test Accuracy: 0.8702\n"
          ]
        },
        {
          "output_type": "stream",
          "name": "stderr",
          "text": [
            "Epoch 134: 100%|██████████| 176/176 [00:23<00:00,  7.64batch/s, accuracy=0.968, loss=0.0893]\n",
            "Epoch 134: 100%|██████████| 36/36 [00:03<00:00, 11.54batch/s, accuracy=0.87, loss=0.561]\n"
          ]
        },
        {
          "output_type": "stream",
          "name": "stdout",
          "text": [
            "Epoch: 134, learning rate: 5.000000000000002e-10, Training Loss: 0.0893, Training Accuracy: 0.9679, Test Loss: 0.5612, Test Accuracy: 0.8701\n"
          ]
        },
        {
          "output_type": "stream",
          "name": "stderr",
          "text": [
            "Epoch 135: 100%|██████████| 176/176 [00:23<00:00,  7.65batch/s, accuracy=0.969, loss=0.0873]\n",
            "Epoch 135: 100%|██████████| 36/36 [00:03<00:00, 11.27batch/s, accuracy=0.87, loss=0.563]\n"
          ]
        },
        {
          "output_type": "stream",
          "name": "stdout",
          "text": [
            "Epoch: 135, learning rate: 5.000000000000002e-10, Training Loss: 0.0873, Training Accuracy: 0.9690, Test Loss: 0.5625, Test Accuracy: 0.8700\n"
          ]
        },
        {
          "output_type": "stream",
          "name": "stderr",
          "text": [
            "Epoch 136: 100%|██████████| 176/176 [00:22<00:00,  7.68batch/s, accuracy=0.97, loss=0.0868]\n",
            "Epoch 136: 100%|██████████| 36/36 [00:03<00:00, 10.22batch/s, accuracy=0.871, loss=0.566]\n"
          ]
        },
        {
          "output_type": "stream",
          "name": "stdout",
          "text": [
            "Epoch: 136, learning rate: 5.000000000000002e-10, Training Loss: 0.0868, Training Accuracy: 0.9699, Test Loss: 0.5657, Test Accuracy: 0.8707\n"
          ]
        },
        {
          "output_type": "stream",
          "name": "stderr",
          "text": [
            "Epoch 137: 100%|██████████| 176/176 [00:22<00:00,  7.67batch/s, accuracy=0.968, loss=0.0893]\n",
            "Epoch 137: 100%|██████████| 36/36 [00:03<00:00,  9.98batch/s, accuracy=0.871, loss=0.56]\n"
          ]
        },
        {
          "output_type": "stream",
          "name": "stdout",
          "text": [
            "Epoch: 137, learning rate: 5.000000000000002e-10, Training Loss: 0.0893, Training Accuracy: 0.9679, Test Loss: 0.5598, Test Accuracy: 0.8707\n"
          ]
        },
        {
          "output_type": "stream",
          "name": "stderr",
          "text": [
            "Epoch 138: 100%|██████████| 176/176 [00:22<00:00,  7.85batch/s, accuracy=0.968, loss=0.0887]\n",
            "Epoch 138: 100%|██████████| 36/36 [00:03<00:00, 10.92batch/s, accuracy=0.871, loss=0.558]\n"
          ]
        },
        {
          "output_type": "stream",
          "name": "stdout",
          "text": [
            "Epoch: 138, learning rate: 5.000000000000002e-10, Training Loss: 0.0887, Training Accuracy: 0.9681, Test Loss: 0.5582, Test Accuracy: 0.8708\n"
          ]
        },
        {
          "output_type": "stream",
          "name": "stderr",
          "text": [
            "Epoch 139: 100%|██████████| 176/176 [00:23<00:00,  7.58batch/s, accuracy=0.969, loss=0.0878]\n",
            "Epoch 139: 100%|██████████| 36/36 [00:03<00:00, 10.83batch/s, accuracy=0.871, loss=0.56]\n"
          ]
        },
        {
          "output_type": "stream",
          "name": "stdout",
          "text": [
            "Epoch: 139, learning rate: 5.000000000000002e-10, Training Loss: 0.0878, Training Accuracy: 0.9689, Test Loss: 0.5597, Test Accuracy: 0.8709\n"
          ]
        },
        {
          "output_type": "stream",
          "name": "stderr",
          "text": [
            "Epoch 140: 100%|██████████| 176/176 [00:22<00:00,  7.73batch/s, accuracy=0.968, loss=0.0903]\n",
            "Epoch 140: 100%|██████████| 36/36 [00:03<00:00, 11.29batch/s, accuracy=0.87, loss=0.56]\n"
          ]
        },
        {
          "output_type": "stream",
          "name": "stdout",
          "text": [
            "Epoch: 140, learning rate: 5.000000000000003e-11, Training Loss: 0.0903, Training Accuracy: 0.9683, Test Loss: 0.5605, Test Accuracy: 0.8700\n"
          ]
        },
        {
          "output_type": "stream",
          "name": "stderr",
          "text": [
            "Epoch 141: 100%|██████████| 176/176 [00:22<00:00,  7.66batch/s, accuracy=0.969, loss=0.0859]\n",
            "Epoch 141: 100%|██████████| 36/36 [00:03<00:00, 11.24batch/s, accuracy=0.871, loss=0.557]\n"
          ]
        },
        {
          "output_type": "stream",
          "name": "stdout",
          "text": [
            "Epoch: 141, learning rate: 5.000000000000003e-11, Training Loss: 0.0859, Training Accuracy: 0.9687, Test Loss: 0.5569, Test Accuracy: 0.8708\n"
          ]
        },
        {
          "output_type": "stream",
          "name": "stderr",
          "text": [
            "Epoch 142: 100%|██████████| 176/176 [00:23<00:00,  7.59batch/s, accuracy=0.967, loss=0.0919]\n",
            "Epoch 142: 100%|██████████| 36/36 [00:03<00:00, 11.31batch/s, accuracy=0.871, loss=0.566]\n"
          ]
        },
        {
          "output_type": "stream",
          "name": "stdout",
          "text": [
            "Epoch: 142, learning rate: 5.000000000000003e-11, Training Loss: 0.0919, Training Accuracy: 0.9675, Test Loss: 0.5659, Test Accuracy: 0.8707\n"
          ]
        },
        {
          "output_type": "stream",
          "name": "stderr",
          "text": [
            "Epoch 143: 100%|██████████| 176/176 [00:23<00:00,  7.54batch/s, accuracy=0.969, loss=0.088]\n",
            "Epoch 143: 100%|██████████| 36/36 [00:03<00:00, 10.38batch/s, accuracy=0.87, loss=0.56]\n"
          ]
        },
        {
          "output_type": "stream",
          "name": "stdout",
          "text": [
            "Epoch: 143, learning rate: 5.000000000000003e-11, Training Loss: 0.0880, Training Accuracy: 0.9691, Test Loss: 0.5598, Test Accuracy: 0.8704\n"
          ]
        },
        {
          "output_type": "stream",
          "name": "stderr",
          "text": [
            "Epoch 144: 100%|██████████| 176/176 [00:23<00:00,  7.62batch/s, accuracy=0.969, loss=0.0893]\n",
            "Epoch 144: 100%|██████████| 36/36 [00:03<00:00,  9.35batch/s, accuracy=0.871, loss=0.56]\n"
          ]
        },
        {
          "output_type": "stream",
          "name": "stdout",
          "text": [
            "Epoch: 144, learning rate: 5.000000000000003e-11, Training Loss: 0.0893, Training Accuracy: 0.9685, Test Loss: 0.5601, Test Accuracy: 0.8710\n"
          ]
        },
        {
          "output_type": "stream",
          "name": "stderr",
          "text": [
            "Epoch 145: 100%|██████████| 176/176 [00:23<00:00,  7.60batch/s, accuracy=0.969, loss=0.0877]\n",
            "Epoch 145: 100%|██████████| 36/36 [00:03<00:00,  9.82batch/s, accuracy=0.871, loss=0.563]\n"
          ]
        },
        {
          "output_type": "stream",
          "name": "stdout",
          "text": [
            "Epoch: 145, learning rate: 5.000000000000003e-11, Training Loss: 0.0877, Training Accuracy: 0.9685, Test Loss: 0.5629, Test Accuracy: 0.8707\n"
          ]
        },
        {
          "output_type": "stream",
          "name": "stderr",
          "text": [
            "Epoch 146: 100%|██████████| 176/176 [00:22<00:00,  7.68batch/s, accuracy=0.968, loss=0.0891]\n",
            "Epoch 146: 100%|██████████| 36/36 [00:03<00:00,  9.95batch/s, accuracy=0.871, loss=0.558]\n"
          ]
        },
        {
          "output_type": "stream",
          "name": "stdout",
          "text": [
            "Epoch: 146, learning rate: 5.000000000000003e-11, Training Loss: 0.0891, Training Accuracy: 0.9681, Test Loss: 0.5582, Test Accuracy: 0.8712\n"
          ]
        },
        {
          "output_type": "stream",
          "name": "stderr",
          "text": [
            "Epoch 147: 100%|██████████| 176/176 [00:23<00:00,  7.64batch/s, accuracy=0.969, loss=0.0875]\n",
            "Epoch 147: 100%|██████████| 36/36 [00:03<00:00, 10.08batch/s, accuracy=0.871, loss=0.564]\n"
          ]
        },
        {
          "output_type": "stream",
          "name": "stdout",
          "text": [
            "Epoch: 147, learning rate: 5.000000000000003e-11, Training Loss: 0.0875, Training Accuracy: 0.9691, Test Loss: 0.5638, Test Accuracy: 0.8714\n"
          ]
        },
        {
          "output_type": "stream",
          "name": "stderr",
          "text": [
            "Epoch 148: 100%|██████████| 176/176 [00:22<00:00,  7.68batch/s, accuracy=0.969, loss=0.0858]\n",
            "Epoch 148: 100%|██████████| 36/36 [00:03<00:00, 10.20batch/s, accuracy=0.871, loss=0.557]\n"
          ]
        },
        {
          "output_type": "stream",
          "name": "stdout",
          "text": [
            "Epoch: 148, learning rate: 5.000000000000003e-11, Training Loss: 0.0858, Training Accuracy: 0.9692, Test Loss: 0.5567, Test Accuracy: 0.8708\n"
          ]
        },
        {
          "output_type": "stream",
          "name": "stderr",
          "text": [
            "Epoch 149: 100%|██████████| 176/176 [00:22<00:00,  7.66batch/s, accuracy=0.968, loss=0.0874]\n",
            "Epoch 149: 100%|██████████| 36/36 [00:03<00:00, 10.12batch/s, accuracy=0.872, loss=0.558]\n"
          ]
        },
        {
          "output_type": "stream",
          "name": "stdout",
          "text": [
            "Epoch: 149, learning rate: 5.000000000000003e-11, Training Loss: 0.0874, Training Accuracy: 0.9685, Test Loss: 0.5576, Test Accuracy: 0.8716\n"
          ]
        },
        {
          "output_type": "stream",
          "name": "stderr",
          "text": [
            "Epoch 150: 100%|██████████| 176/176 [00:22<00:00,  7.66batch/s, accuracy=0.969, loss=0.0875]\n",
            "Epoch 150: 100%|██████████| 36/36 [00:03<00:00, 10.01batch/s, accuracy=0.869, loss=0.562]\n"
          ]
        },
        {
          "output_type": "stream",
          "name": "stdout",
          "text": [
            "Epoch: 150, learning rate: 5.000000000000003e-11, Training Loss: 0.0875, Training Accuracy: 0.9693, Test Loss: 0.5624, Test Accuracy: 0.8694\n"
          ]
        },
        {
          "output_type": "stream",
          "name": "stderr",
          "text": [
            "Epoch 151: 100%|██████████| 176/176 [00:22<00:00,  7.86batch/s, accuracy=0.968, loss=0.0876]\n",
            "Epoch 151: 100%|██████████| 36/36 [00:03<00:00, 11.08batch/s, accuracy=0.872, loss=0.559]\n"
          ]
        },
        {
          "output_type": "stream",
          "name": "stdout",
          "text": [
            "Epoch: 151, learning rate: 5.000000000000003e-11, Training Loss: 0.0876, Training Accuracy: 0.9683, Test Loss: 0.5591, Test Accuracy: 0.8716\n"
          ]
        },
        {
          "output_type": "stream",
          "name": "stderr",
          "text": [
            "Epoch 152: 100%|██████████| 176/176 [00:22<00:00,  7.81batch/s, accuracy=0.968, loss=0.0884]\n",
            "Epoch 152: 100%|██████████| 36/36 [00:03<00:00, 10.84batch/s, accuracy=0.871, loss=0.564]\n"
          ]
        },
        {
          "output_type": "stream",
          "name": "stdout",
          "text": [
            "Epoch: 152, learning rate: 5.000000000000003e-11, Training Loss: 0.0884, Training Accuracy: 0.9685, Test Loss: 0.5637, Test Accuracy: 0.8709\n"
          ]
        },
        {
          "output_type": "stream",
          "name": "stderr",
          "text": [
            "Epoch 153: 100%|██████████| 176/176 [00:23<00:00,  7.63batch/s, accuracy=0.968, loss=0.0893]\n",
            "Epoch 153: 100%|██████████| 36/36 [00:03<00:00, 11.21batch/s, accuracy=0.871, loss=0.566]\n"
          ]
        },
        {
          "output_type": "stream",
          "name": "stdout",
          "text": [
            "Epoch: 153, learning rate: 5.000000000000003e-11, Training Loss: 0.0893, Training Accuracy: 0.9683, Test Loss: 0.5658, Test Accuracy: 0.8712\n"
          ]
        },
        {
          "output_type": "stream",
          "name": "stderr",
          "text": [
            "Epoch 154: 100%|██████████| 176/176 [00:23<00:00,  7.65batch/s, accuracy=0.968, loss=0.0898]\n",
            "Epoch 154: 100%|██████████| 36/36 [00:03<00:00, 11.38batch/s, accuracy=0.871, loss=0.559]\n"
          ]
        },
        {
          "output_type": "stream",
          "name": "stdout",
          "text": [
            "Epoch: 154, learning rate: 5.000000000000003e-11, Training Loss: 0.0898, Training Accuracy: 0.9675, Test Loss: 0.5593, Test Accuracy: 0.8713\n"
          ]
        },
        {
          "output_type": "stream",
          "name": "stderr",
          "text": [
            "Epoch 155: 100%|██████████| 176/176 [00:23<00:00,  7.54batch/s, accuracy=0.969, loss=0.0876]\n",
            "Epoch 155: 100%|██████████| 36/36 [00:03<00:00, 11.02batch/s, accuracy=0.87, loss=0.563]\n"
          ]
        },
        {
          "output_type": "stream",
          "name": "stdout",
          "text": [
            "Epoch: 155, learning rate: 5.000000000000003e-11, Training Loss: 0.0876, Training Accuracy: 0.9690, Test Loss: 0.5630, Test Accuracy: 0.8704\n"
          ]
        },
        {
          "output_type": "stream",
          "name": "stderr",
          "text": [
            "Epoch 156: 100%|██████████| 176/176 [00:23<00:00,  7.54batch/s, accuracy=0.969, loss=0.089]\n",
            "Epoch 156: 100%|██████████| 36/36 [00:03<00:00, 11.64batch/s, accuracy=0.871, loss=0.562]\n"
          ]
        },
        {
          "output_type": "stream",
          "name": "stdout",
          "text": [
            "Epoch: 156, learning rate: 5.000000000000003e-11, Training Loss: 0.0890, Training Accuracy: 0.9690, Test Loss: 0.5620, Test Accuracy: 0.8706\n"
          ]
        },
        {
          "output_type": "stream",
          "name": "stderr",
          "text": [
            "Epoch 157: 100%|██████████| 176/176 [00:23<00:00,  7.45batch/s, accuracy=0.969, loss=0.086]\n",
            "Epoch 157: 100%|██████████| 36/36 [00:03<00:00, 10.99batch/s, accuracy=0.871, loss=0.562]\n"
          ]
        },
        {
          "output_type": "stream",
          "name": "stdout",
          "text": [
            "Epoch: 157, learning rate: 5.000000000000003e-11, Training Loss: 0.0860, Training Accuracy: 0.9689, Test Loss: 0.5620, Test Accuracy: 0.8711\n"
          ]
        },
        {
          "output_type": "stream",
          "name": "stderr",
          "text": [
            "Epoch 158: 100%|██████████| 176/176 [00:23<00:00,  7.47batch/s, accuracy=0.969, loss=0.0897]\n",
            "Epoch 158: 100%|██████████| 36/36 [00:03<00:00,  9.77batch/s, accuracy=0.871, loss=0.563]\n"
          ]
        },
        {
          "output_type": "stream",
          "name": "stdout",
          "text": [
            "Epoch: 158, learning rate: 5.000000000000003e-11, Training Loss: 0.0897, Training Accuracy: 0.9687, Test Loss: 0.5625, Test Accuracy: 0.8709\n"
          ]
        },
        {
          "output_type": "stream",
          "name": "stderr",
          "text": [
            "Epoch 159: 100%|██████████| 176/176 [00:22<00:00,  7.68batch/s, accuracy=0.969, loss=0.0872]\n",
            "Epoch 159: 100%|██████████| 36/36 [00:03<00:00,  9.50batch/s, accuracy=0.871, loss=0.561]\n"
          ]
        },
        {
          "output_type": "stream",
          "name": "stdout",
          "text": [
            "Epoch: 159, learning rate: 5.000000000000003e-11, Training Loss: 0.0872, Training Accuracy: 0.9692, Test Loss: 0.5611, Test Accuracy: 0.8711\n"
          ]
        },
        {
          "output_type": "stream",
          "name": "stderr",
          "text": [
            "Epoch 160: 100%|██████████| 176/176 [00:23<00:00,  7.57batch/s, accuracy=0.969, loss=0.0887]\n",
            "Epoch 160: 100%|██████████| 36/36 [00:03<00:00,  9.55batch/s, accuracy=0.871, loss=0.563]\n"
          ]
        },
        {
          "output_type": "stream",
          "name": "stdout",
          "text": [
            "Epoch: 160, learning rate: 5.000000000000003e-12, Training Loss: 0.0887, Training Accuracy: 0.9691, Test Loss: 0.5635, Test Accuracy: 0.8709\n"
          ]
        },
        {
          "output_type": "stream",
          "name": "stderr",
          "text": [
            "Epoch 161: 100%|██████████| 176/176 [00:23<00:00,  7.61batch/s, accuracy=0.968, loss=0.0888]\n",
            "Epoch 161: 100%|██████████| 36/36 [00:03<00:00,  9.76batch/s, accuracy=0.87, loss=0.565]\n"
          ]
        },
        {
          "output_type": "stream",
          "name": "stdout",
          "text": [
            "Epoch: 161, learning rate: 5.000000000000003e-12, Training Loss: 0.0888, Training Accuracy: 0.9681, Test Loss: 0.5652, Test Accuracy: 0.8702\n"
          ]
        },
        {
          "output_type": "stream",
          "name": "stderr",
          "text": [
            "Epoch 162: 100%|██████████| 176/176 [00:23<00:00,  7.56batch/s, accuracy=0.97, loss=0.0861]\n",
            "Epoch 162: 100%|██████████| 36/36 [00:03<00:00,  9.75batch/s, accuracy=0.871, loss=0.565]\n"
          ]
        },
        {
          "output_type": "stream",
          "name": "stdout",
          "text": [
            "Epoch: 162, learning rate: 5.000000000000003e-12, Training Loss: 0.0861, Training Accuracy: 0.9698, Test Loss: 0.5654, Test Accuracy: 0.8712\n"
          ]
        },
        {
          "output_type": "stream",
          "name": "stderr",
          "text": [
            "Epoch 163: 100%|██████████| 176/176 [00:23<00:00,  7.65batch/s, accuracy=0.97, loss=0.0847]\n",
            "Epoch 163: 100%|██████████| 36/36 [00:03<00:00,  9.62batch/s, accuracy=0.87, loss=0.569]\n"
          ]
        },
        {
          "output_type": "stream",
          "name": "stdout",
          "text": [
            "Epoch: 163, learning rate: 5.000000000000003e-12, Training Loss: 0.0847, Training Accuracy: 0.9697, Test Loss: 0.5694, Test Accuracy: 0.8698\n"
          ]
        },
        {
          "output_type": "stream",
          "name": "stderr",
          "text": [
            "Epoch 164: 100%|██████████| 176/176 [00:22<00:00,  7.68batch/s, accuracy=0.968, loss=0.0896]\n",
            "Epoch 164: 100%|██████████| 36/36 [00:03<00:00, 10.32batch/s, accuracy=0.872, loss=0.562]\n"
          ]
        },
        {
          "output_type": "stream",
          "name": "stdout",
          "text": [
            "Epoch: 164, learning rate: 5.000000000000003e-12, Training Loss: 0.0896, Training Accuracy: 0.9682, Test Loss: 0.5619, Test Accuracy: 0.8718\n"
          ]
        },
        {
          "output_type": "stream",
          "name": "stderr",
          "text": [
            "Epoch 165: 100%|██████████| 176/176 [00:21<00:00,  8.08batch/s, accuracy=0.969, loss=0.0853]\n",
            "Epoch 165: 100%|██████████| 36/36 [00:03<00:00, 11.21batch/s, accuracy=0.87, loss=0.564]\n"
          ]
        },
        {
          "output_type": "stream",
          "name": "stdout",
          "text": [
            "Epoch: 165, learning rate: 5.000000000000003e-12, Training Loss: 0.0853, Training Accuracy: 0.9685, Test Loss: 0.5645, Test Accuracy: 0.8700\n"
          ]
        },
        {
          "output_type": "stream",
          "name": "stderr",
          "text": [
            "Epoch 166: 100%|██████████| 176/176 [00:22<00:00,  7.84batch/s, accuracy=0.968, loss=0.087]\n",
            "Epoch 166: 100%|██████████| 36/36 [00:03<00:00, 11.74batch/s, accuracy=0.871, loss=0.562]\n"
          ]
        },
        {
          "output_type": "stream",
          "name": "stdout",
          "text": [
            "Epoch: 166, learning rate: 5.000000000000003e-12, Training Loss: 0.0870, Training Accuracy: 0.9682, Test Loss: 0.5620, Test Accuracy: 0.8712\n"
          ]
        },
        {
          "output_type": "stream",
          "name": "stderr",
          "text": [
            "Epoch 167: 100%|██████████| 176/176 [00:22<00:00,  7.92batch/s, accuracy=0.968, loss=0.0907]\n",
            "Epoch 167: 100%|██████████| 36/36 [00:02<00:00, 12.41batch/s, accuracy=0.872, loss=0.564]\n"
          ]
        },
        {
          "output_type": "stream",
          "name": "stdout",
          "text": [
            "Epoch: 167, learning rate: 5.000000000000003e-12, Training Loss: 0.0907, Training Accuracy: 0.9679, Test Loss: 0.5640, Test Accuracy: 0.8722\n"
          ]
        },
        {
          "output_type": "stream",
          "name": "stderr",
          "text": [
            "Epoch 168: 100%|██████████| 176/176 [00:22<00:00,  7.93batch/s, accuracy=0.968, loss=0.0902]\n",
            "Epoch 168: 100%|██████████| 36/36 [00:02<00:00, 12.17batch/s, accuracy=0.87, loss=0.561]\n"
          ]
        },
        {
          "output_type": "stream",
          "name": "stdout",
          "text": [
            "Epoch: 168, learning rate: 5.000000000000003e-12, Training Loss: 0.0902, Training Accuracy: 0.9676, Test Loss: 0.5606, Test Accuracy: 0.8702\n"
          ]
        },
        {
          "output_type": "stream",
          "name": "stderr",
          "text": [
            "Epoch 169: 100%|██████████| 176/176 [00:22<00:00,  7.84batch/s, accuracy=0.969, loss=0.0884]\n",
            "Epoch 169: 100%|██████████| 36/36 [00:02<00:00, 12.63batch/s, accuracy=0.871, loss=0.556]\n"
          ]
        },
        {
          "output_type": "stream",
          "name": "stdout",
          "text": [
            "Epoch: 169, learning rate: 5.000000000000003e-12, Training Loss: 0.0884, Training Accuracy: 0.9690, Test Loss: 0.5558, Test Accuracy: 0.8714\n"
          ]
        },
        {
          "output_type": "stream",
          "name": "stderr",
          "text": [
            "Epoch 170: 100%|██████████| 176/176 [00:22<00:00,  7.83batch/s, accuracy=0.969, loss=0.0885]\n",
            "Epoch 170: 100%|██████████| 36/36 [00:02<00:00, 12.43batch/s, accuracy=0.871, loss=0.562]\n"
          ]
        },
        {
          "output_type": "stream",
          "name": "stdout",
          "text": [
            "Epoch: 170, learning rate: 5.000000000000003e-12, Training Loss: 0.0885, Training Accuracy: 0.9686, Test Loss: 0.5619, Test Accuracy: 0.8707\n"
          ]
        },
        {
          "output_type": "stream",
          "name": "stderr",
          "text": [
            "Epoch 171: 100%|██████████| 176/176 [00:22<00:00,  7.86batch/s, accuracy=0.97, loss=0.0871]\n",
            "Epoch 171: 100%|██████████| 36/36 [00:02<00:00, 12.39batch/s, accuracy=0.872, loss=0.566]\n"
          ]
        },
        {
          "output_type": "stream",
          "name": "stdout",
          "text": [
            "Epoch: 171, learning rate: 5.000000000000003e-12, Training Loss: 0.0871, Training Accuracy: 0.9700, Test Loss: 0.5656, Test Accuracy: 0.8719\n"
          ]
        },
        {
          "output_type": "stream",
          "name": "stderr",
          "text": [
            "Epoch 172: 100%|██████████| 176/176 [00:22<00:00,  7.94batch/s, accuracy=0.968, loss=0.0891]\n",
            "Epoch 172: 100%|██████████| 36/36 [00:03<00:00, 11.73batch/s, accuracy=0.872, loss=0.564]\n"
          ]
        },
        {
          "output_type": "stream",
          "name": "stdout",
          "text": [
            "Epoch: 172, learning rate: 5.000000000000003e-12, Training Loss: 0.0891, Training Accuracy: 0.9683, Test Loss: 0.5637, Test Accuracy: 0.8719\n"
          ]
        },
        {
          "output_type": "stream",
          "name": "stderr",
          "text": [
            "Epoch 173: 100%|██████████| 176/176 [00:22<00:00,  7.92batch/s, accuracy=0.97, loss=0.0869]\n",
            "Epoch 173: 100%|██████████| 36/36 [00:02<00:00, 12.08batch/s, accuracy=0.871, loss=0.566]\n"
          ]
        },
        {
          "output_type": "stream",
          "name": "stdout",
          "text": [
            "Epoch: 173, learning rate: 5.000000000000003e-12, Training Loss: 0.0869, Training Accuracy: 0.9698, Test Loss: 0.5656, Test Accuracy: 0.8714\n"
          ]
        },
        {
          "output_type": "stream",
          "name": "stderr",
          "text": [
            "Epoch 174: 100%|██████████| 176/176 [00:21<00:00,  8.00batch/s, accuracy=0.969, loss=0.088]\n",
            "Epoch 174: 100%|██████████| 36/36 [00:03<00:00, 10.71batch/s, accuracy=0.869, loss=0.568]\n"
          ]
        },
        {
          "output_type": "stream",
          "name": "stdout",
          "text": [
            "Epoch: 174, learning rate: 5.000000000000003e-12, Training Loss: 0.0880, Training Accuracy: 0.9689, Test Loss: 0.5683, Test Accuracy: 0.8693\n"
          ]
        },
        {
          "output_type": "stream",
          "name": "stderr",
          "text": [
            "Epoch 175: 100%|██████████| 176/176 [00:21<00:00,  8.27batch/s, accuracy=0.969, loss=0.0883]\n",
            "Epoch 175: 100%|██████████| 36/36 [00:03<00:00,  9.49batch/s, accuracy=0.871, loss=0.565]\n"
          ]
        },
        {
          "output_type": "stream",
          "name": "stdout",
          "text": [
            "Epoch: 175, learning rate: 5.000000000000003e-12, Training Loss: 0.0883, Training Accuracy: 0.9688, Test Loss: 0.5647, Test Accuracy: 0.8714\n"
          ]
        },
        {
          "output_type": "stream",
          "name": "stderr",
          "text": [
            "Epoch 176: 100%|██████████| 176/176 [00:21<00:00,  8.25batch/s, accuracy=0.968, loss=0.0916]\n",
            "Epoch 176: 100%|██████████| 36/36 [00:03<00:00,  9.69batch/s, accuracy=0.871, loss=0.563]\n"
          ]
        },
        {
          "output_type": "stream",
          "name": "stdout",
          "text": [
            "Epoch: 176, learning rate: 5.000000000000003e-12, Training Loss: 0.0916, Training Accuracy: 0.9678, Test Loss: 0.5631, Test Accuracy: 0.8714\n"
          ]
        },
        {
          "output_type": "stream",
          "name": "stderr",
          "text": [
            "Epoch 177: 100%|██████████| 176/176 [00:21<00:00,  8.16batch/s, accuracy=0.968, loss=0.0899]\n",
            "Epoch 177: 100%|██████████| 36/36 [00:03<00:00, 11.12batch/s, accuracy=0.871, loss=0.56]\n"
          ]
        },
        {
          "output_type": "stream",
          "name": "stdout",
          "text": [
            "Epoch: 177, learning rate: 5.000000000000003e-12, Training Loss: 0.0899, Training Accuracy: 0.9678, Test Loss: 0.5600, Test Accuracy: 0.8713\n"
          ]
        },
        {
          "output_type": "stream",
          "name": "stderr",
          "text": [
            "Epoch 178: 100%|██████████| 176/176 [00:21<00:00,  8.10batch/s, accuracy=0.97, loss=0.0878]\n",
            "Epoch 178: 100%|██████████| 36/36 [00:03<00:00, 11.77batch/s, accuracy=0.871, loss=0.563]\n"
          ]
        },
        {
          "output_type": "stream",
          "name": "stdout",
          "text": [
            "Epoch: 178, learning rate: 5.000000000000003e-12, Training Loss: 0.0878, Training Accuracy: 0.9698, Test Loss: 0.5633, Test Accuracy: 0.8709\n"
          ]
        },
        {
          "output_type": "stream",
          "name": "stderr",
          "text": [
            "Epoch 179: 100%|██████████| 176/176 [00:22<00:00,  7.98batch/s, accuracy=0.969, loss=0.0872]\n",
            "Epoch 179: 100%|██████████| 36/36 [00:02<00:00, 12.74batch/s, accuracy=0.87, loss=0.561]\n"
          ]
        },
        {
          "output_type": "stream",
          "name": "stdout",
          "text": [
            "Epoch: 179, learning rate: 5.000000000000003e-12, Training Loss: 0.0872, Training Accuracy: 0.9686, Test Loss: 0.5611, Test Accuracy: 0.8697\n"
          ]
        },
        {
          "output_type": "stream",
          "name": "stderr",
          "text": [
            "Epoch 180: 100%|██████████| 176/176 [00:22<00:00,  7.93batch/s, accuracy=0.969, loss=0.0875]\n",
            "Epoch 180: 100%|██████████| 36/36 [00:02<00:00, 12.15batch/s, accuracy=0.871, loss=0.564]\n"
          ]
        },
        {
          "output_type": "stream",
          "name": "stdout",
          "text": [
            "Epoch: 180, learning rate: 5.000000000000003e-13, Training Loss: 0.0875, Training Accuracy: 0.9690, Test Loss: 0.5643, Test Accuracy: 0.8711\n"
          ]
        },
        {
          "output_type": "stream",
          "name": "stderr",
          "text": [
            "Epoch 181: 100%|██████████| 176/176 [00:22<00:00,  7.90batch/s, accuracy=0.97, loss=0.0887]\n",
            "Epoch 181: 100%|██████████| 36/36 [00:02<00:00, 12.43batch/s, accuracy=0.871, loss=0.559]\n"
          ]
        },
        {
          "output_type": "stream",
          "name": "stdout",
          "text": [
            "Epoch: 181, learning rate: 5.000000000000003e-13, Training Loss: 0.0887, Training Accuracy: 0.9698, Test Loss: 0.5591, Test Accuracy: 0.8712\n"
          ]
        },
        {
          "output_type": "stream",
          "name": "stderr",
          "text": [
            "Epoch 182: 100%|██████████| 176/176 [00:22<00:00,  7.84batch/s, accuracy=0.969, loss=0.0877]\n",
            "Epoch 182: 100%|██████████| 36/36 [00:02<00:00, 12.28batch/s, accuracy=0.87, loss=0.566]\n"
          ]
        },
        {
          "output_type": "stream",
          "name": "stdout",
          "text": [
            "Epoch: 182, learning rate: 5.000000000000003e-13, Training Loss: 0.0877, Training Accuracy: 0.9690, Test Loss: 0.5664, Test Accuracy: 0.8703\n"
          ]
        },
        {
          "output_type": "stream",
          "name": "stderr",
          "text": [
            "Epoch 183: 100%|██████████| 176/176 [00:22<00:00,  7.77batch/s, accuracy=0.97, loss=0.0863]\n",
            "Epoch 183: 100%|██████████| 36/36 [00:02<00:00, 12.61batch/s, accuracy=0.871, loss=0.563]\n"
          ]
        },
        {
          "output_type": "stream",
          "name": "stdout",
          "text": [
            "Epoch: 183, learning rate: 5.000000000000003e-13, Training Loss: 0.0863, Training Accuracy: 0.9696, Test Loss: 0.5634, Test Accuracy: 0.8712\n"
          ]
        },
        {
          "output_type": "stream",
          "name": "stderr",
          "text": [
            "Epoch 184: 100%|██████████| 176/176 [00:22<00:00,  7.97batch/s, accuracy=0.969, loss=0.0876]\n",
            "Epoch 184: 100%|██████████| 36/36 [00:03<00:00, 11.58batch/s, accuracy=0.871, loss=0.565]\n"
          ]
        },
        {
          "output_type": "stream",
          "name": "stdout",
          "text": [
            "Epoch: 184, learning rate: 5.000000000000003e-13, Training Loss: 0.0876, Training Accuracy: 0.9690, Test Loss: 0.5649, Test Accuracy: 0.8709\n"
          ]
        },
        {
          "output_type": "stream",
          "name": "stderr",
          "text": [
            "Epoch 185: 100%|██████████| 176/176 [00:21<00:00,  8.01batch/s, accuracy=0.969, loss=0.0851]\n",
            "Epoch 185: 100%|██████████| 36/36 [00:03<00:00, 10.60batch/s, accuracy=0.871, loss=0.563]\n"
          ]
        },
        {
          "output_type": "stream",
          "name": "stdout",
          "text": [
            "Epoch: 185, learning rate: 5.000000000000003e-13, Training Loss: 0.0851, Training Accuracy: 0.9692, Test Loss: 0.5635, Test Accuracy: 0.8708\n"
          ]
        },
        {
          "output_type": "stream",
          "name": "stderr",
          "text": [
            "Epoch 186: 100%|██████████| 176/176 [00:21<00:00,  8.16batch/s, accuracy=0.968, loss=0.0898]\n",
            "Epoch 186: 100%|██████████| 36/36 [00:03<00:00,  9.34batch/s, accuracy=0.871, loss=0.565]\n"
          ]
        },
        {
          "output_type": "stream",
          "name": "stdout",
          "text": [
            "Epoch: 186, learning rate: 5.000000000000003e-13, Training Loss: 0.0898, Training Accuracy: 0.9679, Test Loss: 0.5645, Test Accuracy: 0.8707\n"
          ]
        },
        {
          "output_type": "stream",
          "name": "stderr",
          "text": [
            "Epoch 187: 100%|██████████| 176/176 [00:21<00:00,  8.29batch/s, accuracy=0.968, loss=0.0889]\n",
            "Epoch 187: 100%|██████████| 36/36 [00:03<00:00,  9.69batch/s, accuracy=0.872, loss=0.555]\n"
          ]
        },
        {
          "output_type": "stream",
          "name": "stdout",
          "text": [
            "Epoch: 187, learning rate: 5.000000000000003e-13, Training Loss: 0.0889, Training Accuracy: 0.9681, Test Loss: 0.5555, Test Accuracy: 0.8717\n"
          ]
        },
        {
          "output_type": "stream",
          "name": "stderr",
          "text": [
            "Epoch 188: 100%|██████████| 176/176 [00:21<00:00,  8.06batch/s, accuracy=0.969, loss=0.088]\n",
            "Epoch 188: 100%|██████████| 36/36 [00:03<00:00, 10.90batch/s, accuracy=0.871, loss=0.558]\n"
          ]
        },
        {
          "output_type": "stream",
          "name": "stdout",
          "text": [
            "Epoch: 188, learning rate: 5.000000000000003e-13, Training Loss: 0.0880, Training Accuracy: 0.9688, Test Loss: 0.5580, Test Accuracy: 0.8714\n"
          ]
        },
        {
          "output_type": "stream",
          "name": "stderr",
          "text": [
            "Epoch 189: 100%|██████████| 176/176 [00:21<00:00,  8.04batch/s, accuracy=0.97, loss=0.0858]\n",
            "Epoch 189: 100%|██████████| 36/36 [00:03<00:00, 10.83batch/s, accuracy=0.872, loss=0.565]\n"
          ]
        },
        {
          "output_type": "stream",
          "name": "stdout",
          "text": [
            "Epoch: 189, learning rate: 5.000000000000003e-13, Training Loss: 0.0858, Training Accuracy: 0.9699, Test Loss: 0.5646, Test Accuracy: 0.8717\n"
          ]
        },
        {
          "output_type": "stream",
          "name": "stderr",
          "text": [
            "Epoch 190: 100%|██████████| 176/176 [00:22<00:00,  7.98batch/s, accuracy=0.969, loss=0.0878]\n",
            "Epoch 190: 100%|██████████| 36/36 [00:02<00:00, 12.43batch/s, accuracy=0.87, loss=0.561]\n"
          ]
        },
        {
          "output_type": "stream",
          "name": "stdout",
          "text": [
            "Epoch: 190, learning rate: 5.000000000000003e-13, Training Loss: 0.0878, Training Accuracy: 0.9688, Test Loss: 0.5613, Test Accuracy: 0.8702\n"
          ]
        },
        {
          "output_type": "stream",
          "name": "stderr",
          "text": [
            "Epoch 191: 100%|██████████| 176/176 [00:22<00:00,  7.74batch/s, accuracy=0.969, loss=0.0875]\n",
            "Epoch 191: 100%|██████████| 36/36 [00:02<00:00, 12.48batch/s, accuracy=0.871, loss=0.562]\n"
          ]
        },
        {
          "output_type": "stream",
          "name": "stdout",
          "text": [
            "Epoch: 191, learning rate: 5.000000000000003e-13, Training Loss: 0.0875, Training Accuracy: 0.9686, Test Loss: 0.5617, Test Accuracy: 0.8709\n"
          ]
        },
        {
          "output_type": "stream",
          "name": "stderr",
          "text": [
            "Epoch 192: 100%|██████████| 176/176 [00:22<00:00,  7.81batch/s, accuracy=0.968, loss=0.0911]\n",
            "Epoch 192: 100%|██████████| 36/36 [00:02<00:00, 12.31batch/s, accuracy=0.87, loss=0.562]\n"
          ]
        },
        {
          "output_type": "stream",
          "name": "stdout",
          "text": [
            "Epoch: 192, learning rate: 5.000000000000003e-13, Training Loss: 0.0911, Training Accuracy: 0.9680, Test Loss: 0.5623, Test Accuracy: 0.8703\n"
          ]
        },
        {
          "output_type": "stream",
          "name": "stderr",
          "text": [
            "Epoch 193: 100%|██████████| 176/176 [00:22<00:00,  7.77batch/s, accuracy=0.969, loss=0.0877]\n",
            "Epoch 193: 100%|██████████| 36/36 [00:02<00:00, 12.44batch/s, accuracy=0.871, loss=0.558]\n"
          ]
        },
        {
          "output_type": "stream",
          "name": "stdout",
          "text": [
            "Epoch: 193, learning rate: 5.000000000000003e-13, Training Loss: 0.0877, Training Accuracy: 0.9692, Test Loss: 0.5578, Test Accuracy: 0.8707\n"
          ]
        },
        {
          "output_type": "stream",
          "name": "stderr",
          "text": [
            "Epoch 194: 100%|██████████| 176/176 [00:22<00:00,  7.78batch/s, accuracy=0.969, loss=0.089]\n",
            "Epoch 194: 100%|██████████| 36/36 [00:02<00:00, 12.22batch/s, accuracy=0.871, loss=0.565]\n"
          ]
        },
        {
          "output_type": "stream",
          "name": "stdout",
          "text": [
            "Epoch: 194, learning rate: 5.000000000000003e-13, Training Loss: 0.0890, Training Accuracy: 0.9685, Test Loss: 0.5648, Test Accuracy: 0.8708\n"
          ]
        },
        {
          "output_type": "stream",
          "name": "stderr",
          "text": [
            "Epoch 195: 100%|██████████| 176/176 [00:23<00:00,  7.62batch/s, accuracy=0.969, loss=0.0876]\n",
            "Epoch 195: 100%|██████████| 36/36 [00:02<00:00, 12.22batch/s, accuracy=0.871, loss=0.565]\n"
          ]
        },
        {
          "output_type": "stream",
          "name": "stdout",
          "text": [
            "Epoch: 195, learning rate: 5.000000000000003e-13, Training Loss: 0.0876, Training Accuracy: 0.9694, Test Loss: 0.5654, Test Accuracy: 0.8706\n"
          ]
        },
        {
          "output_type": "stream",
          "name": "stderr",
          "text": [
            "Epoch 196: 100%|██████████| 176/176 [00:22<00:00,  7.84batch/s, accuracy=0.968, loss=0.0904]\n",
            "Epoch 196: 100%|██████████| 36/36 [00:02<00:00, 12.02batch/s, accuracy=0.872, loss=0.561]\n"
          ]
        },
        {
          "output_type": "stream",
          "name": "stdout",
          "text": [
            "Epoch: 196, learning rate: 5.000000000000003e-13, Training Loss: 0.0904, Training Accuracy: 0.9680, Test Loss: 0.5612, Test Accuracy: 0.8716\n"
          ]
        },
        {
          "output_type": "stream",
          "name": "stderr",
          "text": [
            "Epoch 197: 100%|██████████| 176/176 [00:22<00:00,  7.71batch/s, accuracy=0.969, loss=0.0864]\n",
            "Epoch 197: 100%|██████████| 36/36 [00:03<00:00, 11.89batch/s, accuracy=0.87, loss=0.562]\n"
          ]
        },
        {
          "output_type": "stream",
          "name": "stdout",
          "text": [
            "Epoch: 197, learning rate: 5.000000000000003e-13, Training Loss: 0.0864, Training Accuracy: 0.9694, Test Loss: 0.5622, Test Accuracy: 0.8704\n"
          ]
        },
        {
          "output_type": "stream",
          "name": "stderr",
          "text": [
            "Epoch 198: 100%|██████████| 176/176 [00:23<00:00,  7.47batch/s, accuracy=0.969, loss=0.0872]\n",
            "Epoch 198: 100%|██████████| 36/36 [00:02<00:00, 12.10batch/s, accuracy=0.871, loss=0.56]\n"
          ]
        },
        {
          "output_type": "stream",
          "name": "stdout",
          "text": [
            "Epoch: 198, learning rate: 5.000000000000003e-13, Training Loss: 0.0872, Training Accuracy: 0.9691, Test Loss: 0.5597, Test Accuracy: 0.8714\n"
          ]
        },
        {
          "output_type": "stream",
          "name": "stderr",
          "text": [
            "Epoch 199: 100%|██████████| 176/176 [00:23<00:00,  7.52batch/s, accuracy=0.968, loss=0.0923]\n",
            "Epoch 199: 100%|██████████| 36/36 [00:02<00:00, 12.37batch/s, accuracy=0.872, loss=0.56]\n"
          ]
        },
        {
          "output_type": "stream",
          "name": "stdout",
          "text": [
            "Epoch: 199, learning rate: 5.000000000000003e-13, Training Loss: 0.0923, Training Accuracy: 0.9681, Test Loss: 0.5599, Test Accuracy: 0.8717\n"
          ]
        },
        {
          "output_type": "stream",
          "name": "stderr",
          "text": [
            "Epoch 200: 100%|██████████| 176/176 [00:22<00:00,  7.86batch/s, accuracy=0.969, loss=0.0892]\n",
            "Epoch 200: 100%|██████████| 36/36 [00:02<00:00, 12.54batch/s, accuracy=0.871, loss=0.56]\n"
          ]
        },
        {
          "output_type": "stream",
          "name": "stdout",
          "text": [
            "Epoch: 200, learning rate: 5.000000000000003e-14, Training Loss: 0.0892, Training Accuracy: 0.9690, Test Loss: 0.5600, Test Accuracy: 0.8713\n"
          ]
        },
        {
          "output_type": "display_data",
          "data": {
            "text/plain": [
              "<Figure size 640x480 with 1 Axes>"
            ],
            "image/png": "[encoded data removed]"
          },
          "metadata": {}
        },
        {
          "output_type": "display_data",
          "data": {
            "text/plain": [
              "<Figure size 640x480 with 1 Axes>"
            ],
            "image/png": "[encoded data removed]"
          },
          "metadata": {}
        }
      ]
    },
    {
      "cell_type": "code",
      "source": [
        "import torch\n",
        "import torch.nn as nn\n",
        "import torchvision.datasets as datasets\n",
        "import torchvision.transforms as transforms\n",
        "\n",
        "\n",
        "#Threshold Selection\n",
        "\n",
        "model.to(device)\n",
        "model.eval()\n",
        "\n",
        "softmax_threshold = 0.0  # Initialize the threshold\n",
        "\n",
        "# Pass the original validation set through the model to obtain softmax probabilities\n",
        "with torch.no_grad():\n",
        "    softmax_probs = []\n",
        "    for images, _ in test_loader:\n",
        "        images = images.to(device)\n",
        "        outputs = model(images)\n",
        "        softmax_probs.extend(torch.softmax(outputs, dim=1).max(dim=1).values.tolist())\n",
        "\n",
        "# Sort the softmax probabilities and select the threshold\n",
        "sorted_softmax_probs = sorted(softmax_probs, reverse=True)\n",
        "threshold_index = int(0.95 * len(sorted_softmax_probs))\n",
        "softmax_threshold = sorted_softmax_probs[threshold_index]\n",
        "\n"
      ],
      "metadata": {
        "id": "JsJFFkXgaZUx"
      },
      "execution_count": null,
      "outputs": []
    },
    {
      "cell_type": "code",
      "source": [
        "softmax_threshold"
      ],
      "metadata": {
        "colab": {
          "base_uri": "https://localhost:8080/"
        },
        "id": "S1ZT1Xy2aeQR",
        "outputId": "98a29deb-50a5-4ec6-ef37-af4721b0740a"
      },
      "execution_count": null,
      "outputs": [
        {
          "output_type": "execute_result",
          "data": {
            "text/plain": [
              "0.6423829793930054"
            ]
          },
          "metadata": {},
          "execution_count": 35
        }
      ]
    },
    {
      "cell_type": "code",
      "source": [
        "\n",
        "\n",
        "import numpy as np\n",
        "import matplotlib.pyplot as plt\n",
        "\n",
        "softmax_magnitudes = []\n",
        "\n",
        "# Iterate over the test loader and calculate the softmax magnitude for each sample\n",
        "with torch.no_grad():\n",
        "    for images, _ in test_loader:\n",
        "        images = images.to(device)\n",
        "        outputs = model(images)\n",
        "        softmax_probs = torch.softmax(outputs, dim=1)\n",
        "        softmax_magnitudes.extend(torch.max(softmax_probs, dim=1).values.tolist())\n",
        "\n",
        "# Convert the softmax magnitudes to a numpy array\n",
        "softmax_magnitudes = np.array(softmax_magnitudes)\n",
        "\n",
        "# Plot the distribution of softmax magnitudes\n",
        "plt.figure(figsize=(10, 6))\n",
        "plt.hist(softmax_magnitudes, bins=50)\n",
        "plt.xlabel('Softmax Magnitude')\n",
        "plt.ylabel('Frequency')\n",
        "plt.title('Distribution of Softmax Magnitudes for Test Set')\n",
        "plt.show()"
      ],
      "metadata": {
        "colab": {
          "base_uri": "https://localhost:8080/",
          "height": 564
        },
        "id": "4AvOZaK8agri",
        "outputId": "d2105d5c-0cf8-4a3d-a906-b21babe82c38"
      },
      "execution_count": null,
      "outputs": [
        {
          "output_type": "display_data",
          "data": {
            "text/plain": [
              "<Figure size 1000x600 with 1 Axes>"
            ],
            "image/png": "[encoded data removed]"
          },
          "metadata": {}
        }
      ]
    },
    {
      "cell_type": "code",
      "source": [
        "\n",
        "cifar_dataset = datasets.CIFAR10(root='./data', train=False, download=True, transform=transform_test)\n",
        "frog_indices = [i for i, label in enumerate(cifar_dataset.targets) if label == 3]  # 3 represents the cat class\n",
        "frog_dataset = torch.utils.data.Subset(cifar_dataset, frog_indices)\n",
        "\n",
        "frog_dataloader_test = torch.utils.data.DataLoader(frog_dataset, batch_size=64, shuffle=False)\n",
        "\n",
        "# Step 2: OOD Detection\n",
        "ood_samples = 0\n",
        "total_samples = 0\n",
        "\n",
        "# Pass the OOD validation set (frog class) through the model and classify samples\n",
        "with torch.no_grad():\n",
        "    for images, _ in frog_dataloader_test:\n",
        "        images = images.to(device)\n",
        "        outputs = model(images)\n",
        "        softmax_probs = torch.softmax(outputs, dim=1)\n",
        "        max_softmax_probs, _ = softmax_probs.max(dim=1)\n",
        "\n",
        "        ood_samples += (max_softmax_probs < softmax_threshold).sum().item()\n",
        "        total_samples += len(max_softmax_probs)\n",
        "\n",
        "ood_detection_percentage = (ood_samples / total_samples) * 100\n",
        "print(f\"Percentage of cat samples classified as out-of-distribution: {ood_detection_percentage}%\")\n"
      ],
      "metadata": {
        "colab": {
          "base_uri": "https://localhost:8080/"
        },
        "id": "oNE30neHajhj",
        "outputId": "30270dcf-1c68-4d36-f0ff-e6196dfe9ead"
      },
      "execution_count": null,
      "outputs": [
        {
          "output_type": "stream",
          "name": "stdout",
          "text": [
            "Files already downloaded and verified\n",
            "Percentage of cat samples classified as out-of-distribution: 15.4%\n"
          ]
        }
      ]
    },
    {
      "cell_type": "code",
      "source": [
        "\n",
        "\n",
        "\n",
        "\n",
        "import numpy as np\n",
        "import matplotlib.pyplot as plt\n",
        "\n",
        "softmax_magnitudes = []\n",
        "\n",
        "# Iterate over the test loader and calculate the softmax magnitude for each sample\n",
        "with torch.no_grad():\n",
        "    for images, _ in frog_dataloader_test:\n",
        "        images = images.to(device)\n",
        "        outputs = model(images)\n",
        "        softmax_probs = torch.softmax(outputs, dim=1)\n",
        "        softmax_magnitudes.extend(torch.max(softmax_probs, dim=1).values.tolist())\n",
        "\n",
        "# Convert the softmax magnitudes to a numpy array\n",
        "softmax_magnitudes = np.array(softmax_magnitudes)\n",
        "\n",
        "# Plot the distribution of softmax magnitudes\n",
        "plt.figure(figsize=(10, 6))\n",
        "plt.hist(softmax_magnitudes, bins=50)\n",
        "plt.xlabel('Softmax Magnitude')\n",
        "plt.ylabel('Frequency')\n",
        "plt.title('Distribution of Softmax Magnitudes for Test Set')\n",
        "plt.show()"
      ],
      "metadata": {
        "colab": {
          "base_uri": "https://localhost:8080/",
          "height": 564
        },
        "id": "bzu863JCaVL6",
        "outputId": "24de99db-c449-4c1a-94a7-432ec525c7dc"
      },
      "execution_count": null,
      "outputs": [
        {
          "output_type": "display_data",
          "data": {
            "text/plain": [
              "<Figure size 1000x600 with 1 Axes>"
            ],
            "image/png": "[encoded data removed]"
          },
          "metadata": {}
        }
      ]
    }
  ]
}