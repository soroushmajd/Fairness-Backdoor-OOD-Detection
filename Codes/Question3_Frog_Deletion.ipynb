{
  "nbformat": 4,
  "nbformat_minor": 0,
  "metadata": {
    "colab": {
      "provenance": [],
      "gpuType": "T4"
    },
    "kernelspec": {
      "name": "python3",
      "display_name": "Python 3"
    },
    "language_info": {
      "name": "python"
    },
    "accelerator": "GPU"
  },
  "cells": [
    {
      "cell_type": "code",
      "execution_count": 1,
      "metadata": {
        "id": "cig2V9Qgo-WD"
      },
      "outputs": [],
      "source": [
        "import torch\n",
        "import torchvision.transforms as transforms\n",
        "import torch.nn as nn\n",
        "import torch.optim as optim\n",
        "from torch.utils.data import DataLoader\n",
        "import matplotlib.pyplot as plt\n",
        "import matplotlib.style as style\n"
      ]
    },
    {
      "cell_type": "code",
      "source": [
        "import torchvision\n",
        "import numpy as np\n",
        "\n",
        "# Define transformation\n",
        "transform_test = torchvision.transforms.Compose([\n",
        "    torchvision.transforms.ToTensor(),\n",
        "    transforms.Normalize(\n",
        "                mean=[0.49139968, 0.48215827, 0.44653124],\n",
        "                std=[0.24703233, 0.24348505, 0.26158768],\n",
        "            )])\n",
        "\n",
        "import torch.utils.data as data\n",
        "\n",
        "# Define the transform to apply to the data\n",
        "normalize = torchvision.transforms.Normalize(mean=(0.4914, 0.4822, 0.4465), std=(0.2023, 0.1994, 0.2010))\n",
        "\n",
        "transform_train = torchvision.transforms.Compose([torchvision.transforms.RandomCrop(32, padding=4),\n",
        "                                                  torchvision.transforms.RandomHorizontalFlip(),\n",
        "                                                  torchvision.transforms.ToTensor(),\n",
        "                                                  normalize])\n",
        "\n",
        "transform_test  = torchvision.transforms.Compose([torchvision.transforms.ToTensor(),normalize])\n",
        "\n",
        "\n",
        "# Load the CIFAR-10 training and test datasets separately\n",
        "trainset = torchvision.datasets.CIFAR10(root='./data', train=True,\n",
        "                                        download=True, transform=transform_train)\n",
        "\n",
        "# Load the CIFAR-10 test dataset\n",
        "testset = torchvision.datasets.CIFAR10(root='./data', train=False,\n",
        "                                       download=True, transform=transform_test)\n",
        "\n",
        "# Combine the training and test datasets into a single dataset\n",
        "dataset = torch.utils.data.ConcatDataset([trainset, testset])\n",
        "\n",
        "\n",
        "# Print the shapes of the loaded data\n",
        "print('Combined Images:', len(dataset))\n",
        "print('Combined Labels:', len(trainset.targets) + len(testset.targets))\n",
        "dataset.targets = trainset.targets + testset.targets"
      ],
      "metadata": {
        "colab": {
          "base_uri": "https://localhost:8080/"
        },
        "id": "EeYHvqJdpgIg",
        "outputId": "54c3cf19-b21a-4ff0-db45-13ecc8ca2ea1"
      },
      "execution_count": 2,
      "outputs": [
        {
          "output_type": "stream",
          "name": "stdout",
          "text": [
            "Downloading https://www.cs.toronto.edu/~kriz/cifar-10-python.tar.gz to ./data/cifar-10-python.tar.gz\n"
          ]
        },
        {
          "output_type": "stream",
          "name": "stderr",
          "text": [
            "100%|██████████| 170498071/170498071 [00:03<00:00, 48253686.33it/s]\n"
          ]
        },
        {
          "output_type": "stream",
          "name": "stdout",
          "text": [
            "Extracting ./data/cifar-10-python.tar.gz to ./data\n",
            "Files already downloaded and verified\n",
            "Combined Images: 60000\n",
            "Combined Labels: 60000\n"
          ]
        }
      ]
    },
    {
      "cell_type": "code",
      "source": [
        "np.random.seed(42)\n",
        "train_indices = []\n",
        "val_indices = []\n",
        "test_indices = np.arange(len(dataset))\n",
        "\n",
        "train_size = 54000\n",
        "val_size = 6000\n",
        "\n",
        "for i in range(10):\n",
        "    if i == 6:  # Exclude frog class (class index 6)\n",
        "        continue\n",
        "\n",
        "    class_indices = np.where(np.array(dataset.targets) == i)[0]\n",
        "    np.random.shuffle(class_indices)\n",
        "    train_indices.extend(class_indices[:5400])\n",
        "    val_indices.extend(class_indices[5400:6000])\n",
        "\n",
        "np.random.shuffle(train_indices)\n",
        "np.random.shuffle(val_indices)\n",
        "np.random.shuffle(test_indices)\n",
        "\n",
        "# Update dataset and labels\n",
        "train_dataset = torch.utils.data.Subset(dataset, train_indices)\n",
        "val_dataset = torch.utils.data.Subset(dataset, val_indices)\n",
        "\n",
        "train_labels = np.array(dataset.targets)[train_indices]\n",
        "val_labels = np.array(dataset.targets)[val_indices]\n",
        "\n",
        "# Adjust labels to be 0 to 9\n",
        "train_labels[train_labels > 6] -= 1\n",
        "val_labels[val_labels > 6] -= 1\n",
        "\n",
        "# Print label distribution\n",
        "print(f\"Training label distribution: {np.bincount(train_labels)}\")\n",
        "print(f\"Validation label distribution: {np.bincount(val_labels)}\")"
      ],
      "metadata": {
        "colab": {
          "base_uri": "https://localhost:8080/"
        },
        "id": "U1bRcsZDqHot",
        "outputId": "e63fa1e0-ff7d-442c-deea-86f7d1c4e468"
      },
      "execution_count": 3,
      "outputs": [
        {
          "output_type": "stream",
          "name": "stdout",
          "text": [
            "Training label distribution: [5400 5400 5400 5400 5400 5400 5400 5400 5400]\n",
            "Validation label distribution: [600 600 600 600 600 600 600 600 600]\n"
          ]
        }
      ]
    },
    {
      "cell_type": "code",
      "source": [
        "batch_size = 256\n",
        "\n",
        "import torch\n",
        "from torchvision import datasets, transforms\n",
        "\n",
        "class FilteredDataset(torch.utils.data.Dataset):\n",
        "    def __init__(self, dataset, filter_label):\n",
        "        self.dataset = dataset\n",
        "        self.filter_label = filter_label\n",
        "        self.filtered_indices = self._filter_indices()\n",
        "\n",
        "    def __getitem__(self, index):\n",
        "        return self.dataset[self.filtered_indices[index]]\n",
        "\n",
        "    def __len__(self):\n",
        "        return len(self.filtered_indices)\n",
        "\n",
        "    def _filter_indices(self):\n",
        "        filtered_indices = []\n",
        "        for i, (_, label) in enumerate(self.dataset):\n",
        "            if label != self.filter_label:\n",
        "                filtered_indices.append(i)\n",
        "        return filtered_indices\n",
        "\n",
        "\n",
        "# Load the CIFAR-10 train dataset\n",
        "trainset = datasets.CIFAR10(root='./data', train=True, download=True, transform=transform_train)\n",
        "\n",
        "# Load the CIFAR-10 test dataset\n",
        "testset = datasets.CIFAR10(root='./data', train=False, download=True, transform=transform_test)\n",
        "\n",
        "# Create filtered trainset and testset without label 6\n",
        "trainset_filtered = FilteredDataset(trainset, filter_label=6)\n",
        "testset_filtered = FilteredDataset(testset, filter_label=6)\n",
        "\n",
        "# Create data loaders for filtered trainset and testset\n",
        "batch_size = 256\n",
        "train_loader = torch.utils.data.DataLoader(trainset_filtered, batch_size=batch_size, shuffle=True, num_workers=2, pin_memory=True)\n",
        "test_loader = torch.utils.data.DataLoader(testset_filtered, batch_size=batch_size, shuffle=False, num_workers=2, pin_memory=True)\n"
      ],
      "metadata": {
        "colab": {
          "base_uri": "https://localhost:8080/"
        },
        "id": "PoC-mnxpqKLo",
        "outputId": "3b77a4aa-d708-4d1b-9f48-d05f86e49530"
      },
      "execution_count": 4,
      "outputs": [
        {
          "output_type": "stream",
          "name": "stdout",
          "text": [
            "Files already downloaded and verified\n",
            "Files already downloaded and verified\n"
          ]
        }
      ]
    },
    {
      "cell_type": "code",
      "source": [
        "unique_labels = set()\n",
        "\n",
        "for batch in train_loader:\n",
        "    _, labels = batch  # Assuming each batch consists of (data, labels) tuples\n",
        "    unique_labels.update(labels.tolist())\n",
        "\n",
        "print(\"Unique labels in train_loader:\", unique_labels)"
      ],
      "metadata": {
        "colab": {
          "base_uri": "https://localhost:8080/"
        },
        "id": "KVoIolAS9Zbf",
        "outputId": "011090b7-024f-40d6-ea1d-0401dfc40e00"
      },
      "execution_count": 5,
      "outputs": [
        {
          "output_type": "stream",
          "name": "stdout",
          "text": [
            "Unique labels in train_loader: {0, 1, 2, 3, 4, 5, 7, 8, 9}\n"
          ]
        }
      ]
    },
    {
      "cell_type": "code",
      "source": [
        "import matplotlib.pyplot as plt\n",
        "from collections import Counter\n",
        "\n",
        "labels = []\n",
        "for batch in train_loader:\n",
        "    _, label = batch\n",
        "    labels.extend(label.tolist())\n",
        "\n",
        "label_counts = Counter(labels)\n",
        "total_count = sum(label_counts.values())\n",
        "\n",
        "print(\"Trainset Label distribution:\")\n",
        "for label, count in label_counts.items():\n",
        "    print(f\"{label}: {count} ({count/total_count:.2%})\")\n",
        "\n",
        "plt.bar(label_counts.keys(), label_counts.values())\n",
        "plt.title('Label Distribution')\n",
        "plt.xlabel('Label')\n",
        "plt.ylabel('Count')\n",
        "plt.show()"
      ],
      "metadata": {
        "colab": {
          "base_uri": "https://localhost:8080/",
          "height": 646
        },
        "id": "mlJIStpJqPuG",
        "outputId": "3c38bea1-cc94-464c-af82-a5e86058e53c"
      },
      "execution_count": 6,
      "outputs": [
        {
          "output_type": "stream",
          "name": "stdout",
          "text": [
            "Trainset Label distribution:\n",
            "7: 5000 (11.11%)\n",
            "5: 5000 (11.11%)\n",
            "1: 5000 (11.11%)\n",
            "8: 5000 (11.11%)\n",
            "3: 5000 (11.11%)\n",
            "0: 5000 (11.11%)\n",
            "2: 5000 (11.11%)\n",
            "9: 5000 (11.11%)\n",
            "4: 5000 (11.11%)\n"
          ]
        },
        {
          "output_type": "display_data",
          "data": {
            "text/plain": [
              "<Figure size 640x480 with 1 Axes>"
            ],
            "image/png": "[encoded data removed]"
          },
          "metadata": {}
        }
      ]
    },
    {
      "cell_type": "code",
      "source": [
        "import matplotlib.pyplot as plt\n",
        "from collections import Counter\n",
        "\n",
        "labels = []\n",
        "for batch in test_loader:\n",
        "    _, label = batch\n",
        "    labels.extend(label.tolist())\n",
        "\n",
        "label_counts = Counter(labels)\n",
        "total_count = sum(label_counts.values())\n",
        "\n",
        "print(\"Label distribution:\")\n",
        "for label, count in label_counts.items():\n",
        "    print(f\"{label}: {count} ({count/total_count:.2%})\")\n",
        "\n",
        "plt.bar(label_counts.keys(), label_counts.values())\n",
        "plt.title('Testset & Validset Label Distribution')\n",
        "plt.xlabel('Label')\n",
        "plt.ylabel('Count')\n",
        "plt.show()\n"
      ],
      "metadata": {
        "colab": {
          "base_uri": "https://localhost:8080/",
          "height": 646
        },
        "id": "zSoVdrfOqW9p",
        "outputId": "6dbf987f-1b98-4568-a345-339fe72dde1c"
      },
      "execution_count": null,
      "outputs": [
        {
          "output_type": "stream",
          "name": "stdout",
          "text": [
            "Label distribution:\n",
            "3: 1000 (11.11%)\n",
            "8: 1000 (11.11%)\n",
            "0: 1000 (11.11%)\n",
            "1: 1000 (11.11%)\n",
            "9: 1000 (11.11%)\n",
            "5: 1000 (11.11%)\n",
            "7: 1000 (11.11%)\n",
            "4: 1000 (11.11%)\n",
            "2: 1000 (11.11%)\n"
          ]
        },
        {
          "output_type": "display_data",
          "data": {
            "text/plain": [
              "<Figure size 640x480 with 1 Axes>"
            ],
            "image/png": "[encoded data removed]"
          },
          "metadata": {}
        }
      ]
    },
    {
      "cell_type": "code",
      "source": [
        "import torch\n",
        "import torchvision.models as models\n",
        "import torch.optim.lr_scheduler as lr_scheduler\n",
        "\n",
        "# Load the ResNet18 model\n",
        "#model = models.resnet18(pretrained=False)\n",
        "#model.fc = torch.nn.Linear(in_features=512, out_features=10)\n",
        "#num_epochs = 120\n",
        "#lr = 0.1\n",
        "\n",
        "\n",
        "import torch\n",
        "import torchvision.models as models\n",
        "import torch.optim.lr_scheduler as lr_scheduler\n",
        "\n",
        "# Load the ResNet18 model\n",
        "#model = models.resnet18(pretrained=False)\n",
        "#model.fc = torch.nn.Linear(in_features=512, out_features=10)\n",
        "#num_epochs = 120\n",
        "#lr = 0.1\n",
        "\n",
        "\n",
        "import torch\n",
        "import torch.nn as nn\n",
        "import torch.optim as optim\n",
        "import torchvision\n",
        "import torch.nn.functional as F\n",
        "device = torch.device(\"cuda\" if torch.cuda.is_available() else \"cpu\")\n",
        "\n",
        "\n",
        "import torch\n",
        "import torch.nn as nn\n",
        "import torch.nn.functional as F\n",
        "class ResNet18(nn.Module):\n",
        "    def __init__(\n",
        "        self, in_channels=3, num_classes=9, pretrained=None, embedding_reduction=False\n",
        "    ):\n",
        "        super(ResNet18, self).__init__()\n",
        "\n",
        "        self.resnet18 = torchvision.models.resnet18(weights=pretrained)\n",
        "        self.resnet18.conv1 = nn.Conv2d(\n",
        "            in_channels,\n",
        "            64,\n",
        "            kernel_size=(7, 7),\n",
        "            stride=(2, 2),\n",
        "            padding=(3, 3),\n",
        "            bias=False,\n",
        "        )\n",
        "        self.resnet18.fc = nn.Linear(\n",
        "            in_features=512, out_features=num_classes, bias=True\n",
        "        )\n",
        "        self.backbone = nn.Sequential(*list(self.resnet18.children())[:-1])\n",
        "        self.classifier = nn.Sequential(self.resnet18.fc)\n",
        "\n",
        "        self.embedding_reduction = embedding_reduction\n",
        "\n",
        "        self.fc_embeding_reduction = nn.Sequential(\n",
        "            nn.Linear(in_features=512, out_features=128),\n",
        "        )\n",
        "\n",
        "    def forward(self, x, embedding=False):\n",
        "        x = self.backbone(x)\n",
        "        x = torch.flatten(x, start_dim=1)\n",
        "        if embedding and self.embedding_reduction:\n",
        "            x = self.fc_embeding_reduction(x)\n",
        "            x = torch.nn.functional.normalize(x)\n",
        "        if not embedding:\n",
        "            x = self.classifier(x)\n",
        "        return x\n",
        "\n",
        "    def fix_backbone(self):\n",
        "        for param in self.backbone.parameters():\n",
        "            param.requires_grad = False\n",
        "\n",
        "\n",
        "# Step 1: Define a model\n",
        "model = ResNet18(in_channels= 3, pretrained= True).to(device)\n",
        "#device = torch.device(\"cuda:0\" if torch.cuda.is_available() else \"cpu\")\n",
        "#model.to(device)\n",
        "\n",
        "\n",
        "def adjust_learning_rate(optimizer, epoch, init_lr):\n",
        "    #lr = 1.0 / (epoch + 1)\n",
        "    lr = init_lr * 0.1 ** (epoch // 30)\n",
        "    for param_group in optimizer.param_groups:\n",
        "        param_group['lr'] = lr\n",
        "    return lr\n",
        "\n",
        "minibatch_size = 256\n",
        "num_epochs = 200\n",
        "lr = 0.1\n",
        "\n",
        "# Step 1: Define a model\n",
        "#my_model = ResNet(BasicBlock, [2,2,2,2], num_classes=10) #ResNet18\n",
        "#device = torch.device(\"cuda:0\" if torch.cuda.is_available() else \"cpu\")\n",
        "#my_model.to(device)\n",
        "#model.to(device)"
      ],
      "metadata": {
        "id": "QVPCXPqfqbJy"
      },
      "execution_count": 19,
      "outputs": []
    },
    {
      "cell_type": "code",
      "source": [
        "# Step 2: Define a loss function and training algorithm\n",
        "#criterion = nn.CrossEntropyLoss()\n",
        "#optimizer = optim.SGD(my_model.parameters(), lr=lr, momentum=0.9, weight_decay = 0.0005)\n",
        "criterion = nn.CrossEntropyLoss()\n",
        "optimizer = optim.Adam(model.parameters(), lr=0.01)\n",
        "#scheduler = lr_scheduler.StepLR(optimizer, step_size=2, gamma=0.99)\n",
        "\n",
        "\n",
        "class FilteredDataset(torch.utils.data.Dataset):\n",
        "    def __init__(self, dataset, filter_label):\n",
        "        self.dataset = dataset\n",
        "        self.filter_label = filter_label\n",
        "        self.filtered_indices = self._filter_indices()\n",
        "\n",
        "    def __getitem__(self, index):\n",
        "        orig_index, label = self.filtered_indices[index]\n",
        "        image, _ = self.dataset[orig_index]\n",
        "        return image, label\n",
        "\n",
        "    def __len__(self):\n",
        "        return len(self.filtered_indices)\n",
        "\n",
        "    def _filter_indices(self):\n",
        "        filtered_indices = []\n",
        "        label_mapping = {0: 0, 1: 1, 2: 2, 3: 3, 4: 4, 5: 5, 7: 6, 8: 7, 9: 8}\n",
        "        for i, (image, label) in enumerate(self.dataset):\n",
        "            if label in label_mapping:\n",
        "                filtered_indices.append((i, label_mapping[label]))\n",
        "        return filtered_indices\n",
        "\n",
        "\n",
        "# Load the CIFAR-10 train dataset\n",
        "trainset = datasets.CIFAR10(root='./data', train=True, download=True, transform=transform_train)\n",
        "\n",
        "# Load the CIFAR-10 test dataset\n",
        "testset = datasets.CIFAR10(root='./data', train=False, download=True, transform=transform_test)\n",
        "\n",
        "# Create filtered trainset and testset without label 6\n",
        "trainset_filtered = FilteredDataset(trainset, filter_label=6)\n",
        "testset_filtered = FilteredDataset(testset, filter_label=6)\n",
        "\n",
        "# Create data loaders for filtered trainset and testset\n",
        "batch_size = 256\n",
        "train_loader = torch.utils.data.DataLoader(trainset_filtered, batch_size=batch_size, shuffle=True, num_workers=2, pin_memory=True)\n",
        "test_loader = torch.utils.data.DataLoader(testset_filtered, batch_size=batch_size, shuffle=False, num_workers=2, pin_memory=True)\n",
        "\n"
      ],
      "metadata": {
        "colab": {
          "base_uri": "https://localhost:8080/"
        },
        "id": "yayL9bpnlAvd",
        "outputId": "2707980d-c297-45fa-efe8-02617456cb3e"
      },
      "execution_count": 20,
      "outputs": [
        {
          "output_type": "stream",
          "name": "stdout",
          "text": [
            "Files already downloaded and verified\n",
            "Files already downloaded and verified\n"
          ]
        }
      ]
    },
    {
      "cell_type": "code",
      "source": [
        "\n",
        "unique_labels = set()\n",
        "for _, label in trainset_filtered:\n",
        "    unique_labels.add(label)\n",
        "\n",
        "print(\"Unique labels in trainset_filtered:\", unique_labels)"
      ],
      "metadata": {
        "colab": {
          "base_uri": "https://localhost:8080/"
        },
        "id": "8aYlv_V0BwrD",
        "outputId": "30435c5c-56a8-46f5-a1b1-5a08c2e0ff00"
      },
      "execution_count": 21,
      "outputs": [
        {
          "output_type": "stream",
          "name": "stdout",
          "text": [
            "Unique labels in trainset_filtered: {0, 1, 2, 3, 4, 5, 6, 7, 8}\n"
          ]
        }
      ]
    },
    {
      "cell_type": "code",
      "source": [
        "import tqdm\n",
        "import matplotlib.pyplot as plt\n",
        "from torch.optim.lr_scheduler import ExponentialLR, StepLR\n",
        "\n",
        "#lr_scheduler = ExponentialLR(optimizer, step_size=20, gamma=0.1)\n",
        "lr_scheduler = StepLR(optimizer, step_size=20, gamma=0.1)\n",
        "# Initialize empty lists to store loss and accuracy values\n",
        "train_losses = []\n",
        "test_losses = []\n",
        "train_accuracies = []\n",
        "test_accuracies = []\n",
        "\n",
        "for epoch in range(num_epochs):\n",
        "    model.train()\n",
        "    train_loss = 0\n",
        "    correct = 0\n",
        "    total = 0\n",
        "\n",
        "    # Use tqdm to track the progress of train_loader\n",
        "    with tqdm.tqdm(train_loader, unit=\"batch\") as t:\n",
        "        for i, (images, labels) in enumerate(t):\n",
        "            images = images.cuda()\n",
        "            labels = labels.cuda()\n",
        "\n",
        "            optimizer.zero_grad()\n",
        "            outputs = model(images)\n",
        "            loss = criterion(outputs, labels)\n",
        "            loss.backward()\n",
        "            optimizer.step()\n",
        "\n",
        "            train_loss += loss.item()\n",
        "            _, predicted = torch.max(outputs.data, 1)\n",
        "            total += labels.size(0)\n",
        "            correct += (predicted == labels).sum().item()\n",
        "\n",
        "            # Update the progress bar description\n",
        "            t.set_description(f\"Epoch {epoch+1}\")\n",
        "            t.set_postfix(loss=train_loss / (i + 1), accuracy=correct / total)\n",
        "\n",
        "    # Calculate average loss and accuracy for training set\n",
        "    train_loss /= len(train_loader)\n",
        "    train_accuracy = correct / total\n",
        "\n",
        "    # Append loss and accuracy to respective lists\n",
        "    train_losses.append(train_loss)\n",
        "    train_accuracies.append(train_accuracy)\n",
        "\n",
        "    model.eval()\n",
        "    test_loss = 0\n",
        "    correct = 0\n",
        "    total = 0\n",
        "\n",
        "    # Use tqdm to track the progress of test_loader\n",
        "    with tqdm.tqdm(test_loader, unit=\"batch\") as t:\n",
        "        for i, (images, labels) in enumerate(t):\n",
        "            with torch.no_grad():\n",
        "                images = images.cuda()\n",
        "                labels = labels.cuda()\n",
        "                outputs = model(images)\n",
        "                loss = criterion(outputs, labels)\n",
        "\n",
        "                test_loss += loss.item()\n",
        "                _, predicted = torch.max(outputs.data, 1)\n",
        "                total += labels.size(0)\n",
        "                correct += (predicted == labels).sum().item()\n",
        "\n",
        "                # Update the progress bar description\n",
        "                t.set_description(f\"Epoch {epoch+1}\")\n",
        "                t.set_postfix(loss=test_loss / (i + 1), accuracy=correct / total)\n",
        "\n",
        "    # Calculate average loss and accuracy for test set\n",
        "    test_loss /= len(test_loader)\n",
        "    test_accuracy = correct / total\n",
        "\n",
        "    # Append loss and accuracy to respective lists\n",
        "    test_losses.append(test_loss)\n",
        "    test_accuracies.append(test_accuracy)\n",
        "\n",
        "    # Update the scheduler\n",
        "    lr_scheduler.step()\n",
        "\n",
        "    current_lr = lr_scheduler.get_last_lr()[0]  # Get the current learning rate\n",
        "\n",
        "    print('Epoch: {}, learning rate: {}, Training Loss: {:.4f}, Training Accuracy: {:.4f}, Test Loss: {:.4f}, Test Accuracy: {:.4f}'\n",
        "          .format(epoch + 1, current_lr, train_loss, train_accuracy, test_loss, test_accuracy))\n",
        "\n",
        "# Plot loss curves\n",
        "plt.plot(train_losses, label='Training Loss')\n",
        "plt.plot(test_losses, label='Test Loss')\n",
        "plt.xlabel('Epoch')\n",
        "plt.ylabel('Loss')\n",
        "plt.legend()\n",
        "plt.show()\n",
        "\n",
        "# Plot accuracy curves\n",
        "plt.plot(train_accuracies, label='Training Accuracy')\n",
        "plt.plot(test_accuracies, label='Test Accuracy')\n",
        "plt.xlabel('Epoch')\n",
        "plt.ylabel('Accuracy')\n",
        "plt.legend()\n",
        "plt.show()"
      ],
      "metadata": {
        "colab": {
          "base_uri": "https://localhost:8080/",
          "height": 1000
        },
        "id": "CQ-b61uYqgaU",
        "outputId": "f10adc7b-5e13-4e3c-98cd-b038b31dce2a"
      },
      "execution_count": 22,
      "outputs": [
        {
          "output_type": "stream",
          "name": "stderr",
          "text": [
            "Epoch 1: 100%|██████████| 176/176 [00:21<00:00,  8.30batch/s, accuracy=0.206, loss=2.21]\n",
            "Epoch 1: 100%|██████████| 36/36 [00:02<00:00, 13.35batch/s, accuracy=0.254, loss=2.22]\n"
          ]
        },
        {
          "output_type": "stream",
          "name": "stdout",
          "text": [
            "Epoch: 1, learning rate: 0.01, Training Loss: 2.2134, Training Accuracy: 0.2062, Test Loss: 2.2211, Test Accuracy: 0.2543\n"
          ]
        },
        {
          "output_type": "stream",
          "name": "stderr",
          "text": [
            "Epoch 2: 100%|██████████| 176/176 [00:20<00:00,  8.58batch/s, accuracy=0.331, loss=1.76]\n",
            "Epoch 2: 100%|██████████| 36/36 [00:03<00:00, 10.24batch/s, accuracy=0.37, loss=1.62]\n"
          ]
        },
        {
          "output_type": "stream",
          "name": "stdout",
          "text": [
            "Epoch: 2, learning rate: 0.01, Training Loss: 1.7570, Training Accuracy: 0.3312, Test Loss: 1.6168, Test Accuracy: 0.3702\n"
          ]
        },
        {
          "output_type": "stream",
          "name": "stderr",
          "text": [
            "Epoch 3: 100%|██████████| 176/176 [00:20<00:00,  8.66batch/s, accuracy=0.38, loss=1.63]\n",
            "Epoch 3: 100%|██████████| 36/36 [00:03<00:00, 10.44batch/s, accuracy=0.421, loss=1.51]\n"
          ]
        },
        {
          "output_type": "stream",
          "name": "stdout",
          "text": [
            "Epoch: 3, learning rate: 0.01, Training Loss: 1.6282, Training Accuracy: 0.3798, Test Loss: 1.5143, Test Accuracy: 0.4212\n"
          ]
        },
        {
          "output_type": "stream",
          "name": "stderr",
          "text": [
            "Epoch 4: 100%|██████████| 176/176 [00:20<00:00,  8.53batch/s, accuracy=0.435, loss=1.47]\n",
            "Epoch 4: 100%|██████████| 36/36 [00:02<00:00, 12.94batch/s, accuracy=0.452, loss=1.45]\n"
          ]
        },
        {
          "output_type": "stream",
          "name": "stdout",
          "text": [
            "Epoch: 4, learning rate: 0.01, Training Loss: 1.4740, Training Accuracy: 0.4350, Test Loss: 1.4506, Test Accuracy: 0.4520\n"
          ]
        },
        {
          "output_type": "stream",
          "name": "stderr",
          "text": [
            "Epoch 5: 100%|██████████| 176/176 [00:20<00:00,  8.44batch/s, accuracy=0.491, loss=1.34]\n",
            "Epoch 5: 100%|██████████| 36/36 [00:02<00:00, 13.99batch/s, accuracy=0.492, loss=1.41]\n"
          ]
        },
        {
          "output_type": "stream",
          "name": "stdout",
          "text": [
            "Epoch: 5, learning rate: 0.01, Training Loss: 1.3416, Training Accuracy: 0.4910, Test Loss: 1.4150, Test Accuracy: 0.4918\n"
          ]
        },
        {
          "output_type": "stream",
          "name": "stderr",
          "text": [
            "Epoch 6: 100%|██████████| 176/176 [00:21<00:00,  8.35batch/s, accuracy=0.542, loss=1.23]\n",
            "Epoch 6: 100%|██████████| 36/36 [00:02<00:00, 13.13batch/s, accuracy=0.578, loss=1.17]\n"
          ]
        },
        {
          "output_type": "stream",
          "name": "stdout",
          "text": [
            "Epoch: 6, learning rate: 0.01, Training Loss: 1.2263, Training Accuracy: 0.5425, Test Loss: 1.1683, Test Accuracy: 0.5777\n"
          ]
        },
        {
          "output_type": "stream",
          "name": "stderr",
          "text": [
            "Epoch 7: 100%|██████████| 176/176 [00:21<00:00,  8.25batch/s, accuracy=0.58, loss=1.13]\n",
            "Epoch 7: 100%|██████████| 36/36 [00:02<00:00, 13.72batch/s, accuracy=0.605, loss=1.09]\n"
          ]
        },
        {
          "output_type": "stream",
          "name": "stdout",
          "text": [
            "Epoch: 7, learning rate: 0.01, Training Loss: 1.1260, Training Accuracy: 0.5800, Test Loss: 1.0893, Test Accuracy: 0.6047\n"
          ]
        },
        {
          "output_type": "stream",
          "name": "stderr",
          "text": [
            "Epoch 8: 100%|██████████| 176/176 [00:20<00:00,  8.40batch/s, accuracy=0.617, loss=1.04]\n",
            "Epoch 8: 100%|██████████| 36/36 [00:03<00:00, 11.87batch/s, accuracy=0.603, loss=1.1]\n"
          ]
        },
        {
          "output_type": "stream",
          "name": "stdout",
          "text": [
            "Epoch: 8, learning rate: 0.01, Training Loss: 1.0439, Training Accuracy: 0.6168, Test Loss: 1.0990, Test Accuracy: 0.6027\n"
          ]
        },
        {
          "output_type": "stream",
          "name": "stderr",
          "text": [
            "Epoch 9: 100%|██████████| 176/176 [00:20<00:00,  8.78batch/s, accuracy=0.648, loss=0.962]\n",
            "Epoch 9: 100%|██████████| 36/36 [00:03<00:00,  9.79batch/s, accuracy=0.629, loss=1.03]\n"
          ]
        },
        {
          "output_type": "stream",
          "name": "stdout",
          "text": [
            "Epoch: 9, learning rate: 0.01, Training Loss: 0.9621, Training Accuracy: 0.6480, Test Loss: 1.0309, Test Accuracy: 0.6291\n"
          ]
        },
        {
          "output_type": "stream",
          "name": "stderr",
          "text": [
            "Epoch 10: 100%|██████████| 176/176 [00:20<00:00,  8.65batch/s, accuracy=0.669, loss=0.911]\n",
            "Epoch 10: 100%|██████████| 36/36 [00:02<00:00, 12.97batch/s, accuracy=0.664, loss=0.99]\n"
          ]
        },
        {
          "output_type": "stream",
          "name": "stdout",
          "text": [
            "Epoch: 10, learning rate: 0.01, Training Loss: 0.9113, Training Accuracy: 0.6691, Test Loss: 0.9901, Test Accuracy: 0.6639\n"
          ]
        },
        {
          "output_type": "stream",
          "name": "stderr",
          "text": [
            "Epoch 11: 100%|██████████| 176/176 [00:21<00:00,  8.23batch/s, accuracy=0.686, loss=0.869]\n",
            "Epoch 11: 100%|██████████| 36/36 [00:02<00:00, 13.36batch/s, accuracy=0.648, loss=0.984]\n"
          ]
        },
        {
          "output_type": "stream",
          "name": "stdout",
          "text": [
            "Epoch: 11, learning rate: 0.01, Training Loss: 0.8695, Training Accuracy: 0.6863, Test Loss: 0.9837, Test Accuracy: 0.6484\n"
          ]
        },
        {
          "output_type": "stream",
          "name": "stderr",
          "text": [
            "Epoch 12: 100%|██████████| 176/176 [00:20<00:00,  8.39batch/s, accuracy=0.701, loss=0.827]\n",
            "Epoch 12: 100%|██████████| 36/36 [00:02<00:00, 13.58batch/s, accuracy=0.696, loss=0.854]\n"
          ]
        },
        {
          "output_type": "stream",
          "name": "stdout",
          "text": [
            "Epoch: 12, learning rate: 0.01, Training Loss: 0.8268, Training Accuracy: 0.7009, Test Loss: 0.8542, Test Accuracy: 0.6958\n"
          ]
        },
        {
          "output_type": "stream",
          "name": "stderr",
          "text": [
            "Epoch 13: 100%|██████████| 176/176 [00:21<00:00,  8.28batch/s, accuracy=0.711, loss=0.804]\n",
            "Epoch 13: 100%|██████████| 36/36 [00:02<00:00, 13.33batch/s, accuracy=0.683, loss=0.893]\n"
          ]
        },
        {
          "output_type": "stream",
          "name": "stdout",
          "text": [
            "Epoch: 13, learning rate: 0.01, Training Loss: 0.8040, Training Accuracy: 0.7112, Test Loss: 0.8927, Test Accuracy: 0.6832\n"
          ]
        },
        {
          "output_type": "stream",
          "name": "stderr",
          "text": [
            "Epoch 14: 100%|██████████| 176/176 [00:20<00:00,  8.41batch/s, accuracy=0.728, loss=0.763]\n",
            "Epoch 14: 100%|██████████| 36/36 [00:02<00:00, 12.31batch/s, accuracy=0.724, loss=0.788]\n"
          ]
        },
        {
          "output_type": "stream",
          "name": "stdout",
          "text": [
            "Epoch: 14, learning rate: 0.01, Training Loss: 0.7626, Training Accuracy: 0.7278, Test Loss: 0.7877, Test Accuracy: 0.7240\n"
          ]
        },
        {
          "output_type": "stream",
          "name": "stderr",
          "text": [
            "Epoch 15: 100%|██████████| 176/176 [00:20<00:00,  8.58batch/s, accuracy=0.734, loss=0.741]\n",
            "Epoch 15: 100%|██████████| 36/36 [00:03<00:00,  9.99batch/s, accuracy=0.672, loss=0.957]\n"
          ]
        },
        {
          "output_type": "stream",
          "name": "stdout",
          "text": [
            "Epoch: 15, learning rate: 0.01, Training Loss: 0.7412, Training Accuracy: 0.7341, Test Loss: 0.9571, Test Accuracy: 0.6721\n"
          ]
        },
        {
          "output_type": "stream",
          "name": "stderr",
          "text": [
            "Epoch 16: 100%|██████████| 176/176 [00:20<00:00,  8.70batch/s, accuracy=0.744, loss=0.714]\n",
            "Epoch 16: 100%|██████████| 36/36 [00:03<00:00, 11.30batch/s, accuracy=0.727, loss=0.779]\n"
          ]
        },
        {
          "output_type": "stream",
          "name": "stdout",
          "text": [
            "Epoch: 16, learning rate: 0.01, Training Loss: 0.7141, Training Accuracy: 0.7439, Test Loss: 0.7790, Test Accuracy: 0.7273\n"
          ]
        },
        {
          "output_type": "stream",
          "name": "stderr",
          "text": [
            "Epoch 17: 100%|██████████| 176/176 [00:20<00:00,  8.44batch/s, accuracy=0.751, loss=0.698]\n",
            "Epoch 17: 100%|██████████| 36/36 [00:02<00:00, 13.24batch/s, accuracy=0.726, loss=0.76]\n"
          ]
        },
        {
          "output_type": "stream",
          "name": "stdout",
          "text": [
            "Epoch: 17, learning rate: 0.01, Training Loss: 0.6980, Training Accuracy: 0.7513, Test Loss: 0.7596, Test Accuracy: 0.7258\n"
          ]
        },
        {
          "output_type": "stream",
          "name": "stderr",
          "text": [
            "Epoch 18: 100%|██████████| 176/176 [00:21<00:00,  8.17batch/s, accuracy=0.759, loss=0.673]\n",
            "Epoch 18: 100%|██████████| 36/36 [00:02<00:00, 13.11batch/s, accuracy=0.742, loss=0.745]\n"
          ]
        },
        {
          "output_type": "stream",
          "name": "stdout",
          "text": [
            "Epoch: 18, learning rate: 0.01, Training Loss: 0.6727, Training Accuracy: 0.7595, Test Loss: 0.7451, Test Accuracy: 0.7416\n"
          ]
        },
        {
          "output_type": "stream",
          "name": "stderr",
          "text": [
            "Epoch 19: 100%|██████████| 176/176 [00:21<00:00,  8.27batch/s, accuracy=0.767, loss=0.649]\n",
            "Epoch 19: 100%|██████████| 36/36 [00:02<00:00, 13.80batch/s, accuracy=0.756, loss=0.716]\n"
          ]
        },
        {
          "output_type": "stream",
          "name": "stdout",
          "text": [
            "Epoch: 19, learning rate: 0.01, Training Loss: 0.6487, Training Accuracy: 0.7669, Test Loss: 0.7155, Test Accuracy: 0.7562\n"
          ]
        },
        {
          "output_type": "stream",
          "name": "stderr",
          "text": [
            "Epoch 20: 100%|██████████| 176/176 [00:21<00:00,  8.29batch/s, accuracy=0.774, loss=0.632]\n",
            "Epoch 20: 100%|██████████| 36/36 [00:02<00:00, 13.37batch/s, accuracy=0.743, loss=0.724]\n"
          ]
        },
        {
          "output_type": "stream",
          "name": "stdout",
          "text": [
            "Epoch: 20, learning rate: 0.001, Training Loss: 0.6325, Training Accuracy: 0.7737, Test Loss: 0.7245, Test Accuracy: 0.7434\n"
          ]
        },
        {
          "output_type": "stream",
          "name": "stderr",
          "text": [
            "Epoch 21: 100%|██████████| 176/176 [00:21<00:00,  8.19batch/s, accuracy=0.805, loss=0.548]\n",
            "Epoch 21: 100%|██████████| 36/36 [00:02<00:00, 12.90batch/s, accuracy=0.794, loss=0.591]\n"
          ]
        },
        {
          "output_type": "stream",
          "name": "stdout",
          "text": [
            "Epoch: 21, learning rate: 0.001, Training Loss: 0.5479, Training Accuracy: 0.8052, Test Loss: 0.5908, Test Accuracy: 0.7939\n"
          ]
        },
        {
          "output_type": "stream",
          "name": "stderr",
          "text": [
            "Epoch 22: 100%|██████████| 176/176 [00:20<00:00,  8.41batch/s, accuracy=0.814, loss=0.521]\n",
            "Epoch 22: 100%|██████████| 36/36 [00:03<00:00, 10.13batch/s, accuracy=0.8, loss=0.581]\n"
          ]
        },
        {
          "output_type": "stream",
          "name": "stdout",
          "text": [
            "Epoch: 22, learning rate: 0.001, Training Loss: 0.5211, Training Accuracy: 0.8142, Test Loss: 0.5815, Test Accuracy: 0.7999\n"
          ]
        },
        {
          "output_type": "stream",
          "name": "stderr",
          "text": [
            "Epoch 23: 100%|██████████| 176/176 [00:20<00:00,  8.59batch/s, accuracy=0.82, loss=0.503]\n",
            "Epoch 23: 100%|██████████| 36/36 [00:03<00:00,  9.50batch/s, accuracy=0.803, loss=0.575]\n"
          ]
        },
        {
          "output_type": "stream",
          "name": "stdout",
          "text": [
            "Epoch: 23, learning rate: 0.001, Training Loss: 0.5034, Training Accuracy: 0.8196, Test Loss: 0.5753, Test Accuracy: 0.8029\n"
          ]
        },
        {
          "output_type": "stream",
          "name": "stderr",
          "text": [
            "Epoch 24: 100%|██████████| 176/176 [00:20<00:00,  8.60batch/s, accuracy=0.822, loss=0.496]\n",
            "Epoch 24: 100%|██████████| 36/36 [00:02<00:00, 12.42batch/s, accuracy=0.802, loss=0.583]\n"
          ]
        },
        {
          "output_type": "stream",
          "name": "stdout",
          "text": [
            "Epoch: 24, learning rate: 0.001, Training Loss: 0.4957, Training Accuracy: 0.8221, Test Loss: 0.5830, Test Accuracy: 0.8018\n"
          ]
        },
        {
          "output_type": "stream",
          "name": "stderr",
          "text": [
            "Epoch 25: 100%|██████████| 176/176 [00:21<00:00,  8.25batch/s, accuracy=0.828, loss=0.485]\n",
            "Epoch 25: 100%|██████████| 36/36 [00:02<00:00, 13.17batch/s, accuracy=0.802, loss=0.576]\n"
          ]
        },
        {
          "output_type": "stream",
          "name": "stdout",
          "text": [
            "Epoch: 25, learning rate: 0.001, Training Loss: 0.4847, Training Accuracy: 0.8280, Test Loss: 0.5761, Test Accuracy: 0.8022\n"
          ]
        },
        {
          "output_type": "stream",
          "name": "stderr",
          "text": [
            "Epoch 26: 100%|██████████| 176/176 [00:21<00:00,  8.16batch/s, accuracy=0.83, loss=0.478]\n",
            "Epoch 26: 100%|██████████| 36/36 [00:02<00:00, 13.10batch/s, accuracy=0.806, loss=0.574]\n"
          ]
        },
        {
          "output_type": "stream",
          "name": "stdout",
          "text": [
            "Epoch: 26, learning rate: 0.001, Training Loss: 0.4780, Training Accuracy: 0.8304, Test Loss: 0.5741, Test Accuracy: 0.8062\n"
          ]
        },
        {
          "output_type": "stream",
          "name": "stderr",
          "text": [
            "Epoch 27: 100%|██████████| 176/176 [00:21<00:00,  8.15batch/s, accuracy=0.834, loss=0.465]\n",
            "Epoch 27: 100%|██████████| 36/36 [00:02<00:00, 12.92batch/s, accuracy=0.807, loss=0.572]\n"
          ]
        },
        {
          "output_type": "stream",
          "name": "stdout",
          "text": [
            "Epoch: 27, learning rate: 0.001, Training Loss: 0.4651, Training Accuracy: 0.8336, Test Loss: 0.5724, Test Accuracy: 0.8070\n"
          ]
        },
        {
          "output_type": "stream",
          "name": "stderr",
          "text": [
            "Epoch 28: 100%|██████████| 176/176 [00:22<00:00,  8.00batch/s, accuracy=0.835, loss=0.46]\n",
            "Epoch 28: 100%|██████████| 36/36 [00:02<00:00, 13.49batch/s, accuracy=0.804, loss=0.576]\n"
          ]
        },
        {
          "output_type": "stream",
          "name": "stdout",
          "text": [
            "Epoch: 28, learning rate: 0.001, Training Loss: 0.4602, Training Accuracy: 0.8350, Test Loss: 0.5759, Test Accuracy: 0.8037\n"
          ]
        },
        {
          "output_type": "stream",
          "name": "stderr",
          "text": [
            "Epoch 29: 100%|██████████| 176/176 [00:21<00:00,  8.21batch/s, accuracy=0.836, loss=0.459]\n",
            "Epoch 29: 100%|██████████| 36/36 [00:02<00:00, 13.30batch/s, accuracy=0.805, loss=0.571]\n"
          ]
        },
        {
          "output_type": "stream",
          "name": "stdout",
          "text": [
            "Epoch: 29, learning rate: 0.001, Training Loss: 0.4587, Training Accuracy: 0.8360, Test Loss: 0.5715, Test Accuracy: 0.8054\n"
          ]
        },
        {
          "output_type": "stream",
          "name": "stderr",
          "text": [
            "Epoch 30: 100%|██████████| 176/176 [00:20<00:00,  8.54batch/s, accuracy=0.841, loss=0.448]\n",
            "Epoch 30: 100%|██████████| 36/36 [00:03<00:00, 11.10batch/s, accuracy=0.807, loss=0.568]\n"
          ]
        },
        {
          "output_type": "stream",
          "name": "stdout",
          "text": [
            "Epoch: 30, learning rate: 0.001, Training Loss: 0.4481, Training Accuracy: 0.8407, Test Loss: 0.5678, Test Accuracy: 0.8072\n"
          ]
        },
        {
          "output_type": "stream",
          "name": "stderr",
          "text": [
            "Epoch 31: 100%|██████████| 176/176 [00:20<00:00,  8.48batch/s, accuracy=0.841, loss=0.446]\n",
            "Epoch 31: 100%|██████████| 36/36 [00:03<00:00,  9.23batch/s, accuracy=0.809, loss=0.567]\n"
          ]
        },
        {
          "output_type": "stream",
          "name": "stdout",
          "text": [
            "Epoch: 31, learning rate: 0.001, Training Loss: 0.4464, Training Accuracy: 0.8414, Test Loss: 0.5667, Test Accuracy: 0.8091\n"
          ]
        },
        {
          "output_type": "stream",
          "name": "stderr",
          "text": [
            "Epoch 32: 100%|██████████| 176/176 [00:21<00:00,  8.38batch/s, accuracy=0.845, loss=0.436]\n",
            "Epoch 32: 100%|██████████| 36/36 [00:03<00:00, 10.24batch/s, accuracy=0.81, loss=0.562]\n"
          ]
        },
        {
          "output_type": "stream",
          "name": "stdout",
          "text": [
            "Epoch: 32, learning rate: 0.001, Training Loss: 0.4362, Training Accuracy: 0.8446, Test Loss: 0.5625, Test Accuracy: 0.8100\n"
          ]
        },
        {
          "output_type": "stream",
          "name": "stderr",
          "text": [
            "Epoch 33: 100%|██████████| 176/176 [00:20<00:00,  8.39batch/s, accuracy=0.845, loss=0.435]\n",
            "Epoch 33: 100%|██████████| 36/36 [00:02<00:00, 13.54batch/s, accuracy=0.81, loss=0.566]\n"
          ]
        },
        {
          "output_type": "stream",
          "name": "stdout",
          "text": [
            "Epoch: 33, learning rate: 0.001, Training Loss: 0.4346, Training Accuracy: 0.8450, Test Loss: 0.5660, Test Accuracy: 0.8097\n"
          ]
        },
        {
          "output_type": "stream",
          "name": "stderr",
          "text": [
            "Epoch 34: 100%|██████████| 176/176 [00:21<00:00,  8.10batch/s, accuracy=0.849, loss=0.425]\n",
            "Epoch 34: 100%|██████████| 36/36 [00:02<00:00, 13.28batch/s, accuracy=0.806, loss=0.564]\n"
          ]
        },
        {
          "output_type": "stream",
          "name": "stdout",
          "text": [
            "Epoch: 34, learning rate: 0.001, Training Loss: 0.4252, Training Accuracy: 0.8488, Test Loss: 0.5642, Test Accuracy: 0.8063\n"
          ]
        },
        {
          "output_type": "stream",
          "name": "stderr",
          "text": [
            "Epoch 35: 100%|██████████| 176/176 [00:21<00:00,  8.17batch/s, accuracy=0.849, loss=0.421]\n",
            "Epoch 35: 100%|██████████| 36/36 [00:02<00:00, 13.20batch/s, accuracy=0.808, loss=0.571]\n"
          ]
        },
        {
          "output_type": "stream",
          "name": "stdout",
          "text": [
            "Epoch: 35, learning rate: 0.001, Training Loss: 0.4212, Training Accuracy: 0.8490, Test Loss: 0.5712, Test Accuracy: 0.8083\n"
          ]
        },
        {
          "output_type": "stream",
          "name": "stderr",
          "text": [
            "Epoch 36: 100%|██████████| 176/176 [00:21<00:00,  8.16batch/s, accuracy=0.852, loss=0.415]\n",
            "Epoch 36: 100%|██████████| 36/36 [00:02<00:00, 13.07batch/s, accuracy=0.809, loss=0.569]\n"
          ]
        },
        {
          "output_type": "stream",
          "name": "stdout",
          "text": [
            "Epoch: 36, learning rate: 0.001, Training Loss: 0.4149, Training Accuracy: 0.8518, Test Loss: 0.5687, Test Accuracy: 0.8088\n"
          ]
        },
        {
          "output_type": "stream",
          "name": "stderr",
          "text": [
            "Epoch 37: 100%|██████████| 176/176 [00:21<00:00,  8.15batch/s, accuracy=0.853, loss=0.409]\n",
            "Epoch 37: 100%|██████████| 36/36 [00:02<00:00, 13.29batch/s, accuracy=0.808, loss=0.569]\n"
          ]
        },
        {
          "output_type": "stream",
          "name": "stdout",
          "text": [
            "Epoch: 37, learning rate: 0.001, Training Loss: 0.4094, Training Accuracy: 0.8530, Test Loss: 0.5692, Test Accuracy: 0.8080\n"
          ]
        },
        {
          "output_type": "stream",
          "name": "stderr",
          "text": [
            "Epoch 38: 100%|██████████| 176/176 [00:20<00:00,  8.39batch/s, accuracy=0.856, loss=0.401]\n",
            "Epoch 38: 100%|██████████| 36/36 [00:03<00:00, 10.87batch/s, accuracy=0.813, loss=0.567]\n"
          ]
        },
        {
          "output_type": "stream",
          "name": "stdout",
          "text": [
            "Epoch: 38, learning rate: 0.001, Training Loss: 0.4005, Training Accuracy: 0.8559, Test Loss: 0.5674, Test Accuracy: 0.8133\n"
          ]
        },
        {
          "output_type": "stream",
          "name": "stderr",
          "text": [
            "Epoch 39: 100%|██████████| 176/176 [00:20<00:00,  8.63batch/s, accuracy=0.858, loss=0.396]\n",
            "Epoch 39: 100%|██████████| 36/36 [00:03<00:00,  9.68batch/s, accuracy=0.808, loss=0.571]\n"
          ]
        },
        {
          "output_type": "stream",
          "name": "stdout",
          "text": [
            "Epoch: 39, learning rate: 0.001, Training Loss: 0.3962, Training Accuracy: 0.8585, Test Loss: 0.5708, Test Accuracy: 0.8079\n"
          ]
        },
        {
          "output_type": "stream",
          "name": "stderr",
          "text": [
            "Epoch 40: 100%|██████████| 176/176 [00:20<00:00,  8.47batch/s, accuracy=0.859, loss=0.396]\n",
            "Epoch 40: 100%|██████████| 36/36 [00:03<00:00, 11.72batch/s, accuracy=0.811, loss=0.568]\n"
          ]
        },
        {
          "output_type": "stream",
          "name": "stdout",
          "text": [
            "Epoch: 40, learning rate: 0.0001, Training Loss: 0.3963, Training Accuracy: 0.8587, Test Loss: 0.5684, Test Accuracy: 0.8111\n"
          ]
        },
        {
          "output_type": "stream",
          "name": "stderr",
          "text": [
            "Epoch 41: 100%|██████████| 176/176 [00:21<00:00,  8.28batch/s, accuracy=0.862, loss=0.381]\n",
            "Epoch 41: 100%|██████████| 36/36 [00:02<00:00, 13.20batch/s, accuracy=0.814, loss=0.565]\n"
          ]
        },
        {
          "output_type": "stream",
          "name": "stdout",
          "text": [
            "Epoch: 41, learning rate: 0.0001, Training Loss: 0.3812, Training Accuracy: 0.8623, Test Loss: 0.5648, Test Accuracy: 0.8141\n"
          ]
        },
        {
          "output_type": "stream",
          "name": "stderr",
          "text": [
            "Epoch 42: 100%|██████████| 176/176 [00:21<00:00,  8.26batch/s, accuracy=0.869, loss=0.368]\n",
            "Epoch 42: 100%|██████████| 36/36 [00:02<00:00, 13.45batch/s, accuracy=0.816, loss=0.563]\n"
          ]
        },
        {
          "output_type": "stream",
          "name": "stdout",
          "text": [
            "Epoch: 42, learning rate: 0.0001, Training Loss: 0.3685, Training Accuracy: 0.8686, Test Loss: 0.5635, Test Accuracy: 0.8157\n"
          ]
        },
        {
          "output_type": "stream",
          "name": "stderr",
          "text": [
            "Epoch 43: 100%|██████████| 176/176 [00:21<00:00,  8.27batch/s, accuracy=0.872, loss=0.365]\n",
            "Epoch 43: 100%|██████████| 36/36 [00:02<00:00, 13.33batch/s, accuracy=0.816, loss=0.563]\n"
          ]
        },
        {
          "output_type": "stream",
          "name": "stdout",
          "text": [
            "Epoch: 43, learning rate: 0.0001, Training Loss: 0.3655, Training Accuracy: 0.8718, Test Loss: 0.5628, Test Accuracy: 0.8157\n"
          ]
        },
        {
          "output_type": "stream",
          "name": "stderr",
          "text": [
            "Epoch 44: 100%|██████████| 176/176 [00:21<00:00,  8.17batch/s, accuracy=0.867, loss=0.37]\n",
            "Epoch 44: 100%|██████████| 36/36 [00:02<00:00, 13.28batch/s, accuracy=0.815, loss=0.564]\n"
          ]
        },
        {
          "output_type": "stream",
          "name": "stdout",
          "text": [
            "Epoch: 44, learning rate: 0.0001, Training Loss: 0.3696, Training Accuracy: 0.8672, Test Loss: 0.5638, Test Accuracy: 0.8151\n"
          ]
        },
        {
          "output_type": "stream",
          "name": "stderr",
          "text": [
            "Epoch 45: 100%|██████████| 176/176 [00:20<00:00,  8.52batch/s, accuracy=0.87, loss=0.365]\n",
            "Epoch 45: 100%|██████████| 36/36 [00:03<00:00, 10.74batch/s, accuracy=0.814, loss=0.565]\n"
          ]
        },
        {
          "output_type": "stream",
          "name": "stdout",
          "text": [
            "Epoch: 45, learning rate: 0.0001, Training Loss: 0.3652, Training Accuracy: 0.8699, Test Loss: 0.5647, Test Accuracy: 0.8137\n"
          ]
        },
        {
          "output_type": "stream",
          "name": "stderr",
          "text": [
            "Epoch 46: 100%|██████████| 176/176 [00:20<00:00,  8.55batch/s, accuracy=0.871, loss=0.364]\n",
            "Epoch 46: 100%|██████████| 36/36 [00:03<00:00,  9.62batch/s, accuracy=0.814, loss=0.566]\n"
          ]
        },
        {
          "output_type": "stream",
          "name": "stdout",
          "text": [
            "Epoch: 46, learning rate: 0.0001, Training Loss: 0.3642, Training Accuracy: 0.8710, Test Loss: 0.5659, Test Accuracy: 0.8139\n"
          ]
        },
        {
          "output_type": "stream",
          "name": "stderr",
          "text": [
            "Epoch 47: 100%|██████████| 176/176 [00:20<00:00,  8.41batch/s, accuracy=0.869, loss=0.368]\n",
            "Epoch 47: 100%|██████████| 36/36 [00:03<00:00, 11.66batch/s, accuracy=0.816, loss=0.564]\n"
          ]
        },
        {
          "output_type": "stream",
          "name": "stdout",
          "text": [
            "Epoch: 47, learning rate: 0.0001, Training Loss: 0.3675, Training Accuracy: 0.8693, Test Loss: 0.5642, Test Accuracy: 0.8158\n"
          ]
        },
        {
          "output_type": "stream",
          "name": "stderr",
          "text": [
            "Epoch 48: 100%|██████████| 176/176 [00:20<00:00,  8.39batch/s, accuracy=0.869, loss=0.362]\n",
            "Epoch 48: 100%|██████████| 36/36 [00:02<00:00, 13.08batch/s, accuracy=0.814, loss=0.565]\n"
          ]
        },
        {
          "output_type": "stream",
          "name": "stdout",
          "text": [
            "Epoch: 48, learning rate: 0.0001, Training Loss: 0.3619, Training Accuracy: 0.8691, Test Loss: 0.5648, Test Accuracy: 0.8144\n"
          ]
        },
        {
          "output_type": "stream",
          "name": "stderr",
          "text": [
            "Epoch 49: 100%|██████████| 176/176 [00:21<00:00,  8.14batch/s, accuracy=0.873, loss=0.361]\n",
            "Epoch 49: 100%|██████████| 36/36 [00:02<00:00, 12.94batch/s, accuracy=0.816, loss=0.567]\n"
          ]
        },
        {
          "output_type": "stream",
          "name": "stdout",
          "text": [
            "Epoch: 49, learning rate: 0.0001, Training Loss: 0.3611, Training Accuracy: 0.8725, Test Loss: 0.5665, Test Accuracy: 0.8156\n"
          ]
        },
        {
          "output_type": "stream",
          "name": "stderr",
          "text": [
            "Epoch 50: 100%|██████████| 176/176 [00:21<00:00,  8.26batch/s, accuracy=0.872, loss=0.358]\n",
            "Epoch 50: 100%|██████████| 36/36 [00:02<00:00, 13.02batch/s, accuracy=0.815, loss=0.567]\n"
          ]
        },
        {
          "output_type": "stream",
          "name": "stdout",
          "text": [
            "Epoch: 50, learning rate: 0.0001, Training Loss: 0.3576, Training Accuracy: 0.8716, Test Loss: 0.5666, Test Accuracy: 0.8149\n"
          ]
        },
        {
          "output_type": "stream",
          "name": "stderr",
          "text": [
            "Epoch 51: 100%|██████████| 176/176 [00:21<00:00,  8.14batch/s, accuracy=0.872, loss=0.359]\n",
            "Epoch 51: 100%|██████████| 36/36 [00:02<00:00, 13.19batch/s, accuracy=0.813, loss=0.568]\n"
          ]
        },
        {
          "output_type": "stream",
          "name": "stdout",
          "text": [
            "Epoch: 51, learning rate: 0.0001, Training Loss: 0.3590, Training Accuracy: 0.8716, Test Loss: 0.5681, Test Accuracy: 0.8130\n"
          ]
        },
        {
          "output_type": "stream",
          "name": "stderr",
          "text": [
            "Epoch 52: 100%|██████████| 176/176 [00:21<00:00,  8.21batch/s, accuracy=0.872, loss=0.356]\n",
            "Epoch 52: 100%|██████████| 36/36 [00:02<00:00, 12.57batch/s, accuracy=0.814, loss=0.567]\n"
          ]
        },
        {
          "output_type": "stream",
          "name": "stdout",
          "text": [
            "Epoch: 52, learning rate: 0.0001, Training Loss: 0.3561, Training Accuracy: 0.8722, Test Loss: 0.5669, Test Accuracy: 0.8142\n"
          ]
        },
        {
          "output_type": "stream",
          "name": "stderr",
          "text": [
            "Epoch 53: 100%|██████████| 176/176 [00:20<00:00,  8.61batch/s, accuracy=0.87, loss=0.359]\n",
            "Epoch 53: 100%|██████████| 36/36 [00:03<00:00,  9.84batch/s, accuracy=0.816, loss=0.566]\n"
          ]
        },
        {
          "output_type": "stream",
          "name": "stdout",
          "text": [
            "Epoch: 53, learning rate: 0.0001, Training Loss: 0.3585, Training Accuracy: 0.8704, Test Loss: 0.5657, Test Accuracy: 0.8161\n"
          ]
        },
        {
          "output_type": "stream",
          "name": "stderr",
          "text": [
            "Epoch 54: 100%|██████████| 176/176 [00:20<00:00,  8.57batch/s, accuracy=0.873, loss=0.359]\n",
            "Epoch 54: 100%|██████████| 36/36 [00:03<00:00,  9.94batch/s, accuracy=0.816, loss=0.567]\n"
          ]
        },
        {
          "output_type": "stream",
          "name": "stdout",
          "text": [
            "Epoch: 54, learning rate: 0.0001, Training Loss: 0.3587, Training Accuracy: 0.8731, Test Loss: 0.5673, Test Accuracy: 0.8161\n"
          ]
        },
        {
          "output_type": "stream",
          "name": "stderr",
          "text": [
            "Epoch 55: 100%|██████████| 176/176 [00:20<00:00,  8.40batch/s, accuracy=0.873, loss=0.354]\n",
            "Epoch 55: 100%|██████████| 36/36 [00:02<00:00, 13.20batch/s, accuracy=0.814, loss=0.568]\n"
          ]
        },
        {
          "output_type": "stream",
          "name": "stdout",
          "text": [
            "Epoch: 55, learning rate: 0.0001, Training Loss: 0.3540, Training Accuracy: 0.8728, Test Loss: 0.5682, Test Accuracy: 0.8136\n"
          ]
        },
        {
          "output_type": "stream",
          "name": "stderr",
          "text": [
            "Epoch 56: 100%|██████████| 176/176 [00:21<00:00,  8.21batch/s, accuracy=0.873, loss=0.352]\n",
            "Epoch 56: 100%|██████████| 36/36 [00:02<00:00, 13.08batch/s, accuracy=0.815, loss=0.57]\n"
          ]
        },
        {
          "output_type": "stream",
          "name": "stdout",
          "text": [
            "Epoch: 56, learning rate: 0.0001, Training Loss: 0.3521, Training Accuracy: 0.8731, Test Loss: 0.5698, Test Accuracy: 0.8149\n"
          ]
        },
        {
          "output_type": "stream",
          "name": "stderr",
          "text": [
            "Epoch 57: 100%|██████████| 176/176 [00:21<00:00,  8.11batch/s, accuracy=0.873, loss=0.356]\n",
            "Epoch 57: 100%|██████████| 36/36 [00:02<00:00, 13.16batch/s, accuracy=0.816, loss=0.569]\n"
          ]
        },
        {
          "output_type": "stream",
          "name": "stdout",
          "text": [
            "Epoch: 57, learning rate: 0.0001, Training Loss: 0.3556, Training Accuracy: 0.8728, Test Loss: 0.5687, Test Accuracy: 0.8159\n"
          ]
        },
        {
          "output_type": "stream",
          "name": "stderr",
          "text": [
            "Epoch 58: 100%|██████████| 176/176 [00:21<00:00,  8.13batch/s, accuracy=0.875, loss=0.35]\n",
            "Epoch 58: 100%|██████████| 36/36 [00:02<00:00, 13.46batch/s, accuracy=0.815, loss=0.567]\n"
          ]
        },
        {
          "output_type": "stream",
          "name": "stdout",
          "text": [
            "Epoch: 58, learning rate: 0.0001, Training Loss: 0.3502, Training Accuracy: 0.8752, Test Loss: 0.5668, Test Accuracy: 0.8152\n"
          ]
        },
        {
          "output_type": "stream",
          "name": "stderr",
          "text": [
            "Epoch 59: 100%|██████████| 176/176 [00:21<00:00,  8.17batch/s, accuracy=0.872, loss=0.355]\n",
            "Epoch 59: 100%|██████████| 36/36 [00:02<00:00, 13.08batch/s, accuracy=0.815, loss=0.569]\n"
          ]
        },
        {
          "output_type": "stream",
          "name": "stdout",
          "text": [
            "Epoch: 59, learning rate: 0.0001, Training Loss: 0.3548, Training Accuracy: 0.8718, Test Loss: 0.5691, Test Accuracy: 0.8152\n"
          ]
        },
        {
          "output_type": "stream",
          "name": "stderr",
          "text": [
            "Epoch 60: 100%|██████████| 176/176 [00:20<00:00,  8.40batch/s, accuracy=0.874, loss=0.349]\n",
            "Epoch 60: 100%|██████████| 36/36 [00:03<00:00, 10.40batch/s, accuracy=0.816, loss=0.571]\n"
          ]
        },
        {
          "output_type": "stream",
          "name": "stdout",
          "text": [
            "Epoch: 60, learning rate: 1e-05, Training Loss: 0.3488, Training Accuracy: 0.8739, Test Loss: 0.5710, Test Accuracy: 0.8156\n"
          ]
        },
        {
          "output_type": "stream",
          "name": "stderr",
          "text": [
            "Epoch 61: 100%|██████████| 176/176 [00:20<00:00,  8.53batch/s, accuracy=0.874, loss=0.349]\n",
            "Epoch 61: 100%|██████████| 36/36 [00:03<00:00,  9.34batch/s, accuracy=0.815, loss=0.57]\n"
          ]
        },
        {
          "output_type": "stream",
          "name": "stdout",
          "text": [
            "Epoch: 61, learning rate: 1e-05, Training Loss: 0.3485, Training Accuracy: 0.8742, Test Loss: 0.5702, Test Accuracy: 0.8153\n"
          ]
        },
        {
          "output_type": "stream",
          "name": "stderr",
          "text": [
            "Epoch 62: 100%|██████████| 176/176 [00:20<00:00,  8.52batch/s, accuracy=0.877, loss=0.346]\n",
            "Epoch 62: 100%|██████████| 36/36 [00:03<00:00, 11.46batch/s, accuracy=0.816, loss=0.567]\n"
          ]
        },
        {
          "output_type": "stream",
          "name": "stdout",
          "text": [
            "Epoch: 62, learning rate: 1e-05, Training Loss: 0.3456, Training Accuracy: 0.8772, Test Loss: 0.5675, Test Accuracy: 0.8161\n"
          ]
        },
        {
          "output_type": "stream",
          "name": "stderr",
          "text": [
            "Epoch 63: 100%|██████████| 176/176 [00:21<00:00,  8.26batch/s, accuracy=0.876, loss=0.345]\n",
            "Epoch 63: 100%|██████████| 36/36 [00:02<00:00, 13.13batch/s, accuracy=0.816, loss=0.571]\n"
          ]
        },
        {
          "output_type": "stream",
          "name": "stdout",
          "text": [
            "Epoch: 63, learning rate: 1e-05, Training Loss: 0.3451, Training Accuracy: 0.8761, Test Loss: 0.5707, Test Accuracy: 0.8156\n"
          ]
        },
        {
          "output_type": "stream",
          "name": "stderr",
          "text": [
            "Epoch 64: 100%|██████████| 176/176 [00:21<00:00,  8.16batch/s, accuracy=0.877, loss=0.344]\n",
            "Epoch 64: 100%|██████████| 36/36 [00:02<00:00, 13.21batch/s, accuracy=0.817, loss=0.568]\n"
          ]
        },
        {
          "output_type": "stream",
          "name": "stdout",
          "text": [
            "Epoch: 64, learning rate: 1e-05, Training Loss: 0.3442, Training Accuracy: 0.8768, Test Loss: 0.5682, Test Accuracy: 0.8168\n"
          ]
        },
        {
          "output_type": "stream",
          "name": "stderr",
          "text": [
            "Epoch 65: 100%|██████████| 176/176 [00:21<00:00,  8.12batch/s, accuracy=0.876, loss=0.346]\n",
            "Epoch 65: 100%|██████████| 36/36 [00:02<00:00, 13.07batch/s, accuracy=0.815, loss=0.57]\n"
          ]
        },
        {
          "output_type": "stream",
          "name": "stdout",
          "text": [
            "Epoch: 65, learning rate: 1e-05, Training Loss: 0.3457, Training Accuracy: 0.8756, Test Loss: 0.5698, Test Accuracy: 0.8152\n"
          ]
        },
        {
          "output_type": "stream",
          "name": "stderr",
          "text": [
            "Epoch 66: 100%|██████████| 176/176 [00:21<00:00,  8.19batch/s, accuracy=0.877, loss=0.348]\n",
            "Epoch 66: 100%|██████████| 36/36 [00:02<00:00, 12.74batch/s, accuracy=0.815, loss=0.569]\n"
          ]
        },
        {
          "output_type": "stream",
          "name": "stdout",
          "text": [
            "Epoch: 66, learning rate: 1e-05, Training Loss: 0.3479, Training Accuracy: 0.8770, Test Loss: 0.5689, Test Accuracy: 0.8154\n"
          ]
        },
        {
          "output_type": "stream",
          "name": "stderr",
          "text": [
            "Epoch 67: 100%|██████████| 176/176 [00:21<00:00,  8.12batch/s, accuracy=0.875, loss=0.35]\n",
            "Epoch 67: 100%|██████████| 36/36 [00:02<00:00, 12.92batch/s, accuracy=0.815, loss=0.574]\n"
          ]
        },
        {
          "output_type": "stream",
          "name": "stdout",
          "text": [
            "Epoch: 67, learning rate: 1e-05, Training Loss: 0.3499, Training Accuracy: 0.8746, Test Loss: 0.5736, Test Accuracy: 0.8147\n"
          ]
        },
        {
          "output_type": "stream",
          "name": "stderr",
          "text": [
            "Epoch 68: 100%|██████████| 176/176 [00:20<00:00,  8.54batch/s, accuracy=0.875, loss=0.351]\n",
            "Epoch 68: 100%|██████████| 36/36 [00:03<00:00, 10.14batch/s, accuracy=0.815, loss=0.57]\n"
          ]
        },
        {
          "output_type": "stream",
          "name": "stdout",
          "text": [
            "Epoch: 68, learning rate: 1e-05, Training Loss: 0.3508, Training Accuracy: 0.8748, Test Loss: 0.5700, Test Accuracy: 0.8152\n"
          ]
        },
        {
          "output_type": "stream",
          "name": "stderr",
          "text": [
            "Epoch 69: 100%|██████████| 176/176 [00:20<00:00,  8.56batch/s, accuracy=0.876, loss=0.345]\n",
            "Epoch 69: 100%|██████████| 36/36 [00:03<00:00,  9.78batch/s, accuracy=0.814, loss=0.572]\n"
          ]
        },
        {
          "output_type": "stream",
          "name": "stdout",
          "text": [
            "Epoch: 69, learning rate: 1e-05, Training Loss: 0.3450, Training Accuracy: 0.8759, Test Loss: 0.5725, Test Accuracy: 0.8140\n"
          ]
        },
        {
          "output_type": "stream",
          "name": "stderr",
          "text": [
            "Epoch 70: 100%|██████████| 176/176 [00:20<00:00,  8.52batch/s, accuracy=0.876, loss=0.346]\n",
            "Epoch 70: 100%|██████████| 36/36 [00:02<00:00, 12.81batch/s, accuracy=0.816, loss=0.568]\n"
          ]
        },
        {
          "output_type": "stream",
          "name": "stdout",
          "text": [
            "Epoch: 70, learning rate: 1e-05, Training Loss: 0.3463, Training Accuracy: 0.8761, Test Loss: 0.5683, Test Accuracy: 0.8156\n"
          ]
        },
        {
          "output_type": "stream",
          "name": "stderr",
          "text": [
            "Epoch 71: 100%|██████████| 176/176 [00:21<00:00,  8.23batch/s, accuracy=0.878, loss=0.345]\n",
            "Epoch 71: 100%|██████████| 36/36 [00:02<00:00, 13.40batch/s, accuracy=0.816, loss=0.569]\n"
          ]
        },
        {
          "output_type": "stream",
          "name": "stdout",
          "text": [
            "Epoch: 71, learning rate: 1e-05, Training Loss: 0.3454, Training Accuracy: 0.8775, Test Loss: 0.5692, Test Accuracy: 0.8161\n"
          ]
        },
        {
          "output_type": "stream",
          "name": "stderr",
          "text": [
            "Epoch 72: 100%|██████████| 176/176 [00:21<00:00,  8.26batch/s, accuracy=0.878, loss=0.344]\n",
            "Epoch 72: 100%|██████████| 36/36 [00:02<00:00, 13.22batch/s, accuracy=0.816, loss=0.571]\n"
          ]
        },
        {
          "output_type": "stream",
          "name": "stdout",
          "text": [
            "Epoch: 72, learning rate: 1e-05, Training Loss: 0.3444, Training Accuracy: 0.8785, Test Loss: 0.5711, Test Accuracy: 0.8160\n"
          ]
        },
        {
          "output_type": "stream",
          "name": "stderr",
          "text": [
            "Epoch 73: 100%|██████████| 176/176 [00:21<00:00,  8.19batch/s, accuracy=0.876, loss=0.349]\n",
            "Epoch 73: 100%|██████████| 36/36 [00:02<00:00, 13.03batch/s, accuracy=0.815, loss=0.57]\n"
          ]
        },
        {
          "output_type": "stream",
          "name": "stdout",
          "text": [
            "Epoch: 73, learning rate: 1e-05, Training Loss: 0.3488, Training Accuracy: 0.8763, Test Loss: 0.5697, Test Accuracy: 0.8146\n"
          ]
        },
        {
          "output_type": "stream",
          "name": "stderr",
          "text": [
            "Epoch 74: 100%|██████████| 176/176 [00:21<00:00,  8.03batch/s, accuracy=0.876, loss=0.347]\n",
            "Epoch 74: 100%|██████████| 36/36 [00:02<00:00, 13.41batch/s, accuracy=0.816, loss=0.568]\n"
          ]
        },
        {
          "output_type": "stream",
          "name": "stdout",
          "text": [
            "Epoch: 74, learning rate: 1e-05, Training Loss: 0.3470, Training Accuracy: 0.8755, Test Loss: 0.5683, Test Accuracy: 0.8157\n"
          ]
        },
        {
          "output_type": "stream",
          "name": "stderr",
          "text": [
            "Epoch 75: 100%|██████████| 176/176 [00:20<00:00,  8.46batch/s, accuracy=0.875, loss=0.347]\n",
            "Epoch 75: 100%|██████████| 36/36 [00:03<00:00, 10.58batch/s, accuracy=0.815, loss=0.571]\n"
          ]
        },
        {
          "output_type": "stream",
          "name": "stdout",
          "text": [
            "Epoch: 75, learning rate: 1e-05, Training Loss: 0.3465, Training Accuracy: 0.8754, Test Loss: 0.5712, Test Accuracy: 0.8149\n"
          ]
        },
        {
          "output_type": "stream",
          "name": "stderr",
          "text": [
            "Epoch 76: 100%|██████████| 176/176 [00:20<00:00,  8.59batch/s, accuracy=0.876, loss=0.346]\n",
            "Epoch 76: 100%|██████████| 36/36 [00:03<00:00,  9.57batch/s, accuracy=0.815, loss=0.571]\n"
          ]
        },
        {
          "output_type": "stream",
          "name": "stdout",
          "text": [
            "Epoch: 76, learning rate: 1e-05, Training Loss: 0.3460, Training Accuracy: 0.8761, Test Loss: 0.5712, Test Accuracy: 0.8154\n"
          ]
        },
        {
          "output_type": "stream",
          "name": "stderr",
          "text": [
            "Epoch 77: 100%|██████████| 176/176 [00:20<00:00,  8.50batch/s, accuracy=0.875, loss=0.352]\n",
            "Epoch 77: 100%|██████████| 36/36 [00:03<00:00, 11.47batch/s, accuracy=0.814, loss=0.57]\n"
          ]
        },
        {
          "output_type": "stream",
          "name": "stdout",
          "text": [
            "Epoch: 77, learning rate: 1e-05, Training Loss: 0.3517, Training Accuracy: 0.8752, Test Loss: 0.5703, Test Accuracy: 0.8137\n"
          ]
        },
        {
          "output_type": "stream",
          "name": "stderr",
          "text": [
            "Epoch 78: 100%|██████████| 176/176 [00:21<00:00,  8.31batch/s, accuracy=0.877, loss=0.346]\n",
            "Epoch 78: 100%|██████████| 36/36 [00:02<00:00, 12.85batch/s, accuracy=0.815, loss=0.572]\n"
          ]
        },
        {
          "output_type": "stream",
          "name": "stdout",
          "text": [
            "Epoch: 78, learning rate: 1e-05, Training Loss: 0.3465, Training Accuracy: 0.8773, Test Loss: 0.5717, Test Accuracy: 0.8147\n"
          ]
        },
        {
          "output_type": "stream",
          "name": "stderr",
          "text": [
            "Epoch 79: 100%|██████████| 176/176 [00:21<00:00,  8.14batch/s, accuracy=0.876, loss=0.346]\n",
            "Epoch 79: 100%|██████████| 36/36 [00:02<00:00, 13.21batch/s, accuracy=0.815, loss=0.57]\n"
          ]
        },
        {
          "output_type": "stream",
          "name": "stdout",
          "text": [
            "Epoch: 79, learning rate: 1e-05, Training Loss: 0.3460, Training Accuracy: 0.8763, Test Loss: 0.5703, Test Accuracy: 0.8152\n"
          ]
        },
        {
          "output_type": "stream",
          "name": "stderr",
          "text": [
            "Epoch 80: 100%|██████████| 176/176 [00:21<00:00,  8.13batch/s, accuracy=0.875, loss=0.345]\n",
            "Epoch 80: 100%|██████████| 36/36 [00:02<00:00, 12.97batch/s, accuracy=0.816, loss=0.57]\n"
          ]
        },
        {
          "output_type": "stream",
          "name": "stdout",
          "text": [
            "Epoch: 80, learning rate: 1.0000000000000002e-06, Training Loss: 0.3452, Training Accuracy: 0.8750, Test Loss: 0.5702, Test Accuracy: 0.8156\n"
          ]
        },
        {
          "output_type": "stream",
          "name": "stderr",
          "text": [
            "Epoch 81: 100%|██████████| 176/176 [00:21<00:00,  8.05batch/s, accuracy=0.877, loss=0.348]\n",
            "Epoch 81: 100%|██████████| 36/36 [00:02<00:00, 13.11batch/s, accuracy=0.815, loss=0.572]\n"
          ]
        },
        {
          "output_type": "stream",
          "name": "stdout",
          "text": [
            "Epoch: 81, learning rate: 1.0000000000000002e-06, Training Loss: 0.3479, Training Accuracy: 0.8771, Test Loss: 0.5723, Test Accuracy: 0.8152\n"
          ]
        },
        {
          "output_type": "stream",
          "name": "stderr",
          "text": [
            "Epoch 82: 100%|██████████| 176/176 [00:22<00:00,  7.98batch/s, accuracy=0.875, loss=0.347]\n",
            "Epoch 82: 100%|██████████| 36/36 [00:02<00:00, 13.20batch/s, accuracy=0.815, loss=0.568]\n"
          ]
        },
        {
          "output_type": "stream",
          "name": "stdout",
          "text": [
            "Epoch: 82, learning rate: 1.0000000000000002e-06, Training Loss: 0.3474, Training Accuracy: 0.8746, Test Loss: 0.5682, Test Accuracy: 0.8147\n"
          ]
        },
        {
          "output_type": "stream",
          "name": "stderr",
          "text": [
            "Epoch 83: 100%|██████████| 176/176 [00:21<00:00,  8.13batch/s, accuracy=0.875, loss=0.347]\n",
            "Epoch 83: 100%|██████████| 36/36 [00:02<00:00, 12.10batch/s, accuracy=0.816, loss=0.569]\n"
          ]
        },
        {
          "output_type": "stream",
          "name": "stdout",
          "text": [
            "Epoch: 83, learning rate: 1.0000000000000002e-06, Training Loss: 0.3473, Training Accuracy: 0.8752, Test Loss: 0.5690, Test Accuracy: 0.8161\n"
          ]
        },
        {
          "output_type": "stream",
          "name": "stderr",
          "text": [
            "Epoch 84: 100%|██████████| 176/176 [00:20<00:00,  8.46batch/s, accuracy=0.877, loss=0.344]\n",
            "Epoch 84: 100%|██████████| 36/36 [00:03<00:00,  9.38batch/s, accuracy=0.815, loss=0.572]\n"
          ]
        },
        {
          "output_type": "stream",
          "name": "stdout",
          "text": [
            "Epoch: 84, learning rate: 1.0000000000000002e-06, Training Loss: 0.3439, Training Accuracy: 0.8773, Test Loss: 0.5724, Test Accuracy: 0.8154\n"
          ]
        },
        {
          "output_type": "stream",
          "name": "stderr",
          "text": [
            "Epoch 85: 100%|██████████| 176/176 [00:20<00:00,  8.61batch/s, accuracy=0.878, loss=0.343]\n",
            "Epoch 85: 100%|██████████| 36/36 [00:03<00:00, 11.70batch/s, accuracy=0.815, loss=0.57]\n"
          ]
        },
        {
          "output_type": "stream",
          "name": "stdout",
          "text": [
            "Epoch: 85, learning rate: 1.0000000000000002e-06, Training Loss: 0.3431, Training Accuracy: 0.8775, Test Loss: 0.5696, Test Accuracy: 0.8154\n"
          ]
        },
        {
          "output_type": "stream",
          "name": "stderr",
          "text": [
            "Epoch 86: 100%|██████████| 176/176 [00:21<00:00,  8.26batch/s, accuracy=0.875, loss=0.35]\n",
            "Epoch 86: 100%|██████████| 36/36 [00:02<00:00, 13.04batch/s, accuracy=0.815, loss=0.569]\n"
          ]
        },
        {
          "output_type": "stream",
          "name": "stdout",
          "text": [
            "Epoch: 86, learning rate: 1.0000000000000002e-06, Training Loss: 0.3497, Training Accuracy: 0.8754, Test Loss: 0.5688, Test Accuracy: 0.8151\n"
          ]
        },
        {
          "output_type": "stream",
          "name": "stderr",
          "text": [
            "Epoch 87: 100%|██████████| 176/176 [00:21<00:00,  8.13batch/s, accuracy=0.876, loss=0.348]\n",
            "Epoch 87: 100%|██████████| 36/36 [00:02<00:00, 12.87batch/s, accuracy=0.814, loss=0.571]\n"
          ]
        },
        {
          "output_type": "stream",
          "name": "stdout",
          "text": [
            "Epoch: 87, learning rate: 1.0000000000000002e-06, Training Loss: 0.3475, Training Accuracy: 0.8756, Test Loss: 0.5711, Test Accuracy: 0.8142\n"
          ]
        },
        {
          "output_type": "stream",
          "name": "stderr",
          "text": [
            "Epoch 88: 100%|██████████| 176/176 [00:21<00:00,  8.21batch/s, accuracy=0.877, loss=0.348]\n",
            "Epoch 88: 100%|██████████| 36/36 [00:02<00:00, 13.28batch/s, accuracy=0.815, loss=0.57]\n"
          ]
        },
        {
          "output_type": "stream",
          "name": "stdout",
          "text": [
            "Epoch: 88, learning rate: 1.0000000000000002e-06, Training Loss: 0.3480, Training Accuracy: 0.8768, Test Loss: 0.5698, Test Accuracy: 0.8150\n"
          ]
        },
        {
          "output_type": "stream",
          "name": "stderr",
          "text": [
            "Epoch 89: 100%|██████████| 176/176 [00:21<00:00,  8.12batch/s, accuracy=0.876, loss=0.346]\n",
            "Epoch 89: 100%|██████████| 36/36 [00:02<00:00, 12.51batch/s, accuracy=0.812, loss=0.571]\n"
          ]
        },
        {
          "output_type": "stream",
          "name": "stdout",
          "text": [
            "Epoch: 89, learning rate: 1.0000000000000002e-06, Training Loss: 0.3462, Training Accuracy: 0.8759, Test Loss: 0.5715, Test Accuracy: 0.8123\n"
          ]
        },
        {
          "output_type": "stream",
          "name": "stderr",
          "text": [
            "Epoch 90: 100%|██████████| 176/176 [00:21<00:00,  8.16batch/s, accuracy=0.876, loss=0.347]\n",
            "Epoch 90: 100%|██████████| 36/36 [00:02<00:00, 12.43batch/s, accuracy=0.815, loss=0.571]\n"
          ]
        },
        {
          "output_type": "stream",
          "name": "stdout",
          "text": [
            "Epoch: 90, learning rate: 1.0000000000000002e-06, Training Loss: 0.3470, Training Accuracy: 0.8762, Test Loss: 0.5709, Test Accuracy: 0.8149\n"
          ]
        },
        {
          "output_type": "stream",
          "name": "stderr",
          "text": [
            "Epoch 91: 100%|██████████| 176/176 [00:20<00:00,  8.39batch/s, accuracy=0.875, loss=0.347]\n",
            "Epoch 91: 100%|██████████| 36/36 [00:03<00:00, 10.20batch/s, accuracy=0.815, loss=0.57]\n"
          ]
        },
        {
          "output_type": "stream",
          "name": "stdout",
          "text": [
            "Epoch: 91, learning rate: 1.0000000000000002e-06, Training Loss: 0.3470, Training Accuracy: 0.8747, Test Loss: 0.5705, Test Accuracy: 0.8152\n"
          ]
        },
        {
          "output_type": "stream",
          "name": "stderr",
          "text": [
            "Epoch 92: 100%|██████████| 176/176 [00:20<00:00,  8.38batch/s, accuracy=0.876, loss=0.346]\n",
            "Epoch 92: 100%|██████████| 36/36 [00:03<00:00,  9.88batch/s, accuracy=0.815, loss=0.57]\n"
          ]
        },
        {
          "output_type": "stream",
          "name": "stdout",
          "text": [
            "Epoch: 92, learning rate: 1.0000000000000002e-06, Training Loss: 0.3457, Training Accuracy: 0.8764, Test Loss: 0.5704, Test Accuracy: 0.8146\n"
          ]
        },
        {
          "output_type": "stream",
          "name": "stderr",
          "text": [
            "Epoch 93: 100%|██████████| 176/176 [00:20<00:00,  8.42batch/s, accuracy=0.876, loss=0.349]\n",
            "Epoch 93: 100%|██████████| 36/36 [00:02<00:00, 12.56batch/s, accuracy=0.816, loss=0.57]\n"
          ]
        },
        {
          "output_type": "stream",
          "name": "stdout",
          "text": [
            "Epoch: 93, learning rate: 1.0000000000000002e-06, Training Loss: 0.3489, Training Accuracy: 0.8762, Test Loss: 0.5702, Test Accuracy: 0.8158\n"
          ]
        },
        {
          "output_type": "stream",
          "name": "stderr",
          "text": [
            "Epoch 94: 100%|██████████| 176/176 [00:21<00:00,  8.11batch/s, accuracy=0.877, loss=0.346]\n",
            "Epoch 94: 100%|██████████| 36/36 [00:02<00:00, 12.57batch/s, accuracy=0.815, loss=0.573]\n"
          ]
        },
        {
          "output_type": "stream",
          "name": "stdout",
          "text": [
            "Epoch: 94, learning rate: 1.0000000000000002e-06, Training Loss: 0.3461, Training Accuracy: 0.8775, Test Loss: 0.5734, Test Accuracy: 0.8154\n"
          ]
        },
        {
          "output_type": "stream",
          "name": "stderr",
          "text": [
            "Epoch 95: 100%|██████████| 176/176 [00:21<00:00,  8.07batch/s, accuracy=0.875, loss=0.349]\n",
            "Epoch 95: 100%|██████████| 36/36 [00:02<00:00, 13.04batch/s, accuracy=0.815, loss=0.573]\n"
          ]
        },
        {
          "output_type": "stream",
          "name": "stdout",
          "text": [
            "Epoch: 95, learning rate: 1.0000000000000002e-06, Training Loss: 0.3488, Training Accuracy: 0.8753, Test Loss: 0.5725, Test Accuracy: 0.8149\n"
          ]
        },
        {
          "output_type": "stream",
          "name": "stderr",
          "text": [
            "Epoch 96: 100%|██████████| 176/176 [00:21<00:00,  8.06batch/s, accuracy=0.875, loss=0.348]\n",
            "Epoch 96: 100%|██████████| 36/36 [00:02<00:00, 12.73batch/s, accuracy=0.814, loss=0.573]\n"
          ]
        },
        {
          "output_type": "stream",
          "name": "stdout",
          "text": [
            "Epoch: 96, learning rate: 1.0000000000000002e-06, Training Loss: 0.3479, Training Accuracy: 0.8747, Test Loss: 0.5726, Test Accuracy: 0.8144\n"
          ]
        },
        {
          "output_type": "stream",
          "name": "stderr",
          "text": [
            "Epoch 97: 100%|██████████| 176/176 [00:23<00:00,  7.63batch/s, accuracy=0.878, loss=0.345]\n",
            "Epoch 97: 100%|██████████| 36/36 [00:02<00:00, 12.77batch/s, accuracy=0.816, loss=0.57]\n"
          ]
        },
        {
          "output_type": "stream",
          "name": "stdout",
          "text": [
            "Epoch: 97, learning rate: 1.0000000000000002e-06, Training Loss: 0.3452, Training Accuracy: 0.8778, Test Loss: 0.5701, Test Accuracy: 0.8158\n"
          ]
        },
        {
          "output_type": "stream",
          "name": "stderr",
          "text": [
            "Epoch 98: 100%|██████████| 176/176 [00:22<00:00,  7.96batch/s, accuracy=0.877, loss=0.346]\n",
            "Epoch 98: 100%|██████████| 36/36 [00:02<00:00, 12.81batch/s, accuracy=0.815, loss=0.572]\n"
          ]
        },
        {
          "output_type": "stream",
          "name": "stdout",
          "text": [
            "Epoch: 98, learning rate: 1.0000000000000002e-06, Training Loss: 0.3459, Training Accuracy: 0.8768, Test Loss: 0.5721, Test Accuracy: 0.8146\n"
          ]
        },
        {
          "output_type": "stream",
          "name": "stderr",
          "text": [
            "Epoch 99: 100%|██████████| 176/176 [00:21<00:00,  8.07batch/s, accuracy=0.876, loss=0.345]\n",
            "Epoch 99: 100%|██████████| 36/36 [00:02<00:00, 12.96batch/s, accuracy=0.815, loss=0.572]\n"
          ]
        },
        {
          "output_type": "stream",
          "name": "stdout",
          "text": [
            "Epoch: 99, learning rate: 1.0000000000000002e-06, Training Loss: 0.3454, Training Accuracy: 0.8759, Test Loss: 0.5721, Test Accuracy: 0.8148\n"
          ]
        },
        {
          "output_type": "stream",
          "name": "stderr",
          "text": [
            "Epoch 100: 100%|██████████| 176/176 [00:21<00:00,  8.25batch/s, accuracy=0.875, loss=0.347]\n",
            "Epoch 100: 100%|██████████| 36/36 [00:03<00:00, 10.57batch/s, accuracy=0.815, loss=0.573]\n"
          ]
        },
        {
          "output_type": "stream",
          "name": "stdout",
          "text": [
            "Epoch: 100, learning rate: 1.0000000000000002e-07, Training Loss: 0.3474, Training Accuracy: 0.8749, Test Loss: 0.5730, Test Accuracy: 0.8147\n"
          ]
        },
        {
          "output_type": "stream",
          "name": "stderr",
          "text": [
            "Epoch 101: 100%|██████████| 176/176 [00:20<00:00,  8.39batch/s, accuracy=0.877, loss=0.344]\n",
            "Epoch 101: 100%|██████████| 36/36 [00:03<00:00,  9.27batch/s, accuracy=0.814, loss=0.573]\n"
          ]
        },
        {
          "output_type": "stream",
          "name": "stdout",
          "text": [
            "Epoch: 101, learning rate: 1.0000000000000002e-07, Training Loss: 0.3436, Training Accuracy: 0.8771, Test Loss: 0.5725, Test Accuracy: 0.8136\n"
          ]
        },
        {
          "output_type": "stream",
          "name": "stderr",
          "text": [
            "Epoch 102: 100%|██████████| 176/176 [00:20<00:00,  8.49batch/s, accuracy=0.877, loss=0.342]\n",
            "Epoch 102: 100%|██████████| 36/36 [00:03<00:00, 11.57batch/s, accuracy=0.816, loss=0.572]\n"
          ]
        },
        {
          "output_type": "stream",
          "name": "stdout",
          "text": [
            "Epoch: 102, learning rate: 1.0000000000000002e-07, Training Loss: 0.3424, Training Accuracy: 0.8770, Test Loss: 0.5721, Test Accuracy: 0.8163\n"
          ]
        },
        {
          "output_type": "stream",
          "name": "stderr",
          "text": [
            "Epoch 103: 100%|██████████| 176/176 [00:21<00:00,  8.10batch/s, accuracy=0.878, loss=0.343]\n",
            "Epoch 103: 100%|██████████| 36/36 [00:02<00:00, 12.69batch/s, accuracy=0.814, loss=0.571]\n"
          ]
        },
        {
          "output_type": "stream",
          "name": "stdout",
          "text": [
            "Epoch: 103, learning rate: 1.0000000000000002e-07, Training Loss: 0.3427, Training Accuracy: 0.8780, Test Loss: 0.5705, Test Accuracy: 0.8141\n"
          ]
        },
        {
          "output_type": "stream",
          "name": "stderr",
          "text": [
            "Epoch 104: 100%|██████████| 176/176 [00:22<00:00,  7.89batch/s, accuracy=0.877, loss=0.346]\n",
            "Epoch 104: 100%|██████████| 36/36 [00:02<00:00, 13.00batch/s, accuracy=0.815, loss=0.569]\n"
          ]
        },
        {
          "output_type": "stream",
          "name": "stdout",
          "text": [
            "Epoch: 104, learning rate: 1.0000000000000002e-07, Training Loss: 0.3458, Training Accuracy: 0.8769, Test Loss: 0.5689, Test Accuracy: 0.8152\n"
          ]
        },
        {
          "output_type": "stream",
          "name": "stderr",
          "text": [
            "Epoch 105: 100%|██████████| 176/176 [00:22<00:00,  7.90batch/s, accuracy=0.878, loss=0.343]\n",
            "Epoch 105: 100%|██████████| 36/36 [00:02<00:00, 12.70batch/s, accuracy=0.815, loss=0.572]\n"
          ]
        },
        {
          "output_type": "stream",
          "name": "stdout",
          "text": [
            "Epoch: 105, learning rate: 1.0000000000000002e-07, Training Loss: 0.3426, Training Accuracy: 0.8779, Test Loss: 0.5717, Test Accuracy: 0.8151\n"
          ]
        },
        {
          "output_type": "stream",
          "name": "stderr",
          "text": [
            "Epoch 106: 100%|██████████| 176/176 [00:22<00:00,  7.99batch/s, accuracy=0.876, loss=0.345]\n",
            "Epoch 106: 100%|██████████| 36/36 [00:02<00:00, 12.66batch/s, accuracy=0.816, loss=0.572]\n"
          ]
        },
        {
          "output_type": "stream",
          "name": "stdout",
          "text": [
            "Epoch: 106, learning rate: 1.0000000000000002e-07, Training Loss: 0.3449, Training Accuracy: 0.8757, Test Loss: 0.5715, Test Accuracy: 0.8156\n"
          ]
        },
        {
          "output_type": "stream",
          "name": "stderr",
          "text": [
            "Epoch 107: 100%|██████████| 176/176 [00:22<00:00,  7.86batch/s, accuracy=0.874, loss=0.349]\n",
            "Epoch 107: 100%|██████████| 36/36 [00:02<00:00, 12.71batch/s, accuracy=0.815, loss=0.57]\n"
          ]
        },
        {
          "output_type": "stream",
          "name": "stdout",
          "text": [
            "Epoch: 107, learning rate: 1.0000000000000002e-07, Training Loss: 0.3485, Training Accuracy: 0.8741, Test Loss: 0.5701, Test Accuracy: 0.8154\n"
          ]
        },
        {
          "output_type": "stream",
          "name": "stderr",
          "text": [
            "Epoch 108: 100%|██████████| 176/176 [00:22<00:00,  7.86batch/s, accuracy=0.876, loss=0.346]\n",
            "Epoch 108: 100%|██████████| 36/36 [00:02<00:00, 12.42batch/s, accuracy=0.815, loss=0.571]\n"
          ]
        },
        {
          "output_type": "stream",
          "name": "stdout",
          "text": [
            "Epoch: 108, learning rate: 1.0000000000000002e-07, Training Loss: 0.3461, Training Accuracy: 0.8762, Test Loss: 0.5714, Test Accuracy: 0.8152\n"
          ]
        },
        {
          "output_type": "stream",
          "name": "stderr",
          "text": [
            "Epoch 109: 100%|██████████| 176/176 [00:22<00:00,  7.87batch/s, accuracy=0.877, loss=0.342]\n",
            "Epoch 109: 100%|██████████| 36/36 [00:02<00:00, 12.58batch/s, accuracy=0.814, loss=0.571]\n"
          ]
        },
        {
          "output_type": "stream",
          "name": "stdout",
          "text": [
            "Epoch: 109, learning rate: 1.0000000000000002e-07, Training Loss: 0.3422, Training Accuracy: 0.8768, Test Loss: 0.5706, Test Accuracy: 0.8144\n"
          ]
        },
        {
          "output_type": "stream",
          "name": "stderr",
          "text": [
            "Epoch 110: 100%|██████████| 176/176 [00:22<00:00,  7.81batch/s, accuracy=0.876, loss=0.345]\n",
            "Epoch 110: 100%|██████████| 36/36 [00:02<00:00, 12.47batch/s, accuracy=0.815, loss=0.569]\n"
          ]
        },
        {
          "output_type": "stream",
          "name": "stdout",
          "text": [
            "Epoch: 110, learning rate: 1.0000000000000002e-07, Training Loss: 0.3455, Training Accuracy: 0.8759, Test Loss: 0.5693, Test Accuracy: 0.8147\n"
          ]
        },
        {
          "output_type": "stream",
          "name": "stderr",
          "text": [
            "Epoch 111: 100%|██████████| 176/176 [00:21<00:00,  8.16batch/s, accuracy=0.874, loss=0.349]\n",
            "Epoch 111: 100%|██████████| 36/36 [00:03<00:00, 10.89batch/s, accuracy=0.815, loss=0.57]\n"
          ]
        },
        {
          "output_type": "stream",
          "name": "stdout",
          "text": [
            "Epoch: 111, learning rate: 1.0000000000000002e-07, Training Loss: 0.3487, Training Accuracy: 0.8744, Test Loss: 0.5703, Test Accuracy: 0.8153\n"
          ]
        },
        {
          "output_type": "stream",
          "name": "stderr",
          "text": [
            "Epoch 112: 100%|██████████| 176/176 [00:21<00:00,  8.36batch/s, accuracy=0.874, loss=0.348]\n",
            "Epoch 112: 100%|██████████| 36/36 [00:03<00:00,  9.59batch/s, accuracy=0.815, loss=0.572]\n"
          ]
        },
        {
          "output_type": "stream",
          "name": "stdout",
          "text": [
            "Epoch: 112, learning rate: 1.0000000000000002e-07, Training Loss: 0.3481, Training Accuracy: 0.8744, Test Loss: 0.5722, Test Accuracy: 0.8148\n"
          ]
        },
        {
          "output_type": "stream",
          "name": "stderr",
          "text": [
            "Epoch 113: 100%|██████████| 176/176 [00:20<00:00,  8.42batch/s, accuracy=0.875, loss=0.345]\n",
            "Epoch 113: 100%|██████████| 36/36 [00:03<00:00,  9.49batch/s, accuracy=0.814, loss=0.571]\n"
          ]
        },
        {
          "output_type": "stream",
          "name": "stdout",
          "text": [
            "Epoch: 113, learning rate: 1.0000000000000002e-07, Training Loss: 0.3452, Training Accuracy: 0.8748, Test Loss: 0.5709, Test Accuracy: 0.8144\n"
          ]
        },
        {
          "output_type": "stream",
          "name": "stderr",
          "text": [
            "Epoch 114: 100%|██████████| 176/176 [00:21<00:00,  8.31batch/s, accuracy=0.877, loss=0.347]\n",
            "Epoch 114: 100%|██████████| 36/36 [00:02<00:00, 12.14batch/s, accuracy=0.815, loss=0.57]\n"
          ]
        },
        {
          "output_type": "stream",
          "name": "stdout",
          "text": [
            "Epoch: 114, learning rate: 1.0000000000000002e-07, Training Loss: 0.3472, Training Accuracy: 0.8774, Test Loss: 0.5704, Test Accuracy: 0.8154\n"
          ]
        },
        {
          "output_type": "stream",
          "name": "stderr",
          "text": [
            "Epoch 115: 100%|██████████| 176/176 [00:21<00:00,  8.15batch/s, accuracy=0.874, loss=0.348]\n",
            "Epoch 115: 100%|██████████| 36/36 [00:02<00:00, 12.66batch/s, accuracy=0.814, loss=0.571]\n"
          ]
        },
        {
          "output_type": "stream",
          "name": "stdout",
          "text": [
            "Epoch: 115, learning rate: 1.0000000000000002e-07, Training Loss: 0.3476, Training Accuracy: 0.8740, Test Loss: 0.5712, Test Accuracy: 0.8142\n"
          ]
        },
        {
          "output_type": "stream",
          "name": "stderr",
          "text": [
            "Epoch 116: 100%|██████████| 176/176 [00:22<00:00,  7.93batch/s, accuracy=0.877, loss=0.346]\n",
            "Epoch 116: 100%|██████████| 36/36 [00:02<00:00, 12.87batch/s, accuracy=0.816, loss=0.571]\n"
          ]
        },
        {
          "output_type": "stream",
          "name": "stdout",
          "text": [
            "Epoch: 116, learning rate: 1.0000000000000002e-07, Training Loss: 0.3459, Training Accuracy: 0.8774, Test Loss: 0.5705, Test Accuracy: 0.8159\n"
          ]
        },
        {
          "output_type": "stream",
          "name": "stderr",
          "text": [
            "Epoch 117: 100%|██████████| 176/176 [00:21<00:00,  8.01batch/s, accuracy=0.876, loss=0.346]\n",
            "Epoch 117: 100%|██████████| 36/36 [00:02<00:00, 12.75batch/s, accuracy=0.815, loss=0.569]\n"
          ]
        },
        {
          "output_type": "stream",
          "name": "stdout",
          "text": [
            "Epoch: 117, learning rate: 1.0000000000000002e-07, Training Loss: 0.3460, Training Accuracy: 0.8762, Test Loss: 0.5695, Test Accuracy: 0.8147\n"
          ]
        },
        {
          "output_type": "stream",
          "name": "stderr",
          "text": [
            "Epoch 118: 100%|██████████| 176/176 [00:22<00:00,  7.94batch/s, accuracy=0.877, loss=0.348]\n",
            "Epoch 118: 100%|██████████| 36/36 [00:02<00:00, 12.83batch/s, accuracy=0.815, loss=0.57]\n"
          ]
        },
        {
          "output_type": "stream",
          "name": "stdout",
          "text": [
            "Epoch: 118, learning rate: 1.0000000000000002e-07, Training Loss: 0.3478, Training Accuracy: 0.8768, Test Loss: 0.5699, Test Accuracy: 0.8146\n"
          ]
        },
        {
          "output_type": "stream",
          "name": "stderr",
          "text": [
            "Epoch 119: 100%|██████████| 176/176 [00:22<00:00,  7.96batch/s, accuracy=0.875, loss=0.349]\n",
            "Epoch 119: 100%|██████████| 36/36 [00:02<00:00, 12.70batch/s, accuracy=0.815, loss=0.57]\n"
          ]
        },
        {
          "output_type": "stream",
          "name": "stdout",
          "text": [
            "Epoch: 119, learning rate: 1.0000000000000002e-07, Training Loss: 0.3489, Training Accuracy: 0.8751, Test Loss: 0.5695, Test Accuracy: 0.8147\n"
          ]
        },
        {
          "output_type": "stream",
          "name": "stderr",
          "text": [
            "Epoch 120: 100%|██████████| 176/176 [00:22<00:00,  7.95batch/s, accuracy=0.876, loss=0.345]\n",
            "Epoch 120: 100%|██████████| 36/36 [00:02<00:00, 12.61batch/s, accuracy=0.814, loss=0.57]\n"
          ]
        },
        {
          "output_type": "stream",
          "name": "stdout",
          "text": [
            "Epoch: 120, learning rate: 1.0000000000000004e-08, Training Loss: 0.3451, Training Accuracy: 0.8756, Test Loss: 0.5700, Test Accuracy: 0.8144\n"
          ]
        },
        {
          "output_type": "stream",
          "name": "stderr",
          "text": [
            "Epoch 121: 100%|██████████| 176/176 [00:21<00:00,  8.08batch/s, accuracy=0.877, loss=0.346]\n",
            "Epoch 121: 100%|██████████| 36/36 [00:03<00:00, 11.36batch/s, accuracy=0.815, loss=0.571]\n"
          ]
        },
        {
          "output_type": "stream",
          "name": "stdout",
          "text": [
            "Epoch: 121, learning rate: 1.0000000000000004e-08, Training Loss: 0.3461, Training Accuracy: 0.8771, Test Loss: 0.5711, Test Accuracy: 0.8148\n"
          ]
        },
        {
          "output_type": "stream",
          "name": "stderr",
          "text": [
            "Epoch 122: 100%|██████████| 176/176 [00:21<00:00,  8.25batch/s, accuracy=0.877, loss=0.344]\n",
            "Epoch 122: 100%|██████████| 36/36 [00:03<00:00,  9.77batch/s, accuracy=0.814, loss=0.569]\n"
          ]
        },
        {
          "output_type": "stream",
          "name": "stdout",
          "text": [
            "Epoch: 122, learning rate: 1.0000000000000004e-08, Training Loss: 0.3440, Training Accuracy: 0.8765, Test Loss: 0.5686, Test Accuracy: 0.8141\n"
          ]
        },
        {
          "output_type": "stream",
          "name": "stderr",
          "text": [
            "Epoch 123: 100%|██████████| 176/176 [00:21<00:00,  8.28batch/s, accuracy=0.876, loss=0.347]\n",
            "Epoch 123: 100%|██████████| 36/36 [00:03<00:00,  9.37batch/s, accuracy=0.815, loss=0.568]\n"
          ]
        },
        {
          "output_type": "stream",
          "name": "stdout",
          "text": [
            "Epoch: 123, learning rate: 1.0000000000000004e-08, Training Loss: 0.3466, Training Accuracy: 0.8760, Test Loss: 0.5677, Test Accuracy: 0.8148\n"
          ]
        },
        {
          "output_type": "stream",
          "name": "stderr",
          "text": [
            "Epoch 124: 100%|██████████| 176/176 [00:20<00:00,  8.38batch/s, accuracy=0.877, loss=0.347]\n",
            "Epoch 124: 100%|██████████| 36/36 [00:03<00:00, 11.15batch/s, accuracy=0.815, loss=0.572]\n"
          ]
        },
        {
          "output_type": "stream",
          "name": "stdout",
          "text": [
            "Epoch: 124, learning rate: 1.0000000000000004e-08, Training Loss: 0.3467, Training Accuracy: 0.8772, Test Loss: 0.5717, Test Accuracy: 0.8154\n"
          ]
        },
        {
          "output_type": "stream",
          "name": "stderr",
          "text": [
            "Epoch 125: 100%|██████████| 176/176 [00:21<00:00,  8.14batch/s, accuracy=0.876, loss=0.345]\n",
            "Epoch 125: 100%|██████████| 36/36 [00:02<00:00, 12.61batch/s, accuracy=0.816, loss=0.572]\n"
          ]
        },
        {
          "output_type": "stream",
          "name": "stdout",
          "text": [
            "Epoch: 125, learning rate: 1.0000000000000004e-08, Training Loss: 0.3447, Training Accuracy: 0.8764, Test Loss: 0.5722, Test Accuracy: 0.8157\n"
          ]
        },
        {
          "output_type": "stream",
          "name": "stderr",
          "text": [
            "Epoch 126: 100%|██████████| 176/176 [00:21<00:00,  8.02batch/s, accuracy=0.878, loss=0.343]\n",
            "Epoch 126: 100%|██████████| 36/36 [00:02<00:00, 12.60batch/s, accuracy=0.815, loss=0.571]\n"
          ]
        },
        {
          "output_type": "stream",
          "name": "stdout",
          "text": [
            "Epoch: 126, learning rate: 1.0000000000000004e-08, Training Loss: 0.3432, Training Accuracy: 0.8775, Test Loss: 0.5706, Test Accuracy: 0.8148\n"
          ]
        },
        {
          "output_type": "stream",
          "name": "stderr",
          "text": [
            "Epoch 127: 100%|██████████| 176/176 [00:21<00:00,  8.05batch/s, accuracy=0.878, loss=0.345]\n",
            "Epoch 127: 100%|██████████| 36/36 [00:02<00:00, 12.77batch/s, accuracy=0.815, loss=0.569]\n"
          ]
        },
        {
          "output_type": "stream",
          "name": "stdout",
          "text": [
            "Epoch: 127, learning rate: 1.0000000000000004e-08, Training Loss: 0.3451, Training Accuracy: 0.8775, Test Loss: 0.5690, Test Accuracy: 0.8153\n"
          ]
        },
        {
          "output_type": "stream",
          "name": "stderr",
          "text": [
            "Epoch 128: 100%|██████████| 176/176 [00:21<00:00,  8.01batch/s, accuracy=0.877, loss=0.348]\n",
            "Epoch 128: 100%|██████████| 36/36 [00:02<00:00, 12.44batch/s, accuracy=0.814, loss=0.571]\n"
          ]
        },
        {
          "output_type": "stream",
          "name": "stdout",
          "text": [
            "Epoch: 128, learning rate: 1.0000000000000004e-08, Training Loss: 0.3480, Training Accuracy: 0.8771, Test Loss: 0.5706, Test Accuracy: 0.8143\n"
          ]
        },
        {
          "output_type": "stream",
          "name": "stderr",
          "text": [
            "Epoch 129: 100%|██████████| 176/176 [00:22<00:00,  7.99batch/s, accuracy=0.876, loss=0.347]\n",
            "Epoch 129: 100%|██████████| 36/36 [00:02<00:00, 12.92batch/s, accuracy=0.814, loss=0.572]\n"
          ]
        },
        {
          "output_type": "stream",
          "name": "stdout",
          "text": [
            "Epoch: 129, learning rate: 1.0000000000000004e-08, Training Loss: 0.3470, Training Accuracy: 0.8758, Test Loss: 0.5723, Test Accuracy: 0.8143\n"
          ]
        },
        {
          "output_type": "stream",
          "name": "stderr",
          "text": [
            "Epoch 130: 100%|██████████| 176/176 [00:21<00:00,  8.02batch/s, accuracy=0.875, loss=0.348]\n",
            "Epoch 130: 100%|██████████| 36/36 [00:02<00:00, 12.75batch/s, accuracy=0.813, loss=0.571]\n"
          ]
        },
        {
          "output_type": "stream",
          "name": "stdout",
          "text": [
            "Epoch: 130, learning rate: 1.0000000000000004e-08, Training Loss: 0.3485, Training Accuracy: 0.8746, Test Loss: 0.5710, Test Accuracy: 0.8134\n"
          ]
        },
        {
          "output_type": "stream",
          "name": "stderr",
          "text": [
            "Epoch 131: 100%|██████████| 176/176 [00:21<00:00,  8.24batch/s, accuracy=0.876, loss=0.345]\n",
            "Epoch 131: 100%|██████████| 36/36 [00:03<00:00, 11.11batch/s, accuracy=0.815, loss=0.57]\n"
          ]
        },
        {
          "output_type": "stream",
          "name": "stdout",
          "text": [
            "Epoch: 131, learning rate: 1.0000000000000004e-08, Training Loss: 0.3451, Training Accuracy: 0.8761, Test Loss: 0.5699, Test Accuracy: 0.8148\n"
          ]
        },
        {
          "output_type": "stream",
          "name": "stderr",
          "text": [
            "Epoch 132: 100%|██████████| 176/176 [00:21<00:00,  8.37batch/s, accuracy=0.877, loss=0.344]\n",
            "Epoch 132: 100%|██████████| 36/36 [00:03<00:00,  9.30batch/s, accuracy=0.815, loss=0.571]\n"
          ]
        },
        {
          "output_type": "stream",
          "name": "stdout",
          "text": [
            "Epoch: 132, learning rate: 1.0000000000000004e-08, Training Loss: 0.3443, Training Accuracy: 0.8770, Test Loss: 0.5707, Test Accuracy: 0.8154\n"
          ]
        },
        {
          "output_type": "stream",
          "name": "stderr",
          "text": [
            "Epoch 133: 100%|██████████| 176/176 [00:21<00:00,  8.32batch/s, accuracy=0.877, loss=0.344]\n",
            "Epoch 133: 100%|██████████| 36/36 [00:03<00:00,  9.93batch/s, accuracy=0.816, loss=0.569]\n"
          ]
        },
        {
          "output_type": "stream",
          "name": "stdout",
          "text": [
            "Epoch: 133, learning rate: 1.0000000000000004e-08, Training Loss: 0.3444, Training Accuracy: 0.8766, Test Loss: 0.5690, Test Accuracy: 0.8158\n"
          ]
        },
        {
          "output_type": "stream",
          "name": "stderr",
          "text": [
            "Epoch 134: 100%|██████████| 176/176 [00:21<00:00,  8.25batch/s, accuracy=0.876, loss=0.345]\n",
            "Epoch 134: 100%|██████████| 36/36 [00:03<00:00, 11.95batch/s, accuracy=0.815, loss=0.567]\n"
          ]
        },
        {
          "output_type": "stream",
          "name": "stdout",
          "text": [
            "Epoch: 134, learning rate: 1.0000000000000004e-08, Training Loss: 0.3447, Training Accuracy: 0.8765, Test Loss: 0.5673, Test Accuracy: 0.8151\n"
          ]
        },
        {
          "output_type": "stream",
          "name": "stderr",
          "text": [
            "Epoch 135: 100%|██████████| 176/176 [00:21<00:00,  8.04batch/s, accuracy=0.876, loss=0.347]\n",
            "Epoch 135: 100%|██████████| 36/36 [00:02<00:00, 12.81batch/s, accuracy=0.815, loss=0.571]\n"
          ]
        },
        {
          "output_type": "stream",
          "name": "stdout",
          "text": [
            "Epoch: 135, learning rate: 1.0000000000000004e-08, Training Loss: 0.3466, Training Accuracy: 0.8764, Test Loss: 0.5709, Test Accuracy: 0.8147\n"
          ]
        },
        {
          "output_type": "stream",
          "name": "stderr",
          "text": [
            "Epoch 136: 100%|██████████| 176/176 [00:22<00:00,  7.86batch/s, accuracy=0.877, loss=0.345]\n",
            "Epoch 136: 100%|██████████| 36/36 [00:02<00:00, 12.74batch/s, accuracy=0.815, loss=0.571]\n"
          ]
        },
        {
          "output_type": "stream",
          "name": "stdout",
          "text": [
            "Epoch: 136, learning rate: 1.0000000000000004e-08, Training Loss: 0.3451, Training Accuracy: 0.8770, Test Loss: 0.5707, Test Accuracy: 0.8146\n"
          ]
        },
        {
          "output_type": "stream",
          "name": "stderr",
          "text": [
            "Epoch 137: 100%|██████████| 176/176 [00:21<00:00,  8.06batch/s, accuracy=0.877, loss=0.346]\n",
            "Epoch 137: 100%|██████████| 36/36 [00:02<00:00, 13.04batch/s, accuracy=0.815, loss=0.57]\n"
          ]
        },
        {
          "output_type": "stream",
          "name": "stdout",
          "text": [
            "Epoch: 137, learning rate: 1.0000000000000004e-08, Training Loss: 0.3461, Training Accuracy: 0.8765, Test Loss: 0.5699, Test Accuracy: 0.8149\n"
          ]
        },
        {
          "output_type": "stream",
          "name": "stderr",
          "text": [
            "Epoch 138: 100%|██████████| 176/176 [00:21<00:00,  8.11batch/s, accuracy=0.877, loss=0.343]\n",
            "Epoch 138: 100%|██████████| 36/36 [00:02<00:00, 12.91batch/s, accuracy=0.815, loss=0.572]\n"
          ]
        },
        {
          "output_type": "stream",
          "name": "stdout",
          "text": [
            "Epoch: 138, learning rate: 1.0000000000000004e-08, Training Loss: 0.3427, Training Accuracy: 0.8769, Test Loss: 0.5722, Test Accuracy: 0.8153\n"
          ]
        },
        {
          "output_type": "stream",
          "name": "stderr",
          "text": [
            "Epoch 139: 100%|██████████| 176/176 [00:21<00:00,  8.05batch/s, accuracy=0.874, loss=0.35]\n",
            "Epoch 139: 100%|██████████| 36/36 [00:02<00:00, 12.77batch/s, accuracy=0.815, loss=0.572]\n"
          ]
        },
        {
          "output_type": "stream",
          "name": "stdout",
          "text": [
            "Epoch: 139, learning rate: 1.0000000000000004e-08, Training Loss: 0.3503, Training Accuracy: 0.8737, Test Loss: 0.5716, Test Accuracy: 0.8149\n"
          ]
        },
        {
          "output_type": "stream",
          "name": "stderr",
          "text": [
            "Epoch 140: 100%|██████████| 176/176 [00:21<00:00,  8.21batch/s, accuracy=0.876, loss=0.346]\n",
            "Epoch 140: 100%|██████████| 36/36 [00:03<00:00, 11.61batch/s, accuracy=0.815, loss=0.568]\n"
          ]
        },
        {
          "output_type": "stream",
          "name": "stdout",
          "text": [
            "Epoch: 140, learning rate: 1.0000000000000005e-09, Training Loss: 0.3459, Training Accuracy: 0.8762, Test Loss: 0.5684, Test Accuracy: 0.8150\n"
          ]
        },
        {
          "output_type": "stream",
          "name": "stderr",
          "text": [
            "Epoch 141: 100%|██████████| 176/176 [00:20<00:00,  8.47batch/s, accuracy=0.876, loss=0.347]\n",
            "Epoch 141: 100%|██████████| 36/36 [00:03<00:00,  9.41batch/s, accuracy=0.814, loss=0.571]\n"
          ]
        },
        {
          "output_type": "stream",
          "name": "stdout",
          "text": [
            "Epoch: 141, learning rate: 1.0000000000000005e-09, Training Loss: 0.3472, Training Accuracy: 0.8761, Test Loss: 0.5707, Test Accuracy: 0.8139\n"
          ]
        },
        {
          "output_type": "stream",
          "name": "stderr",
          "text": [
            "Epoch 142: 100%|██████████| 176/176 [00:21<00:00,  8.37batch/s, accuracy=0.877, loss=0.35]\n",
            "Epoch 142: 100%|██████████| 36/36 [00:03<00:00, 10.46batch/s, accuracy=0.814, loss=0.571]\n"
          ]
        },
        {
          "output_type": "stream",
          "name": "stdout",
          "text": [
            "Epoch: 142, learning rate: 1.0000000000000005e-09, Training Loss: 0.3496, Training Accuracy: 0.8766, Test Loss: 0.5713, Test Accuracy: 0.8144\n"
          ]
        },
        {
          "output_type": "stream",
          "name": "stderr",
          "text": [
            "Epoch 143: 100%|██████████| 176/176 [00:21<00:00,  8.22batch/s, accuracy=0.873, loss=0.348]\n",
            "Epoch 143: 100%|██████████| 36/36 [00:02<00:00, 12.70batch/s, accuracy=0.817, loss=0.572]\n"
          ]
        },
        {
          "output_type": "stream",
          "name": "stdout",
          "text": [
            "Epoch: 143, learning rate: 1.0000000000000005e-09, Training Loss: 0.3485, Training Accuracy: 0.8734, Test Loss: 0.5718, Test Accuracy: 0.8169\n"
          ]
        },
        {
          "output_type": "stream",
          "name": "stderr",
          "text": [
            "Epoch 144: 100%|██████████| 176/176 [00:21<00:00,  8.02batch/s, accuracy=0.878, loss=0.346]\n",
            "Epoch 144: 100%|██████████| 36/36 [00:02<00:00, 12.65batch/s, accuracy=0.814, loss=0.569]\n"
          ]
        },
        {
          "output_type": "stream",
          "name": "stdout",
          "text": [
            "Epoch: 144, learning rate: 1.0000000000000005e-09, Training Loss: 0.3458, Training Accuracy: 0.8776, Test Loss: 0.5693, Test Accuracy: 0.8137\n"
          ]
        },
        {
          "output_type": "stream",
          "name": "stderr",
          "text": [
            "Epoch 145: 100%|██████████| 176/176 [00:22<00:00,  7.95batch/s, accuracy=0.874, loss=0.35]\n",
            "Epoch 145: 100%|██████████| 36/36 [00:02<00:00, 12.77batch/s, accuracy=0.815, loss=0.572]\n"
          ]
        },
        {
          "output_type": "stream",
          "name": "stdout",
          "text": [
            "Epoch: 145, learning rate: 1.0000000000000005e-09, Training Loss: 0.3500, Training Accuracy: 0.8745, Test Loss: 0.5720, Test Accuracy: 0.8148\n"
          ]
        },
        {
          "output_type": "stream",
          "name": "stderr",
          "text": [
            "Epoch 146: 100%|██████████| 176/176 [00:22<00:00,  7.83batch/s, accuracy=0.877, loss=0.345]\n",
            "Epoch 146: 100%|██████████| 36/36 [00:02<00:00, 12.52batch/s, accuracy=0.816, loss=0.57]\n"
          ]
        },
        {
          "output_type": "stream",
          "name": "stdout",
          "text": [
            "Epoch: 146, learning rate: 1.0000000000000005e-09, Training Loss: 0.3446, Training Accuracy: 0.8766, Test Loss: 0.5703, Test Accuracy: 0.8161\n"
          ]
        },
        {
          "output_type": "stream",
          "name": "stderr",
          "text": [
            "Epoch 147: 100%|██████████| 176/176 [00:22<00:00,  7.97batch/s, accuracy=0.874, loss=0.348]\n",
            "Epoch 147: 100%|██████████| 36/36 [00:02<00:00, 12.78batch/s, accuracy=0.815, loss=0.57]\n"
          ]
        },
        {
          "output_type": "stream",
          "name": "stdout",
          "text": [
            "Epoch: 147, learning rate: 1.0000000000000005e-09, Training Loss: 0.3485, Training Accuracy: 0.8743, Test Loss: 0.5699, Test Accuracy: 0.8152\n"
          ]
        },
        {
          "output_type": "stream",
          "name": "stderr",
          "text": [
            "Epoch 148: 100%|██████████| 176/176 [00:22<00:00,  7.95batch/s, accuracy=0.878, loss=0.343]\n",
            "Epoch 148: 100%|██████████| 36/36 [00:02<00:00, 12.72batch/s, accuracy=0.815, loss=0.572]\n"
          ]
        },
        {
          "output_type": "stream",
          "name": "stdout",
          "text": [
            "Epoch: 148, learning rate: 1.0000000000000005e-09, Training Loss: 0.3434, Training Accuracy: 0.8780, Test Loss: 0.5716, Test Accuracy: 0.8153\n"
          ]
        },
        {
          "output_type": "stream",
          "name": "stderr",
          "text": [
            "Epoch 149: 100%|██████████| 176/176 [00:22<00:00,  7.92batch/s, accuracy=0.877, loss=0.344]\n",
            "Epoch 149: 100%|██████████| 36/36 [00:02<00:00, 12.64batch/s, accuracy=0.815, loss=0.57]\n"
          ]
        },
        {
          "output_type": "stream",
          "name": "stdout",
          "text": [
            "Epoch: 149, learning rate: 1.0000000000000005e-09, Training Loss: 0.3435, Training Accuracy: 0.8774, Test Loss: 0.5698, Test Accuracy: 0.8152\n"
          ]
        },
        {
          "output_type": "stream",
          "name": "stderr",
          "text": [
            "Epoch 150: 100%|██████████| 176/176 [00:21<00:00,  8.05batch/s, accuracy=0.874, loss=0.349]\n",
            "Epoch 150: 100%|██████████| 36/36 [00:03<00:00, 10.91batch/s, accuracy=0.815, loss=0.57]\n"
          ]
        },
        {
          "output_type": "stream",
          "name": "stdout",
          "text": [
            "Epoch: 150, learning rate: 1.0000000000000005e-09, Training Loss: 0.3494, Training Accuracy: 0.8742, Test Loss: 0.5701, Test Accuracy: 0.8154\n"
          ]
        },
        {
          "output_type": "stream",
          "name": "stderr",
          "text": [
            "Epoch 151: 100%|██████████| 176/176 [00:20<00:00,  8.42batch/s, accuracy=0.876, loss=0.346]\n",
            "Epoch 151: 100%|██████████| 36/36 [00:03<00:00,  9.09batch/s, accuracy=0.814, loss=0.57]\n"
          ]
        },
        {
          "output_type": "stream",
          "name": "stdout",
          "text": [
            "Epoch: 151, learning rate: 1.0000000000000005e-09, Training Loss: 0.3456, Training Accuracy: 0.8757, Test Loss: 0.5701, Test Accuracy: 0.8140\n"
          ]
        },
        {
          "output_type": "stream",
          "name": "stderr",
          "text": [
            "Epoch 152: 100%|██████████| 176/176 [00:21<00:00,  8.32batch/s, accuracy=0.875, loss=0.348]\n",
            "Epoch 152: 100%|██████████| 36/36 [00:03<00:00,  9.85batch/s, accuracy=0.814, loss=0.57]\n"
          ]
        },
        {
          "output_type": "stream",
          "name": "stdout",
          "text": [
            "Epoch: 152, learning rate: 1.0000000000000005e-09, Training Loss: 0.3481, Training Accuracy: 0.8752, Test Loss: 0.5700, Test Accuracy: 0.8141\n"
          ]
        },
        {
          "output_type": "stream",
          "name": "stderr",
          "text": [
            "Epoch 153: 100%|██████████| 176/176 [00:21<00:00,  8.19batch/s, accuracy=0.877, loss=0.342]\n",
            "Epoch 153: 100%|██████████| 36/36 [00:03<00:00, 11.60batch/s, accuracy=0.815, loss=0.572]\n"
          ]
        },
        {
          "output_type": "stream",
          "name": "stdout",
          "text": [
            "Epoch: 153, learning rate: 1.0000000000000005e-09, Training Loss: 0.3424, Training Accuracy: 0.8766, Test Loss: 0.5718, Test Accuracy: 0.8152\n"
          ]
        },
        {
          "output_type": "stream",
          "name": "stderr",
          "text": [
            "Epoch 154: 100%|██████████| 176/176 [00:22<00:00,  7.97batch/s, accuracy=0.874, loss=0.35]\n",
            "Epoch 154: 100%|██████████| 36/36 [00:02<00:00, 12.30batch/s, accuracy=0.815, loss=0.572]\n"
          ]
        },
        {
          "output_type": "stream",
          "name": "stdout",
          "text": [
            "Epoch: 154, learning rate: 1.0000000000000005e-09, Training Loss: 0.3496, Training Accuracy: 0.8742, Test Loss: 0.5716, Test Accuracy: 0.8147\n"
          ]
        },
        {
          "output_type": "stream",
          "name": "stderr",
          "text": [
            "Epoch 155: 100%|██████████| 176/176 [00:22<00:00,  7.89batch/s, accuracy=0.878, loss=0.343]\n",
            "Epoch 155: 100%|██████████| 36/36 [00:02<00:00, 12.47batch/s, accuracy=0.815, loss=0.569]\n"
          ]
        },
        {
          "output_type": "stream",
          "name": "stdout",
          "text": [
            "Epoch: 155, learning rate: 1.0000000000000005e-09, Training Loss: 0.3426, Training Accuracy: 0.8780, Test Loss: 0.5692, Test Accuracy: 0.8148\n"
          ]
        },
        {
          "output_type": "stream",
          "name": "stderr",
          "text": [
            "Epoch 156: 100%|██████████| 176/176 [00:22<00:00,  7.92batch/s, accuracy=0.878, loss=0.346]\n",
            "Epoch 156: 100%|██████████| 36/36 [00:02<00:00, 12.61batch/s, accuracy=0.816, loss=0.568]\n"
          ]
        },
        {
          "output_type": "stream",
          "name": "stdout",
          "text": [
            "Epoch: 156, learning rate: 1.0000000000000005e-09, Training Loss: 0.3455, Training Accuracy: 0.8776, Test Loss: 0.5684, Test Accuracy: 0.8156\n"
          ]
        },
        {
          "output_type": "stream",
          "name": "stderr",
          "text": [
            "Epoch 157: 100%|██████████| 176/176 [00:22<00:00,  7.91batch/s, accuracy=0.876, loss=0.345]\n",
            "Epoch 157: 100%|██████████| 36/36 [00:02<00:00, 12.90batch/s, accuracy=0.815, loss=0.572]\n"
          ]
        },
        {
          "output_type": "stream",
          "name": "stdout",
          "text": [
            "Epoch: 157, learning rate: 1.0000000000000005e-09, Training Loss: 0.3446, Training Accuracy: 0.8758, Test Loss: 0.5716, Test Accuracy: 0.8153\n"
          ]
        },
        {
          "output_type": "stream",
          "name": "stderr",
          "text": [
            "Epoch 158: 100%|██████████| 176/176 [00:22<00:00,  7.87batch/s, accuracy=0.878, loss=0.344]\n",
            "Epoch 158: 100%|██████████| 36/36 [00:02<00:00, 12.32batch/s, accuracy=0.814, loss=0.571]\n"
          ]
        },
        {
          "output_type": "stream",
          "name": "stdout",
          "text": [
            "Epoch: 158, learning rate: 1.0000000000000005e-09, Training Loss: 0.3438, Training Accuracy: 0.8778, Test Loss: 0.5714, Test Accuracy: 0.8142\n"
          ]
        },
        {
          "output_type": "stream",
          "name": "stderr",
          "text": [
            "Epoch 159: 100%|██████████| 176/176 [00:22<00:00,  7.84batch/s, accuracy=0.875, loss=0.346]\n",
            "Epoch 159: 100%|██████████| 36/36 [00:02<00:00, 12.70batch/s, accuracy=0.816, loss=0.57]\n"
          ]
        },
        {
          "output_type": "stream",
          "name": "stdout",
          "text": [
            "Epoch: 159, learning rate: 1.0000000000000005e-09, Training Loss: 0.3464, Training Accuracy: 0.8754, Test Loss: 0.5696, Test Accuracy: 0.8157\n"
          ]
        },
        {
          "output_type": "stream",
          "name": "stderr",
          "text": [
            "Epoch 160: 100%|██████████| 176/176 [00:22<00:00,  7.90batch/s, accuracy=0.875, loss=0.349]\n",
            "Epoch 160: 100%|██████████| 36/36 [00:02<00:00, 12.46batch/s, accuracy=0.814, loss=0.571]\n"
          ]
        },
        {
          "output_type": "stream",
          "name": "stdout",
          "text": [
            "Epoch: 160, learning rate: 1.0000000000000006e-10, Training Loss: 0.3488, Training Accuracy: 0.8751, Test Loss: 0.5710, Test Accuracy: 0.8144\n"
          ]
        },
        {
          "output_type": "stream",
          "name": "stderr",
          "text": [
            "Epoch 161: 100%|██████████| 176/176 [00:22<00:00,  7.94batch/s, accuracy=0.877, loss=0.346]\n",
            "Epoch 161: 100%|██████████| 36/36 [00:02<00:00, 12.13batch/s, accuracy=0.816, loss=0.57]\n"
          ]
        },
        {
          "output_type": "stream",
          "name": "stdout",
          "text": [
            "Epoch: 161, learning rate: 1.0000000000000006e-10, Training Loss: 0.3462, Training Accuracy: 0.8772, Test Loss: 0.5701, Test Accuracy: 0.8158\n"
          ]
        },
        {
          "output_type": "stream",
          "name": "stderr",
          "text": [
            "Epoch 162: 100%|██████████| 176/176 [00:21<00:00,  8.02batch/s, accuracy=0.875, loss=0.347]\n",
            "Epoch 162: 100%|██████████| 36/36 [00:03<00:00, 10.48batch/s, accuracy=0.815, loss=0.569]\n"
          ]
        },
        {
          "output_type": "stream",
          "name": "stdout",
          "text": [
            "Epoch: 162, learning rate: 1.0000000000000006e-10, Training Loss: 0.3470, Training Accuracy: 0.8752, Test Loss: 0.5693, Test Accuracy: 0.8146\n"
          ]
        },
        {
          "output_type": "stream",
          "name": "stderr",
          "text": [
            "Epoch 163: 100%|██████████| 176/176 [00:21<00:00,  8.10batch/s, accuracy=0.875, loss=0.347]\n",
            "Epoch 163: 100%|██████████| 36/36 [00:03<00:00,  9.53batch/s, accuracy=0.816, loss=0.568]\n"
          ]
        },
        {
          "output_type": "stream",
          "name": "stdout",
          "text": [
            "Epoch: 163, learning rate: 1.0000000000000006e-10, Training Loss: 0.3472, Training Accuracy: 0.8753, Test Loss: 0.5681, Test Accuracy: 0.8158\n"
          ]
        },
        {
          "output_type": "stream",
          "name": "stderr",
          "text": [
            "Epoch 164: 100%|██████████| 176/176 [00:21<00:00,  8.16batch/s, accuracy=0.877, loss=0.345]\n",
            "Epoch 164: 100%|██████████| 36/36 [00:04<00:00,  8.95batch/s, accuracy=0.815, loss=0.568]\n"
          ]
        },
        {
          "output_type": "stream",
          "name": "stdout",
          "text": [
            "Epoch: 164, learning rate: 1.0000000000000006e-10, Training Loss: 0.3454, Training Accuracy: 0.8765, Test Loss: 0.5682, Test Accuracy: 0.8149\n"
          ]
        },
        {
          "output_type": "stream",
          "name": "stderr",
          "text": [
            "Epoch 165: 100%|██████████| 176/176 [00:21<00:00,  8.21batch/s, accuracy=0.876, loss=0.347]\n",
            "Epoch 165: 100%|██████████| 36/36 [00:03<00:00, 10.01batch/s, accuracy=0.814, loss=0.571]\n"
          ]
        },
        {
          "output_type": "stream",
          "name": "stdout",
          "text": [
            "Epoch: 165, learning rate: 1.0000000000000006e-10, Training Loss: 0.3468, Training Accuracy: 0.8761, Test Loss: 0.5708, Test Accuracy: 0.8144\n"
          ]
        },
        {
          "output_type": "stream",
          "name": "stderr",
          "text": [
            "Epoch 166: 100%|██████████| 176/176 [00:21<00:00,  8.05batch/s, accuracy=0.876, loss=0.348]\n",
            "Epoch 166: 100%|██████████| 36/36 [00:03<00:00, 11.12batch/s, accuracy=0.815, loss=0.573]\n"
          ]
        },
        {
          "output_type": "stream",
          "name": "stdout",
          "text": [
            "Epoch: 166, learning rate: 1.0000000000000006e-10, Training Loss: 0.3480, Training Accuracy: 0.8761, Test Loss: 0.5726, Test Accuracy: 0.8151\n"
          ]
        },
        {
          "output_type": "stream",
          "name": "stderr",
          "text": [
            "Epoch 167: 100%|██████████| 176/176 [00:21<00:00,  8.01batch/s, accuracy=0.878, loss=0.344]\n",
            "Epoch 167: 100%|██████████| 36/36 [00:02<00:00, 12.79batch/s, accuracy=0.814, loss=0.571]\n"
          ]
        },
        {
          "output_type": "stream",
          "name": "stdout",
          "text": [
            "Epoch: 167, learning rate: 1.0000000000000006e-10, Training Loss: 0.3444, Training Accuracy: 0.8776, Test Loss: 0.5705, Test Accuracy: 0.8141\n"
          ]
        },
        {
          "output_type": "stream",
          "name": "stderr",
          "text": [
            "Epoch 168: 100%|██████████| 176/176 [00:22<00:00,  7.93batch/s, accuracy=0.876, loss=0.346]\n",
            "Epoch 168: 100%|██████████| 36/36 [00:02<00:00, 12.61batch/s, accuracy=0.816, loss=0.57]\n"
          ]
        },
        {
          "output_type": "stream",
          "name": "stdout",
          "text": [
            "Epoch: 168, learning rate: 1.0000000000000006e-10, Training Loss: 0.3461, Training Accuracy: 0.8761, Test Loss: 0.5705, Test Accuracy: 0.8163\n"
          ]
        },
        {
          "output_type": "stream",
          "name": "stderr",
          "text": [
            "Epoch 169: 100%|██████████| 176/176 [00:22<00:00,  7.98batch/s, accuracy=0.877, loss=0.346]\n",
            "Epoch 169: 100%|██████████| 36/36 [00:02<00:00, 12.83batch/s, accuracy=0.815, loss=0.571]\n"
          ]
        },
        {
          "output_type": "stream",
          "name": "stdout",
          "text": [
            "Epoch: 169, learning rate: 1.0000000000000006e-10, Training Loss: 0.3455, Training Accuracy: 0.8773, Test Loss: 0.5712, Test Accuracy: 0.8149\n"
          ]
        },
        {
          "output_type": "stream",
          "name": "stderr",
          "text": [
            "Epoch 170: 100%|██████████| 176/176 [00:22<00:00,  7.88batch/s, accuracy=0.877, loss=0.347]\n",
            "Epoch 170: 100%|██████████| 36/36 [00:02<00:00, 12.40batch/s, accuracy=0.815, loss=0.569]\n"
          ]
        },
        {
          "output_type": "stream",
          "name": "stdout",
          "text": [
            "Epoch: 170, learning rate: 1.0000000000000006e-10, Training Loss: 0.3471, Training Accuracy: 0.8774, Test Loss: 0.5686, Test Accuracy: 0.8150\n"
          ]
        },
        {
          "output_type": "stream",
          "name": "stderr",
          "text": [
            "Epoch 171: 100%|██████████| 176/176 [00:22<00:00,  7.96batch/s, accuracy=0.878, loss=0.343]\n",
            "Epoch 171: 100%|██████████| 36/36 [00:02<00:00, 12.79batch/s, accuracy=0.815, loss=0.572]\n"
          ]
        },
        {
          "output_type": "stream",
          "name": "stdout",
          "text": [
            "Epoch: 171, learning rate: 1.0000000000000006e-10, Training Loss: 0.3432, Training Accuracy: 0.8776, Test Loss: 0.5723, Test Accuracy: 0.8146\n"
          ]
        },
        {
          "output_type": "stream",
          "name": "stderr",
          "text": [
            "Epoch 172: 100%|██████████| 176/176 [00:22<00:00,  7.79batch/s, accuracy=0.877, loss=0.344]\n",
            "Epoch 172: 100%|██████████| 36/36 [00:02<00:00, 12.42batch/s, accuracy=0.813, loss=0.571]\n"
          ]
        },
        {
          "output_type": "stream",
          "name": "stdout",
          "text": [
            "Epoch: 172, learning rate: 1.0000000000000006e-10, Training Loss: 0.3444, Training Accuracy: 0.8774, Test Loss: 0.5714, Test Accuracy: 0.8130\n"
          ]
        },
        {
          "output_type": "stream",
          "name": "stderr",
          "text": [
            "Epoch 173: 100%|██████████| 176/176 [00:22<00:00,  7.79batch/s, accuracy=0.874, loss=0.351]\n",
            "Epoch 173: 100%|██████████| 36/36 [00:02<00:00, 12.34batch/s, accuracy=0.815, loss=0.569]\n"
          ]
        },
        {
          "output_type": "stream",
          "name": "stdout",
          "text": [
            "Epoch: 173, learning rate: 1.0000000000000006e-10, Training Loss: 0.3507, Training Accuracy: 0.8743, Test Loss: 0.5691, Test Accuracy: 0.8152\n"
          ]
        },
        {
          "output_type": "stream",
          "name": "stderr",
          "text": [
            "Epoch 174: 100%|██████████| 176/176 [00:22<00:00,  7.87batch/s, accuracy=0.875, loss=0.35]\n",
            "Epoch 174: 100%|██████████| 36/36 [00:02<00:00, 12.06batch/s, accuracy=0.814, loss=0.572]\n"
          ]
        },
        {
          "output_type": "stream",
          "name": "stdout",
          "text": [
            "Epoch: 174, learning rate: 1.0000000000000006e-10, Training Loss: 0.3501, Training Accuracy: 0.8746, Test Loss: 0.5716, Test Accuracy: 0.8143\n"
          ]
        },
        {
          "output_type": "stream",
          "name": "stderr",
          "text": [
            "Epoch 175: 100%|██████████| 176/176 [00:21<00:00,  8.11batch/s, accuracy=0.875, loss=0.349]\n",
            "Epoch 175: 100%|██████████| 36/36 [00:03<00:00, 10.03batch/s, accuracy=0.815, loss=0.57]\n"
          ]
        },
        {
          "output_type": "stream",
          "name": "stdout",
          "text": [
            "Epoch: 175, learning rate: 1.0000000000000006e-10, Training Loss: 0.3487, Training Accuracy: 0.8749, Test Loss: 0.5705, Test Accuracy: 0.8150\n"
          ]
        },
        {
          "output_type": "stream",
          "name": "stderr",
          "text": [
            "Epoch 176: 100%|██████████| 176/176 [00:21<00:00,  8.16batch/s, accuracy=0.877, loss=0.344]\n",
            "Epoch 176: 100%|██████████| 36/36 [00:03<00:00,  9.35batch/s, accuracy=0.815, loss=0.571]\n"
          ]
        },
        {
          "output_type": "stream",
          "name": "stdout",
          "text": [
            "Epoch: 176, learning rate: 1.0000000000000006e-10, Training Loss: 0.3438, Training Accuracy: 0.8774, Test Loss: 0.5715, Test Accuracy: 0.8146\n"
          ]
        },
        {
          "output_type": "stream",
          "name": "stderr",
          "text": [
            "Epoch 177: 100%|██████████| 176/176 [00:21<00:00,  8.27batch/s, accuracy=0.874, loss=0.35]\n",
            "Epoch 177: 100%|██████████| 36/36 [00:03<00:00,  9.19batch/s, accuracy=0.815, loss=0.571]\n"
          ]
        },
        {
          "output_type": "stream",
          "name": "stdout",
          "text": [
            "Epoch: 177, learning rate: 1.0000000000000006e-10, Training Loss: 0.3498, Training Accuracy: 0.8741, Test Loss: 0.5713, Test Accuracy: 0.8150\n"
          ]
        },
        {
          "output_type": "stream",
          "name": "stderr",
          "text": [
            "Epoch 178: 100%|██████████| 176/176 [00:21<00:00,  8.35batch/s, accuracy=0.875, loss=0.348]\n",
            "Epoch 178: 100%|██████████| 36/36 [00:03<00:00, 11.11batch/s, accuracy=0.814, loss=0.572]\n"
          ]
        },
        {
          "output_type": "stream",
          "name": "stdout",
          "text": [
            "Epoch: 178, learning rate: 1.0000000000000006e-10, Training Loss: 0.3481, Training Accuracy: 0.8752, Test Loss: 0.5723, Test Accuracy: 0.8144\n"
          ]
        },
        {
          "output_type": "stream",
          "name": "stderr",
          "text": [
            "Epoch 179: 100%|██████████| 176/176 [00:22<00:00,  7.98batch/s, accuracy=0.875, loss=0.347]\n",
            "Epoch 179: 100%|██████████| 36/36 [00:02<00:00, 12.63batch/s, accuracy=0.816, loss=0.569]\n"
          ]
        },
        {
          "output_type": "stream",
          "name": "stdout",
          "text": [
            "Epoch: 179, learning rate: 1.0000000000000006e-10, Training Loss: 0.3469, Training Accuracy: 0.8751, Test Loss: 0.5694, Test Accuracy: 0.8161\n"
          ]
        },
        {
          "output_type": "stream",
          "name": "stderr",
          "text": [
            "Epoch 180: 100%|██████████| 176/176 [00:22<00:00,  7.80batch/s, accuracy=0.877, loss=0.347]\n",
            "Epoch 180: 100%|██████████| 36/36 [00:02<00:00, 12.23batch/s, accuracy=0.815, loss=0.572]\n"
          ]
        },
        {
          "output_type": "stream",
          "name": "stdout",
          "text": [
            "Epoch: 180, learning rate: 1.0000000000000006e-11, Training Loss: 0.3472, Training Accuracy: 0.8769, Test Loss: 0.5722, Test Accuracy: 0.8151\n"
          ]
        },
        {
          "output_type": "stream",
          "name": "stderr",
          "text": [
            "Epoch 181: 100%|██████████| 176/176 [00:22<00:00,  7.90batch/s, accuracy=0.876, loss=0.345]\n",
            "Epoch 181: 100%|██████████| 36/36 [00:02<00:00, 12.17batch/s, accuracy=0.814, loss=0.57]\n"
          ]
        },
        {
          "output_type": "stream",
          "name": "stdout",
          "text": [
            "Epoch: 181, learning rate: 1.0000000000000006e-11, Training Loss: 0.3452, Training Accuracy: 0.8762, Test Loss: 0.5696, Test Accuracy: 0.8144\n"
          ]
        },
        {
          "output_type": "stream",
          "name": "stderr",
          "text": [
            "Epoch 182: 100%|██████████| 176/176 [00:22<00:00,  7.93batch/s, accuracy=0.875, loss=0.344]\n",
            "Epoch 182: 100%|██████████| 36/36 [00:02<00:00, 12.42batch/s, accuracy=0.814, loss=0.57]\n"
          ]
        },
        {
          "output_type": "stream",
          "name": "stdout",
          "text": [
            "Epoch: 182, learning rate: 1.0000000000000006e-11, Training Loss: 0.3437, Training Accuracy: 0.8754, Test Loss: 0.5704, Test Accuracy: 0.8141\n"
          ]
        },
        {
          "output_type": "stream",
          "name": "stderr",
          "text": [
            "Epoch 183: 100%|██████████| 176/176 [00:22<00:00,  7.92batch/s, accuracy=0.876, loss=0.343]\n",
            "Epoch 183: 100%|██████████| 36/36 [00:02<00:00, 12.68batch/s, accuracy=0.814, loss=0.571]\n"
          ]
        },
        {
          "output_type": "stream",
          "name": "stdout",
          "text": [
            "Epoch: 183, learning rate: 1.0000000000000006e-11, Training Loss: 0.3431, Training Accuracy: 0.8762, Test Loss: 0.5706, Test Accuracy: 0.8143\n"
          ]
        },
        {
          "output_type": "stream",
          "name": "stderr",
          "text": [
            "Epoch 184: 100%|██████████| 176/176 [00:22<00:00,  7.97batch/s, accuracy=0.874, loss=0.349]\n",
            "Epoch 184: 100%|██████████| 36/36 [00:02<00:00, 13.02batch/s, accuracy=0.816, loss=0.571]\n"
          ]
        },
        {
          "output_type": "stream",
          "name": "stdout",
          "text": [
            "Epoch: 184, learning rate: 1.0000000000000006e-11, Training Loss: 0.3489, Training Accuracy: 0.8738, Test Loss: 0.5711, Test Accuracy: 0.8161\n"
          ]
        },
        {
          "output_type": "stream",
          "name": "stderr",
          "text": [
            "Epoch 185: 100%|██████████| 176/176 [00:21<00:00,  8.07batch/s, accuracy=0.878, loss=0.343]\n",
            "Epoch 185: 100%|██████████| 36/36 [00:02<00:00, 12.06batch/s, accuracy=0.814, loss=0.572]\n"
          ]
        },
        {
          "output_type": "stream",
          "name": "stdout",
          "text": [
            "Epoch: 185, learning rate: 1.0000000000000006e-11, Training Loss: 0.3435, Training Accuracy: 0.8784, Test Loss: 0.5717, Test Accuracy: 0.8142\n"
          ]
        },
        {
          "output_type": "stream",
          "name": "stderr",
          "text": [
            "Epoch 186: 100%|██████████| 176/176 [00:21<00:00,  8.10batch/s, accuracy=0.875, loss=0.345]\n",
            "Epoch 186: 100%|██████████| 36/36 [00:03<00:00, 10.53batch/s, accuracy=0.815, loss=0.572]\n"
          ]
        },
        {
          "output_type": "stream",
          "name": "stdout",
          "text": [
            "Epoch: 186, learning rate: 1.0000000000000006e-11, Training Loss: 0.3451, Training Accuracy: 0.8749, Test Loss: 0.5721, Test Accuracy: 0.8148\n"
          ]
        },
        {
          "output_type": "stream",
          "name": "stderr",
          "text": [
            "Epoch 187: 100%|██████████| 176/176 [00:20<00:00,  8.40batch/s, accuracy=0.877, loss=0.347]\n",
            "Epoch 187: 100%|██████████| 36/36 [00:03<00:00,  9.49batch/s, accuracy=0.815, loss=0.573]\n"
          ]
        },
        {
          "output_type": "stream",
          "name": "stdout",
          "text": [
            "Epoch: 187, learning rate: 1.0000000000000006e-11, Training Loss: 0.3471, Training Accuracy: 0.8770, Test Loss: 0.5731, Test Accuracy: 0.8149\n"
          ]
        },
        {
          "output_type": "stream",
          "name": "stderr",
          "text": [
            "Epoch 188: 100%|██████████| 176/176 [00:20<00:00,  8.41batch/s, accuracy=0.878, loss=0.346]\n",
            "Epoch 188: 100%|██████████| 36/36 [00:03<00:00, 10.55batch/s, accuracy=0.815, loss=0.569]\n"
          ]
        },
        {
          "output_type": "stream",
          "name": "stdout",
          "text": [
            "Epoch: 188, learning rate: 1.0000000000000006e-11, Training Loss: 0.3456, Training Accuracy: 0.8779, Test Loss: 0.5694, Test Accuracy: 0.8151\n"
          ]
        },
        {
          "output_type": "stream",
          "name": "stderr",
          "text": [
            "Epoch 189: 100%|██████████| 176/176 [00:21<00:00,  8.18batch/s, accuracy=0.875, loss=0.349]\n",
            "Epoch 189: 100%|██████████| 36/36 [00:02<00:00, 12.69batch/s, accuracy=0.816, loss=0.57]\n"
          ]
        },
        {
          "output_type": "stream",
          "name": "stdout",
          "text": [
            "Epoch: 189, learning rate: 1.0000000000000006e-11, Training Loss: 0.3494, Training Accuracy: 0.8755, Test Loss: 0.5705, Test Accuracy: 0.8160\n"
          ]
        },
        {
          "output_type": "stream",
          "name": "stderr",
          "text": [
            "Epoch 190: 100%|██████████| 176/176 [00:22<00:00,  7.95batch/s, accuracy=0.876, loss=0.349]\n",
            "Epoch 190: 100%|██████████| 36/36 [00:02<00:00, 12.56batch/s, accuracy=0.816, loss=0.573]\n"
          ]
        },
        {
          "output_type": "stream",
          "name": "stdout",
          "text": [
            "Epoch: 190, learning rate: 1.0000000000000006e-11, Training Loss: 0.3487, Training Accuracy: 0.8757, Test Loss: 0.5729, Test Accuracy: 0.8156\n"
          ]
        },
        {
          "output_type": "stream",
          "name": "stderr",
          "text": [
            "Epoch 191: 100%|██████████| 176/176 [00:22<00:00,  7.87batch/s, accuracy=0.876, loss=0.345]\n",
            "Epoch 191: 100%|██████████| 36/36 [00:02<00:00, 12.54batch/s, accuracy=0.814, loss=0.57]\n"
          ]
        },
        {
          "output_type": "stream",
          "name": "stdout",
          "text": [
            "Epoch: 191, learning rate: 1.0000000000000006e-11, Training Loss: 0.3454, Training Accuracy: 0.8763, Test Loss: 0.5702, Test Accuracy: 0.8137\n"
          ]
        },
        {
          "output_type": "stream",
          "name": "stderr",
          "text": [
            "Epoch 192: 100%|██████████| 176/176 [00:22<00:00,  8.00batch/s, accuracy=0.877, loss=0.343]\n",
            "Epoch 192: 100%|██████████| 36/36 [00:02<00:00, 12.59batch/s, accuracy=0.815, loss=0.573]\n"
          ]
        },
        {
          "output_type": "stream",
          "name": "stdout",
          "text": [
            "Epoch: 192, learning rate: 1.0000000000000006e-11, Training Loss: 0.3435, Training Accuracy: 0.8766, Test Loss: 0.5726, Test Accuracy: 0.8153\n"
          ]
        },
        {
          "output_type": "stream",
          "name": "stderr",
          "text": [
            "Epoch 193: 100%|██████████| 176/176 [00:22<00:00,  7.87batch/s, accuracy=0.877, loss=0.347]\n",
            "Epoch 193: 100%|██████████| 36/36 [00:02<00:00, 12.69batch/s, accuracy=0.814, loss=0.572]\n"
          ]
        },
        {
          "output_type": "stream",
          "name": "stdout",
          "text": [
            "Epoch: 193, learning rate: 1.0000000000000006e-11, Training Loss: 0.3465, Training Accuracy: 0.8766, Test Loss: 0.5717, Test Accuracy: 0.8144\n"
          ]
        },
        {
          "output_type": "stream",
          "name": "stderr",
          "text": [
            "Epoch 194: 100%|██████████| 176/176 [00:22<00:00,  7.85batch/s, accuracy=0.877, loss=0.346]\n",
            "Epoch 194: 100%|██████████| 36/36 [00:02<00:00, 12.61batch/s, accuracy=0.815, loss=0.571]\n"
          ]
        },
        {
          "output_type": "stream",
          "name": "stdout",
          "text": [
            "Epoch: 194, learning rate: 1.0000000000000006e-11, Training Loss: 0.3465, Training Accuracy: 0.8768, Test Loss: 0.5711, Test Accuracy: 0.8147\n"
          ]
        },
        {
          "output_type": "stream",
          "name": "stderr",
          "text": [
            "Epoch 195: 100%|██████████| 176/176 [00:22<00:00,  7.91batch/s, accuracy=0.874, loss=0.349]\n",
            "Epoch 195: 100%|██████████| 36/36 [00:02<00:00, 12.22batch/s, accuracy=0.816, loss=0.572]\n"
          ]
        },
        {
          "output_type": "stream",
          "name": "stdout",
          "text": [
            "Epoch: 195, learning rate: 1.0000000000000006e-11, Training Loss: 0.3486, Training Accuracy: 0.8740, Test Loss: 0.5716, Test Accuracy: 0.8156\n"
          ]
        },
        {
          "output_type": "stream",
          "name": "stderr",
          "text": [
            "Epoch 196: 100%|██████████| 176/176 [00:21<00:00,  8.09batch/s, accuracy=0.877, loss=0.346]\n",
            "Epoch 196: 100%|██████████| 36/36 [00:03<00:00, 10.90batch/s, accuracy=0.814, loss=0.568]\n"
          ]
        },
        {
          "output_type": "stream",
          "name": "stdout",
          "text": [
            "Epoch: 196, learning rate: 1.0000000000000006e-11, Training Loss: 0.3460, Training Accuracy: 0.8775, Test Loss: 0.5685, Test Accuracy: 0.8137\n"
          ]
        },
        {
          "output_type": "stream",
          "name": "stderr",
          "text": [
            "Epoch 197: 100%|██████████| 176/176 [00:20<00:00,  8.40batch/s, accuracy=0.878, loss=0.344]\n",
            "Epoch 197: 100%|██████████| 36/36 [00:03<00:00,  9.01batch/s, accuracy=0.815, loss=0.572]\n"
          ]
        },
        {
          "output_type": "stream",
          "name": "stdout",
          "text": [
            "Epoch: 197, learning rate: 1.0000000000000006e-11, Training Loss: 0.3435, Training Accuracy: 0.8783, Test Loss: 0.5720, Test Accuracy: 0.8146\n"
          ]
        },
        {
          "output_type": "stream",
          "name": "stderr",
          "text": [
            "Epoch 198: 100%|██████████| 176/176 [00:21<00:00,  8.27batch/s, accuracy=0.876, loss=0.348]\n",
            "Epoch 198: 100%|██████████| 36/36 [00:03<00:00,  9.64batch/s, accuracy=0.815, loss=0.572]\n"
          ]
        },
        {
          "output_type": "stream",
          "name": "stdout",
          "text": [
            "Epoch: 198, learning rate: 1.0000000000000006e-11, Training Loss: 0.3484, Training Accuracy: 0.8763, Test Loss: 0.5715, Test Accuracy: 0.8150\n"
          ]
        },
        {
          "output_type": "stream",
          "name": "stderr",
          "text": [
            "Epoch 199: 100%|██████████| 176/176 [00:21<00:00,  8.11batch/s, accuracy=0.875, loss=0.349]\n",
            "Epoch 199: 100%|██████████| 36/36 [00:03<00:00, 10.69batch/s, accuracy=0.815, loss=0.57]\n"
          ]
        },
        {
          "output_type": "stream",
          "name": "stdout",
          "text": [
            "Epoch: 199, learning rate: 1.0000000000000006e-11, Training Loss: 0.3492, Training Accuracy: 0.8752, Test Loss: 0.5696, Test Accuracy: 0.8151\n"
          ]
        },
        {
          "output_type": "stream",
          "name": "stderr",
          "text": [
            "Epoch 200: 100%|██████████| 176/176 [00:21<00:00,  8.07batch/s, accuracy=0.876, loss=0.347]\n",
            "Epoch 200: 100%|██████████| 36/36 [00:02<00:00, 12.05batch/s, accuracy=0.814, loss=0.571]\n"
          ]
        },
        {
          "output_type": "stream",
          "name": "stdout",
          "text": [
            "Epoch: 200, learning rate: 1.0000000000000006e-12, Training Loss: 0.3470, Training Accuracy: 0.8759, Test Loss: 0.5705, Test Accuracy: 0.8142\n"
          ]
        },
        {
          "output_type": "display_data",
          "data": {
            "text/plain": [
              "<Figure size 640x480 with 1 Axes>"
            ],
            "image/png": "[encoded data removed]"
          },
          "metadata": {}
        },
        {
          "output_type": "display_data",
          "data": {
            "text/plain": [
              "<Figure size 640x480 with 1 Axes>"
            ],
            "image/png": "[encoded data removed]"
          },
          "metadata": {}
        }
      ]
    },
    {
      "cell_type": "code",
      "source": [
        "import torch\n",
        "import torch.nn as nn\n",
        "import torchvision.datasets as datasets\n",
        "import torchvision.transforms as transforms\n",
        "\n",
        "\n",
        "#Threshold Selection\n",
        "\n",
        "model.to(device)\n",
        "model.eval()\n",
        "\n",
        "softmax_threshold = 0.0  # Initialize the threshold\n",
        "\n",
        "# Pass the original validation set through the model to obtain softmax probabilities\n",
        "with torch.no_grad():\n",
        "    softmax_probs = []\n",
        "    for images, _ in test_loader:\n",
        "        images = images.to(device)\n",
        "        outputs = model(images)\n",
        "        softmax_probs.extend(torch.softmax(outputs, dim=1).max(dim=1).values.tolist())\n",
        "\n",
        "# Sort the softmax probabilities and select the threshold\n",
        "sorted_softmax_probs = sorted(softmax_probs, reverse=True)\n",
        "threshold_index = int(0.95 * len(sorted_softmax_probs))\n",
        "softmax_threshold = sorted_softmax_probs[threshold_index]\n"
      ],
      "metadata": {
        "id": "oNj_wMomHTAY"
      },
      "execution_count": 23,
      "outputs": []
    },
    {
      "cell_type": "code",
      "source": [
        "softmax_threshold\n",
        "\n"
      ],
      "metadata": {
        "id": "ZrJtMPjZ-5YK",
        "outputId": "9ac820dd-1bcb-4026-bde4-01bf147c9d83",
        "colab": {
          "base_uri": "https://localhost:8080/"
        }
      },
      "execution_count": 24,
      "outputs": [
        {
          "output_type": "execute_result",
          "data": {
            "text/plain": [
              "0.4942605495452881"
            ]
          },
          "metadata": {},
          "execution_count": 24
        }
      ]
    },
    {
      "cell_type": "code",
      "source": [
        "import numpy as np\n",
        "import matplotlib.pyplot as plt\n",
        "\n",
        "softmax_magnitudes = []\n",
        "\n",
        "# Iterate over the test loader and calculate the softmax magnitude for each sample\n",
        "with torch.no_grad():\n",
        "    for images, _ in test_loader:\n",
        "        images = images.to(device)\n",
        "        outputs = model(images)\n",
        "        softmax_probs = torch.softmax(outputs, dim=1)\n",
        "        softmax_magnitudes.extend(torch.max(softmax_probs, dim=1).values.tolist())\n",
        "\n",
        "# Convert the softmax magnitudes to a numpy array\n",
        "softmax_magnitudes = np.array(softmax_magnitudes)\n",
        "\n",
        "# Plot the distribution of softmax magnitudes\n",
        "plt.figure(figsize=(10, 6))\n",
        "plt.hist(softmax_magnitudes, bins=50)\n",
        "plt.xlabel('Softmax Magnitude')\n",
        "plt.ylabel('Frequency')\n",
        "plt.title('Distribution of Softmax Magnitudes for Test Set')\n",
        "plt.show()"
      ],
      "metadata": {
        "id": "h_yRuWle--dM",
        "outputId": "e6f683b2-a77e-4da8-de67-e284a6bfc961",
        "colab": {
          "base_uri": "https://localhost:8080/",
          "height": 564
        }
      },
      "execution_count": 25,
      "outputs": [
        {
          "output_type": "display_data",
          "data": {
            "text/plain": [
              "<Figure size 1000x600 with 1 Axes>"
            ],
            "image/png": "[encoded data removed]"
          },
          "metadata": {}
        }
      ]
    },
    {
      "cell_type": "code",
      "source": [
        "cifar_dataset = datasets.CIFAR10(root='./data', train=False, download=True, transform=transform_test)\n",
        "frog_indices = [i for i, label in enumerate(cifar_dataset.targets) if label == 3]  # 3 represents the cat class\n",
        "frog_dataset = torch.utils.data.Subset(cifar_dataset, frog_indices)\n",
        "\n",
        "frog_dataloader_test = torch.utils.data.DataLoader(frog_dataset, batch_size=64, shuffle=False)\n",
        "\n",
        "# Step 2: OOD Detection\n",
        "ood_samples = 0\n",
        "total_samples = 0\n",
        "\n",
        "# Pass the OOD validation set (frog class) through the model and classify samples\n",
        "with torch.no_grad():\n",
        "    for images, _ in frog_dataloader_test:\n",
        "        images = images.to(device)\n",
        "        outputs = model(images)\n",
        "        softmax_probs = torch.softmax(outputs, dim=1)\n",
        "        max_softmax_probs, _ = softmax_probs.max(dim=1)\n",
        "\n",
        "        ood_samples += (max_softmax_probs < softmax_threshold).sum().item()\n",
        "        total_samples += len(max_softmax_probs)\n",
        "\n",
        "ood_detection_percentage = (ood_samples / total_samples) * 100\n",
        "print(f\"Percentage of frog samples classified as out-of-distribution: {ood_detection_percentage}%\")\n"
      ],
      "metadata": {
        "id": "vT6GkYGR_DOT",
        "outputId": "e591e6dd-4a58-4a63-94b1-9a3c022ee648",
        "colab": {
          "base_uri": "https://localhost:8080/"
        }
      },
      "execution_count": 26,
      "outputs": [
        {
          "output_type": "stream",
          "name": "stdout",
          "text": [
            "Files already downloaded and verified\n",
            "Percentage of frog samples classified as out-of-distribution: 9.3%\n"
          ]
        }
      ]
    },
    {
      "cell_type": "code",
      "source": [
        "\n",
        "import numpy as np\n",
        "import matplotlib.pyplot as plt\n",
        "\n",
        "softmax_magnitudes = []\n",
        "\n",
        "# Iterate over the test loader and calculate the softmax magnitude for each sample\n",
        "with torch.no_grad():\n",
        "    for images, _ in frog_dataloader_test:\n",
        "        images = images.to(device)\n",
        "        outputs = model(images)\n",
        "        softmax_probs = torch.softmax(outputs, dim=1)\n",
        "        softmax_magnitudes.extend(torch.max(softmax_probs, dim=1).values.tolist())\n",
        "\n",
        "# Convert the softmax magnitudes to a numpy array\n",
        "softmax_magnitudes = np.array(softmax_magnitudes)\n",
        "\n",
        "# Plot the distribution of softmax magnitudes\n",
        "plt.figure(figsize=(10, 6))\n",
        "plt.hist(softmax_magnitudes, bins=50)\n",
        "plt.xlabel('Softmax Magnitude')\n",
        "plt.ylabel('Frequency')\n",
        "plt.title('Distribution of Softmax Magnitudes for Test Set')\n",
        "plt.show()"
      ],
      "metadata": {
        "id": "OWOUxZlX-zeR",
        "outputId": "37d8bab6-b6c2-494d-db1a-8d3eda042de3",
        "colab": {
          "base_uri": "https://localhost:8080/",
          "height": 564
        }
      },
      "execution_count": 27,
      "outputs": [
        {
          "output_type": "display_data",
          "data": {
            "text/plain": [
              "<Figure size 1000x600 with 1 Axes>"
            ],
            "image/png": "[encoded data removed]"
          },
          "metadata": {}
        }
      ]
    }
  ]
}